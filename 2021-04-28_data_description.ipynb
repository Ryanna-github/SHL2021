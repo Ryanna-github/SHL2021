{
 "metadata": {
  "language_info": {
   "codemirror_mode": {
    "name": "ipython",
    "version": 3
   },
   "file_extension": ".py",
   "mimetype": "text/x-python",
   "name": "python",
   "nbconvert_exporter": "python",
   "pygments_lexer": "ipython3",
   "version": "3.8.5"
  },
  "orig_nbformat": 2,
  "kernelspec": {
   "name": "python3",
   "display_name": "Python 3.8.5 64-bit ('base': conda)",
   "metadata": {
    "interpreter": {
     "hash": "dca0ade3e726a953b501b15e8e990130d2b7799f14cfd9f4271676035ebe5511"
    }
   }
  }
 },
 "nbformat": 4,
 "nbformat_minor": 2,
 "cells": [
  {
   "cell_type": "code",
   "execution_count": 29,
   "metadata": {},
   "outputs": [],
   "source": [
    "import pandas as pd\n",
    "import numpy as np\n",
    "import re\n",
    "import time\n",
    "import matplotlib.pyplot as plt\n",
    "from collections import Counter\n",
    "import pickle\n",
    "import utm\n",
    "import random\n",
    "import matplotlib as mpl\n",
    "import seaborn as sns\n",
    "from sklearn.preprocessing import OneHotEncoder\n",
    "\n",
    "from utils import DataLoader, TimeKeeper"
   ]
  },
  {
   "cell_type": "code",
   "execution_count": 2,
   "metadata": {},
   "outputs": [],
   "source": [
    "plt.style.use(\"dark_background\")\n",
    "\n",
    "%load_ext autoreload\n",
    "%autoreload 2"
   ]
  },
  {
   "cell_type": "code",
   "execution_count": 3,
   "metadata": {},
   "outputs": [],
   "source": [
    "label_dic = {1: 'Still', 2: 'Walking', 3: 'Run', 4: 'Bike', 5: 'Car', 6: 'Bus', 7: 'Train', 8: 'Subway'}\n",
    "cmap = mpl.cm.get_cmap('viridis', 8)\n",
    "label_cols = cmap(np.linspace(0, 1, 8))\n",
    "label_cols = [mpl.colors.to_hex(i) for i in label_cols]\n",
    "# label_cols"
   ]
  },
  {
   "cell_type": "code",
   "execution_count": 4,
   "metadata": {},
   "outputs": [],
   "source": [
    "# data = DataLoader.SHLDataLoader('data/train/', ratio = 0.1)"
   ]
  },
  {
   "cell_type": "code",
   "execution_count": 5,
   "metadata": {},
   "outputs": [],
   "source": [
    "# data.load_all(detail = True)"
   ]
  },
  {
   "cell_type": "code",
   "execution_count": 6,
   "metadata": {},
   "outputs": [],
   "source": [
    "# save\n",
    "# file = open('data/mid_res/data_detail.pickle', 'wb')\n",
    "# pickle.dump(data, file)\n",
    "# file.close()"
   ]
  },
  {
   "cell_type": "code",
   "execution_count": 81,
   "metadata": {},
   "outputs": [],
   "source": [
    "# load\n",
    "with open('data/mid_res/data_detail_full.pickle', 'rb') as file:\n",
    "    data = pickle.load(file)"
   ]
  },
  {
   "source": [
    "# Feature Extraction"
   ],
   "cell_type": "markdown",
   "metadata": {}
  },
  {
   "cell_type": "code",
   "execution_count": 82,
   "metadata": {},
   "outputs": [],
   "source": [
    "# unit: 1s\n",
    "data.loc['time'] = data.loc.apply(lambda x: x['time'].astype('int').round(-3), axis = 1)\n",
    "data.gps['time'] = data.gps['time'].astype('int').round(-3)\n",
    "data.wifi['time'] = data.wifi['time'].astype('int').round(-3)\n",
    "data.cells['time'] = data.cells['time'].astype('int').round(-3)\n",
    "# data type\n",
    "data.gps['number'] = data.gps['number'].apply(pd.to_numeric)\n",
    "data.wifi['number'] = data.wifi['number'].apply(pd.to_numeric)\n",
    "data.cells['number'] = data.cells['number'].apply(pd.to_numeric)\n"
   ]
  },
  {
   "cell_type": "code",
   "execution_count": 83,
   "metadata": {},
   "outputs": [],
   "source": [
    "data.loc = data.loc.groupby(['time'], as_index = False).mean()[data.loc.columns.to_list()]\n",
    "data.gps = data.gps.groupby(['time'], as_index = False).mean()[data.gps.columns.to_list()]\n",
    "data.wifi = data.wifi.groupby(['time'], as_index = False).mean()[data.wifi.columns.to_list()]\n",
    "data.cells = data.cells.groupby(['time'], as_index = False).mean()[data.cells.columns.to_list()]"
   ]
  },
  {
   "cell_type": "code",
   "execution_count": 84,
   "metadata": {},
   "outputs": [],
   "source": [
    "data.df = pd.merge(data.label, data.loc, on = ['time'], how = 'left')\n",
    "data.df = pd.merge(data.df, data.gps.rename({\"number\": \"num_gps\"}, axis = 1), on = ['time'], how = 'left')\n",
    "data.df = pd.merge(data.df, data.wifi.rename({\"number\": \"num_wifi\"}, axis = 1), on = ['time'], how = 'left')\n",
    "data.df = pd.merge(data.df, data.cells.rename({\"number\": \"num_cells\"}, axis = 1), on = ['time'], how = 'left')\n",
    "\n",
    "# data.df = pd.merge(data.loc, data.gps.rename({\"number\": \"num_gps\"}, axis = 1), on = ['time'], how = 'outer')\n",
    "# data.df = pd.merge(data.df, data.wifi.rename({\"number\": \"num_wifi\"}, axis = 1), on = ['time'], how = 'outer')\n",
    "# data.df = pd.merge(data.df, data.cells.rename({\"number\": \"num_cells\"}, axis = 1), on = ['time'], how = 'outer')\n",
    "# data.df = pd.merge(data.df, data.label, on = ['time'], how = 'right')"
   ]
  },
  {
   "source": [
    "## loc speed"
   ],
   "cell_type": "markdown",
   "metadata": {}
  },
  {
   "cell_type": "code",
   "execution_count": 85,
   "metadata": {},
   "outputs": [],
   "source": [
    "# (latitude, longitude) -> east\n",
    "def gps2utm_east(x):\n",
    "    try:\n",
    "        return utm.from_latlon(x['latitude'], x['longitude'])[0]\n",
    "    except:\n",
    "        return np.nan\n",
    "# (latitude, longitude) -> north\n",
    "def gps2utm_north(x):\n",
    "    try:\n",
    "        return utm.from_latlon(x['latitude'], x['longitude'])[1]\n",
    "    except:\n",
    "        return np.nan"
   ]
  },
  {
   "cell_type": "code",
   "execution_count": 86,
   "metadata": {},
   "outputs": [],
   "source": [
    "# prepare\n",
    "data.df['time_dlt'] = data.df['time'].diff().fillna(method = 'bfill')\n",
    "data.df['valid_dlt'] = data.df.apply(lambda x: int(x['time_dlt'] <= 10000), axis = 1)\n",
    "# utm loc\n",
    "data.df['east'] = data.df.apply(lambda x: gps2utm_east(x), axis = 1)\n",
    "data.df['north'] = data.df.apply(lambda x: gps2utm_north(x), axis = 1)\n",
    "data.df['east_dlt'] = data.df['east'].diff(1)\n",
    "data.df['north_dlt'] = data.df['north'].diff(1)\n",
    "# speed\n",
    "data.df['east_speed'] = data.df.apply(lambda x: x['east_dlt']/x['time_dlt']*1000 if x['valid_dlt'] == 1 else np.nan, axis = 1)\n",
    "data.df['north_speed'] = data.df.apply(lambda x: x['north_dlt']/x['time_dlt']*1000 if x['valid_dlt'] == 1 else np.nan, axis = 1)\n",
    "data.df['east_speed'] = data.df['east_speed'].apply(lambda x: x if np.abs(x) < 300 else np.nan)\n",
    "data.df['north_speed'] = data.df['north_speed'].apply(lambda x: x if np.abs(x) < 300 else np.nan)\n",
    "data.df['speed'] = data.df.apply(lambda x: np.sqrt(x['east_speed']**2 + x['north_speed']**2), axis = 1)\n",
    "data.df['speed_dif'] = data.df.apply(lambda x: np.abs(x['east_speed'] - x['north_speed']), axis = 1)\n",
    "# acc \n",
    "data.df['acc'] = data.df.apply(lambda x: x['speed']/x['time_dlt'] if x['valid_dlt'] == 1 else np.nan, axis = 1)"
   ]
  },
  {
   "cell_type": "code",
   "execution_count": 87,
   "metadata": {},
   "outputs": [],
   "source": [
    "def plot_label_each(df, col_name, this_label):\n",
    "    # print(\"------- Plotting {} with label {} -------\".format(col_name, label_dic[this_label]))\n",
    "    label_index = np.where(df.label == this_label)[0]\n",
    "    p = plt.scatter(df.index[label_index], df[col_name][label_index], c = label_cols[this_label - 1], label = label_dic[this_label])\n",
    "    return p\n",
    "\n",
    "def plot_label(df, col_name):\n",
    "    plt.figure(figsize = [12, 8])\n",
    "    for this_label in np.unique(list(df.label)):\n",
    "        plot_label_each(df, col_name, this_label)\n",
    "    plt.legend(loc = 'best')\n",
    "    "
   ]
  },
  {
   "cell_type": "code",
   "execution_count": 88,
   "metadata": {},
   "outputs": [],
   "source": [
    "# plot_label(data.df, 'speed')"
   ]
  },
  {
   "cell_type": "code",
   "execution_count": 89,
   "metadata": {},
   "outputs": [],
   "source": [
    "# plot_label(data.df, 'north_speed')"
   ]
  },
  {
   "cell_type": "code",
   "execution_count": 92,
   "metadata": {},
   "outputs": [],
   "source": [
    "# plot_label(data.df, 'east_speed')"
   ]
  },
  {
   "source": [
    "## WiFi"
   ],
   "cell_type": "markdown",
   "metadata": {}
  },
  {
   "cell_type": "code",
   "execution_count": 93,
   "metadata": {},
   "outputs": [],
   "source": [
    "data.wifi_detail['time'] = data.wifi_detail['time'].astype(\"int\").round(-3)\n",
    "data.wifi_detail['wifi_rssi'] = data.wifi_detail['rssi'].apply(pd.to_numeric)\n",
    "data.wifi_detail['wifi_freq'] = data.wifi_detail['freq'].apply(pd.to_numeric)\n",
    "data.wifi_detail['wifi_freq'] = data.wifi_detail['wifi_freq'].apply(lambda x: 5 if x > 3000 else 2.4)"
   ]
  },
  {
   "cell_type": "code",
   "execution_count": 94,
   "metadata": {},
   "outputs": [],
   "source": [
    "tmp_wifi_mode = data.wifi_detail[['time', 'wifi_rssi']].groupby(['time'], as_index = False).agg(lambda x: Counter(x).most_common()[0][0]).add_suffix(\"_mode\")\n",
    "tmp_wifi_mean = data.wifi_detail[['time', 'wifi_rssi']].groupby(['time'], as_index = False).mean().add_suffix(\"_mean\")\n",
    "tmp_wifi_min = data.wifi_detail[['time', 'wifi_rssi']].groupby(['time'], as_index = False).min().add_suffix(\"_min\")\n",
    "tmp_wifi_max = data.wifi_detail[['time', 'wifi_rssi']].groupby(['time'], as_index = False).max().add_suffix(\"_max\")\n",
    "tmp_wifi_std = data.wifi_detail[['time', 'wifi_rssi']].groupby(['time'], as_index = False).std().add_suffix(\"_std\")"
   ]
  },
  {
   "cell_type": "code",
   "execution_count": 95,
   "metadata": {},
   "outputs": [],
   "source": [
    "tmp_wifi = pd.merge(tmp_wifi_mode.rename({\"time_mode\": \"time\"}, axis = 1), tmp_wifi_mean.rename({\"time_mean\": \"time\"}, axis = 1), on = ['time'])\n",
    "tmp_wifi = pd.merge(tmp_wifi, tmp_wifi_min.rename({\"time_min\": \"time\"}, axis = 1), on = ['time'])\n",
    "tmp_wifi = pd.merge(tmp_wifi, tmp_wifi_max.rename({\"time_max\": \"time\"}, axis = 1), on = ['time'])\n",
    "tmp_wifi = pd.merge(tmp_wifi, tmp_wifi_std.rename({\"time_std\": \"time\"}, axis = 1), on = ['time'])\n",
    "\n",
    "data.df = pd.merge(data.df, tmp_wifi, on = ['time'], how = 'left')"
   ]
  },
  {
   "cell_type": "code",
   "execution_count": 96,
   "metadata": {},
   "outputs": [],
   "source": [
    "# plot_label(data.df, 'wifi_rssi_mean')"
   ]
  },
  {
   "source": [
    "## Cells"
   ],
   "cell_type": "markdown",
   "metadata": {}
  },
  {
   "cell_type": "code",
   "execution_count": 97,
   "metadata": {},
   "outputs": [],
   "source": [
    "data.cells_detail['time'] = data.cells_detail['time'].astype(\"int\").round(-3)\n",
    "data.cells_detail['isRegistered'] = data.cells_detail['isRegistered'].apply(pd.to_numeric)\n",
    "data.cells_detail['asuLevel'] = data.cells_detail['asuLevel'].apply(pd.to_numeric)\n",
    "data.cells_detail['dbm'] = data.cells_detail['dbm'].apply(pd.to_numeric)\n",
    "data.cells_detail['level'] = data.cells_detail['level'].apply(pd.to_numeric)"
   ]
  },
  {
   "cell_type": "code",
   "execution_count": 98,
   "metadata": {},
   "outputs": [],
   "source": [
    "tmp_cells_mode = data.cells_detail[['time', 'ctype']].groupby(['time'], as_index = False).agg(lambda x: Counter(x).most_common()[0][0]).add_prefix(\"cells_\").add_suffix(\"_mode\")\n",
    "tmp_cells_mean = data.cells_detail[['time', 'isRegistered', 'asuLevel', 'dbm', 'level']].groupby(['time'], as_index = False).mean().add_prefix(\"cells_\").add_suffix(\"_mean\")\n",
    "tmp_cells_min = data.cells_detail[['time', 'asuLevel', 'dbm', 'level']].groupby(['time'], as_index = False).min().add_prefix(\"cells_\").add_suffix(\"_min\")\n",
    "tmp_cells_max = data.cells_detail[['time', 'asuLevel', 'dbm', 'level']].groupby(['time'], as_index = False).max().add_prefix(\"cells_\").add_suffix(\"_max\")\n",
    "tmp_cells_std = data.cells_detail[['time', 'asuLevel', 'dbm']].groupby(['time'], as_index = False).std().add_prefix(\"cells_\").add_suffix(\"_std\")"
   ]
  },
  {
   "cell_type": "code",
   "execution_count": 99,
   "metadata": {},
   "outputs": [],
   "source": [
    "tmp_cells = pd.merge(tmp_cells_mode.rename({\"cells_time_mode\": \"time\"}, axis = 1), tmp_cells_mean.rename({\"cells_time_mean\": \"time\"}, axis = 1), on = ['time'])\n",
    "tmp_cells = pd.merge(tmp_cells, tmp_cells_min.rename({\"cells_time_min\": \"time\"}, axis = 1), on = ['time'])\n",
    "tmp_cells = pd.merge(tmp_cells, tmp_cells_max.rename({\"cells_time_max\": \"time\"}, axis = 1), on = ['time'])\n",
    "tmp_cells = pd.merge(tmp_cells, tmp_cells_std.rename({\"cells_time_std\": \"time\"}, axis = 1), on = ['time'])\n",
    "\n",
    "data.df = pd.merge(data.df, tmp_cells, on = ['time'], how = 'left')"
   ]
  },
  {
   "cell_type": "code",
   "execution_count": 100,
   "metadata": {},
   "outputs": [],
   "source": [
    "# plot_label(data.df, 'cells_dbm_mean')"
   ]
  },
  {
   "source": [
    "## GPS"
   ],
   "cell_type": "markdown",
   "metadata": {}
  },
  {
   "cell_type": "code",
   "execution_count": 101,
   "metadata": {},
   "outputs": [],
   "source": [
    "data.gps_detail['time'] = data.gps_detail['time'].astype(\"int\").round(-3)\n",
    "data.gps_detail['gps_snr'] = data.gps_detail['snr'].apply(pd.to_numeric)"
   ]
  },
  {
   "cell_type": "code",
   "execution_count": 102,
   "metadata": {},
   "outputs": [],
   "source": [
    "tmp_gps_mean = data.gps_detail[['time', 'gps_snr']].groupby(['time'], as_index = False).mean().add_suffix(\"_mean\")\n",
    "tmp_gps_min = data.gps_detail[['time', 'gps_snr']].groupby(['time'], as_index = False).min().add_suffix(\"_min\")\n",
    "tmp_gps_max = data.gps_detail[['time', 'gps_snr']].groupby(['time'], as_index = False).max().add_suffix(\"_max\")\n",
    "tmp_gps_std = data.gps_detail[['time', 'gps_snr']].groupby(['time'], as_index = False).std().add_suffix(\"_std\")"
   ]
  },
  {
   "cell_type": "code",
   "execution_count": 103,
   "metadata": {},
   "outputs": [],
   "source": [
    "tmp_gps = pd.merge(tmp_gps_mean.rename({\"time_mean\": \"time\"}, axis = 1), tmp_gps_min.rename({\"time_min\": \"time\"}, axis = 1), on = ['time'])\n",
    "tmp_gps = pd.merge(tmp_gps, tmp_gps_max.rename({\"time_max\": \"time\"}, axis = 1), on = ['time'])\n",
    "tmp_gps = pd.merge(tmp_gps, tmp_gps_std.rename({\"time_std\": \"time\"}, axis = 1), on = ['time'])"
   ]
  },
  {
   "cell_type": "code",
   "execution_count": 104,
   "metadata": {},
   "outputs": [],
   "source": [
    "data.df = pd.merge(data.df, tmp_gps, on = ['time'], how = 'left')"
   ]
  },
  {
   "cell_type": "code",
   "execution_count": 107,
   "metadata": {},
   "outputs": [],
   "source": [
    "data.df.to_csv('data/mid_res/data_df_full.csv', header = True, index = False)\n",
    "# data.df = pd.read_csv('data/mid_res/data_df_full.csv')"
   ]
  },
  {
   "source": [
    "## One Hot"
   ],
   "cell_type": "markdown",
   "metadata": {}
  },
  {
   "cell_type": "code",
   "execution_count": 108,
   "metadata": {},
   "outputs": [],
   "source": [
    "def get_one_hot(df, class_col_name):\n",
    "    X = df[class_col_name].values.reshape(-1, 1)\n",
    "    enc = OneHotEncoder(handle_unknown = 'ignore', sparse = False).fit(X)\n",
    "    col_names = [\"{}_{}\".format(class_col_name, i) for i in enc.categories_[0].tolist()]\n",
    "    return pd.DataFrame(enc.transform(X), columns = col_names)"
   ]
  },
  {
   "cell_type": "code",
   "execution_count": 109,
   "metadata": {},
   "outputs": [],
   "source": [
    "data.df_hot = data.df.copy()\n",
    "# discrete v\n",
    "dis_cols = ['cells_ctype_mode']\n",
    "for col in dis_cols:\n",
    "    data.df_hot[col].fillna(\"miss\", inplace = True)\n",
    "    df_hot = get_one_hot(data.df_hot, col)\n",
    "    data.df_hot = pd.concat([data.df_hot, df_hot])\n",
    "    data.df_hot.drop(col, axis = 1, inplace = True)\n",
    "\n",
    "# continuous v\n",
    "data.df_hot.fillna(0, inplace = True)"
   ]
  },
  {
   "cell_type": "code",
   "execution_count": 110,
   "metadata": {},
   "outputs": [
    {
     "output_type": "execute_result",
     "data": {
      "text/plain": [
       "                time  label  accuracy  latitude  longitude  altitude  num_gps  \\\n",
       "0       1.490432e+12    4.0       0.0       0.0        0.0       0.0      4.0   \n",
       "1       1.490432e+12    4.0       0.0       0.0        0.0       0.0      4.0   \n",
       "2       1.490432e+12    4.0       0.0       0.0        0.0       0.0      4.0   \n",
       "3       1.490432e+12    4.0       0.0       0.0        0.0       0.0      4.0   \n",
       "4       1.490432e+12    4.0       0.0       0.0        0.0       0.0      4.0   \n",
       "...              ...    ...       ...       ...        ...       ...      ...   \n",
       "980522  0.000000e+00    0.0       0.0       0.0        0.0       0.0      0.0   \n",
       "980523  0.000000e+00    0.0       0.0       0.0        0.0       0.0      0.0   \n",
       "980524  0.000000e+00    0.0       0.0       0.0        0.0       0.0      0.0   \n",
       "980525  0.000000e+00    0.0       0.0       0.0        0.0       0.0      0.0   \n",
       "980526  0.000000e+00    0.0       0.0       0.0        0.0       0.0      0.0   \n",
       "\n",
       "        num_wifi  num_cells  time_dlt  ...  cells_asuLevel_std  cells_dbm_std  \\\n",
       "0            6.0        0.0    1000.0  ...                 0.0            0.0   \n",
       "1            6.0        0.0    1000.0  ...                 0.0            0.0   \n",
       "2            6.0        0.0    1000.0  ...                 0.0            0.0   \n",
       "3            0.0        0.0    1000.0  ...                 0.0            0.0   \n",
       "4            6.0        0.0    1000.0  ...                 0.0            0.0   \n",
       "...          ...        ...       ...  ...                 ...            ...   \n",
       "980522       0.0        0.0       0.0  ...                 0.0            0.0   \n",
       "980523       0.0        0.0       0.0  ...                 0.0            0.0   \n",
       "980524       0.0        0.0       0.0  ...                 0.0            0.0   \n",
       "980525       0.0        0.0       0.0  ...                 0.0            0.0   \n",
       "980526       0.0        0.0       0.0  ...                 0.0            0.0   \n",
       "\n",
       "        gps_snr_mean  gps_snr_min  gps_snr_max  gps_snr_std  \\\n",
       "0              22.50         16.0         29.0     5.686241   \n",
       "1              22.25         15.0         29.0     6.075909   \n",
       "2              22.25         15.0         29.0     6.075909   \n",
       "3              22.00         15.0         28.0     5.715476   \n",
       "4              21.75         15.0         28.0     5.852350   \n",
       "...              ...          ...          ...          ...   \n",
       "980522          0.00          0.0          0.0     0.000000   \n",
       "980523          0.00          0.0          0.0     0.000000   \n",
       "980524          0.00          0.0          0.0     0.000000   \n",
       "980525          0.00          0.0          0.0     0.000000   \n",
       "980526          0.00          0.0          0.0     0.000000   \n",
       "\n",
       "        cells_ctype_mode_GSM  cells_ctype_mode_LTE  cells_ctype_mode_WCDMA  \\\n",
       "0                        0.0                   0.0                     0.0   \n",
       "1                        0.0                   0.0                     0.0   \n",
       "2                        0.0                   0.0                     0.0   \n",
       "3                        0.0                   0.0                     0.0   \n",
       "4                        0.0                   0.0                     0.0   \n",
       "...                      ...                   ...                     ...   \n",
       "980522                   0.0                   1.0                     0.0   \n",
       "980523                   0.0                   1.0                     0.0   \n",
       "980524                   0.0                   1.0                     0.0   \n",
       "980525                   0.0                   1.0                     0.0   \n",
       "980526                   0.0                   1.0                     0.0   \n",
       "\n",
       "        cells_ctype_mode_miss  \n",
       "0                         0.0  \n",
       "1                         0.0  \n",
       "2                         0.0  \n",
       "3                         0.0  \n",
       "4                         0.0  \n",
       "...                       ...  \n",
       "980522                    0.0  \n",
       "980523                    0.0  \n",
       "980524                    0.0  \n",
       "980525                    0.0  \n",
       "980526                    0.0  \n",
       "\n",
       "[1961054 rows x 45 columns]"
      ],
      "text/html": "<div>\n<style scoped>\n    .dataframe tbody tr th:only-of-type {\n        vertical-align: middle;\n    }\n\n    .dataframe tbody tr th {\n        vertical-align: top;\n    }\n\n    .dataframe thead th {\n        text-align: right;\n    }\n</style>\n<table border=\"1\" class=\"dataframe\">\n  <thead>\n    <tr style=\"text-align: right;\">\n      <th></th>\n      <th>time</th>\n      <th>label</th>\n      <th>accuracy</th>\n      <th>latitude</th>\n      <th>longitude</th>\n      <th>altitude</th>\n      <th>num_gps</th>\n      <th>num_wifi</th>\n      <th>num_cells</th>\n      <th>time_dlt</th>\n      <th>...</th>\n      <th>cells_asuLevel_std</th>\n      <th>cells_dbm_std</th>\n      <th>gps_snr_mean</th>\n      <th>gps_snr_min</th>\n      <th>gps_snr_max</th>\n      <th>gps_snr_std</th>\n      <th>cells_ctype_mode_GSM</th>\n      <th>cells_ctype_mode_LTE</th>\n      <th>cells_ctype_mode_WCDMA</th>\n      <th>cells_ctype_mode_miss</th>\n    </tr>\n  </thead>\n  <tbody>\n    <tr>\n      <th>0</th>\n      <td>1.490432e+12</td>\n      <td>4.0</td>\n      <td>0.0</td>\n      <td>0.0</td>\n      <td>0.0</td>\n      <td>0.0</td>\n      <td>4.0</td>\n      <td>6.0</td>\n      <td>0.0</td>\n      <td>1000.0</td>\n      <td>...</td>\n      <td>0.0</td>\n      <td>0.0</td>\n      <td>22.50</td>\n      <td>16.0</td>\n      <td>29.0</td>\n      <td>5.686241</td>\n      <td>0.0</td>\n      <td>0.0</td>\n      <td>0.0</td>\n      <td>0.0</td>\n    </tr>\n    <tr>\n      <th>1</th>\n      <td>1.490432e+12</td>\n      <td>4.0</td>\n      <td>0.0</td>\n      <td>0.0</td>\n      <td>0.0</td>\n      <td>0.0</td>\n      <td>4.0</td>\n      <td>6.0</td>\n      <td>0.0</td>\n      <td>1000.0</td>\n      <td>...</td>\n      <td>0.0</td>\n      <td>0.0</td>\n      <td>22.25</td>\n      <td>15.0</td>\n      <td>29.0</td>\n      <td>6.075909</td>\n      <td>0.0</td>\n      <td>0.0</td>\n      <td>0.0</td>\n      <td>0.0</td>\n    </tr>\n    <tr>\n      <th>2</th>\n      <td>1.490432e+12</td>\n      <td>4.0</td>\n      <td>0.0</td>\n      <td>0.0</td>\n      <td>0.0</td>\n      <td>0.0</td>\n      <td>4.0</td>\n      <td>6.0</td>\n      <td>0.0</td>\n      <td>1000.0</td>\n      <td>...</td>\n      <td>0.0</td>\n      <td>0.0</td>\n      <td>22.25</td>\n      <td>15.0</td>\n      <td>29.0</td>\n      <td>6.075909</td>\n      <td>0.0</td>\n      <td>0.0</td>\n      <td>0.0</td>\n      <td>0.0</td>\n    </tr>\n    <tr>\n      <th>3</th>\n      <td>1.490432e+12</td>\n      <td>4.0</td>\n      <td>0.0</td>\n      <td>0.0</td>\n      <td>0.0</td>\n      <td>0.0</td>\n      <td>4.0</td>\n      <td>0.0</td>\n      <td>0.0</td>\n      <td>1000.0</td>\n      <td>...</td>\n      <td>0.0</td>\n      <td>0.0</td>\n      <td>22.00</td>\n      <td>15.0</td>\n      <td>28.0</td>\n      <td>5.715476</td>\n      <td>0.0</td>\n      <td>0.0</td>\n      <td>0.0</td>\n      <td>0.0</td>\n    </tr>\n    <tr>\n      <th>4</th>\n      <td>1.490432e+12</td>\n      <td>4.0</td>\n      <td>0.0</td>\n      <td>0.0</td>\n      <td>0.0</td>\n      <td>0.0</td>\n      <td>4.0</td>\n      <td>6.0</td>\n      <td>0.0</td>\n      <td>1000.0</td>\n      <td>...</td>\n      <td>0.0</td>\n      <td>0.0</td>\n      <td>21.75</td>\n      <td>15.0</td>\n      <td>28.0</td>\n      <td>5.852350</td>\n      <td>0.0</td>\n      <td>0.0</td>\n      <td>0.0</td>\n      <td>0.0</td>\n    </tr>\n    <tr>\n      <th>...</th>\n      <td>...</td>\n      <td>...</td>\n      <td>...</td>\n      <td>...</td>\n      <td>...</td>\n      <td>...</td>\n      <td>...</td>\n      <td>...</td>\n      <td>...</td>\n      <td>...</td>\n      <td>...</td>\n      <td>...</td>\n      <td>...</td>\n      <td>...</td>\n      <td>...</td>\n      <td>...</td>\n      <td>...</td>\n      <td>...</td>\n      <td>...</td>\n      <td>...</td>\n      <td>...</td>\n    </tr>\n    <tr>\n      <th>980522</th>\n      <td>0.000000e+00</td>\n      <td>0.0</td>\n      <td>0.0</td>\n      <td>0.0</td>\n      <td>0.0</td>\n      <td>0.0</td>\n      <td>0.0</td>\n      <td>0.0</td>\n      <td>0.0</td>\n      <td>0.0</td>\n      <td>...</td>\n      <td>0.0</td>\n      <td>0.0</td>\n      <td>0.00</td>\n      <td>0.0</td>\n      <td>0.0</td>\n      <td>0.000000</td>\n      <td>0.0</td>\n      <td>1.0</td>\n      <td>0.0</td>\n      <td>0.0</td>\n    </tr>\n    <tr>\n      <th>980523</th>\n      <td>0.000000e+00</td>\n      <td>0.0</td>\n      <td>0.0</td>\n      <td>0.0</td>\n      <td>0.0</td>\n      <td>0.0</td>\n      <td>0.0</td>\n      <td>0.0</td>\n      <td>0.0</td>\n      <td>0.0</td>\n      <td>...</td>\n      <td>0.0</td>\n      <td>0.0</td>\n      <td>0.00</td>\n      <td>0.0</td>\n      <td>0.0</td>\n      <td>0.000000</td>\n      <td>0.0</td>\n      <td>1.0</td>\n      <td>0.0</td>\n      <td>0.0</td>\n    </tr>\n    <tr>\n      <th>980524</th>\n      <td>0.000000e+00</td>\n      <td>0.0</td>\n      <td>0.0</td>\n      <td>0.0</td>\n      <td>0.0</td>\n      <td>0.0</td>\n      <td>0.0</td>\n      <td>0.0</td>\n      <td>0.0</td>\n      <td>0.0</td>\n      <td>...</td>\n      <td>0.0</td>\n      <td>0.0</td>\n      <td>0.00</td>\n      <td>0.0</td>\n      <td>0.0</td>\n      <td>0.000000</td>\n      <td>0.0</td>\n      <td>1.0</td>\n      <td>0.0</td>\n      <td>0.0</td>\n    </tr>\n    <tr>\n      <th>980525</th>\n      <td>0.000000e+00</td>\n      <td>0.0</td>\n      <td>0.0</td>\n      <td>0.0</td>\n      <td>0.0</td>\n      <td>0.0</td>\n      <td>0.0</td>\n      <td>0.0</td>\n      <td>0.0</td>\n      <td>0.0</td>\n      <td>...</td>\n      <td>0.0</td>\n      <td>0.0</td>\n      <td>0.00</td>\n      <td>0.0</td>\n      <td>0.0</td>\n      <td>0.000000</td>\n      <td>0.0</td>\n      <td>1.0</td>\n      <td>0.0</td>\n      <td>0.0</td>\n    </tr>\n    <tr>\n      <th>980526</th>\n      <td>0.000000e+00</td>\n      <td>0.0</td>\n      <td>0.0</td>\n      <td>0.0</td>\n      <td>0.0</td>\n      <td>0.0</td>\n      <td>0.0</td>\n      <td>0.0</td>\n      <td>0.0</td>\n      <td>0.0</td>\n      <td>...</td>\n      <td>0.0</td>\n      <td>0.0</td>\n      <td>0.00</td>\n      <td>0.0</td>\n      <td>0.0</td>\n      <td>0.000000</td>\n      <td>0.0</td>\n      <td>1.0</td>\n      <td>0.0</td>\n      <td>0.0</td>\n    </tr>\n  </tbody>\n</table>\n<p>1961054 rows × 45 columns</p>\n</div>"
     },
     "metadata": {},
     "execution_count": 110
    }
   ],
   "source": [
    "data.df_hot"
   ]
  },
  {
   "cell_type": "code",
   "execution_count": 77,
   "metadata": {},
   "outputs": [],
   "source": [
    "col_drop = ['latitude',\n",
    " 'longitude',\n",
    " 'altitude',\n",
    " 'time_dlt',\n",
    " 'valid_dlt',\n",
    " 'east',\n",
    " 'north',\n",
    " 'east_dlt',\n",
    " 'north_dlt',\n",
    " 'east_speed',\n",
    " 'north_speed',\n",
    " ]"
   ]
  },
  {
   "cell_type": "code",
   "execution_count": 111,
   "metadata": {},
   "outputs": [],
   "source": [
    "# data.df_hot.drop(col_drop, axis = 1).to_csv('data/mid_res/data_df_hot.csv', header = True, index = False)\n",
    "data.df_hot.to_csv('data/mid_res/data_df_hot_full.csv', header = True, index = False)\n",
    "# data.df_hot = pd.read_csv('data/mid_res/data_df_hot.csv')"
   ]
  },
  {
   "source": [
    "## General"
   ],
   "cell_type": "markdown",
   "metadata": {}
  },
  {
   "cell_type": "code",
   "execution_count": 53,
   "metadata": {},
   "outputs": [],
   "source": [
    "# tmp_df = data.df[['latitude', 'num_gps', 'num_cells', 'num_wifi', 'label']]\n",
    "# plt.figure(figsize = [12, 8])\n",
    "# p = plt.scatter(tmp_df.index, tmp_df.isnull().sum(axis = 1), c = tmp_df.label, alpha = 0.7, s = 0.7)\n",
    "# plt.colorbar(p)"
   ]
  },
  {
   "cell_type": "code",
   "execution_count": null,
   "metadata": {},
   "outputs": [],
   "source": [
    "# data.df['latitude'] = data.df['latitude'].diff().fillna(method = 'bfill')\n",
    "# data.df['longitude'] = data.df['longitude'].diff().fillna(method = 'bfill')\n",
    "# data.df['altitude'] = data.df['altitude'].diff().fillna(method = 'bfill')\n",
    "\n",
    "# data.df.replace(np.nan, 0, inplace = True)"
   ]
  },
  {
   "cell_type": "code",
   "execution_count": 81,
   "metadata": {},
   "outputs": [
    {
     "output_type": "execute_result",
     "data": {
      "text/plain": [
       "                time  accuracy  num_gps  num_wifi  num_cells  label  \\\n",
       "0      1490431583000       NaN      4.0       6.0        NaN      4   \n",
       "1      1490431584000       NaN      4.0       6.0        NaN      4   \n",
       "2      1490431585000       NaN      4.0       6.0        NaN      4   \n",
       "3      1490431586000       NaN      4.0       NaN        NaN      4   \n",
       "4      1490431587000       NaN      4.0       6.0        NaN      4   \n",
       "...              ...       ...      ...       ...        ...    ...   \n",
       "98047  1490861603000      16.0     14.0       8.0        NaN      6   \n",
       "98048  1490861604000      16.0     14.0       8.0        NaN      6   \n",
       "98049  1490861605000      16.0     14.0       8.0        NaN      6   \n",
       "98050  1490861606000      16.0     14.0       8.0        NaN      6   \n",
       "98051  1490861607000      16.0     14.0       8.0        NaN      6   \n",
       "\n",
       "           speed  speed_dif       acc  wifi_rssi_mode  ...  cells_level_min  \\\n",
       "0            NaN        NaN       NaN           -48.0  ...              NaN   \n",
       "1            NaN        NaN       NaN           -48.0  ...              NaN   \n",
       "2            NaN        NaN       NaN           -48.0  ...              NaN   \n",
       "3            NaN        NaN       NaN             NaN  ...              NaN   \n",
       "4            NaN        NaN       NaN           -48.0  ...              NaN   \n",
       "...          ...        ...       ...             ...  ...              ...   \n",
       "98047   8.961595   0.276732  0.008962           -64.0  ...              NaN   \n",
       "98048  10.524812   0.288508  0.010525           -64.0  ...              NaN   \n",
       "98049  11.910520   0.106698  0.011911           -64.0  ...              NaN   \n",
       "98050  12.564799   0.269258  0.012565           -64.0  ...              NaN   \n",
       "98051  12.318998   0.374445  0.012319           -64.0  ...              NaN   \n",
       "\n",
       "       cells_asuLevel_max  cells_dbm_max  cells_level_max  cells_asuLevel_std  \\\n",
       "0                     NaN            NaN              NaN                 NaN   \n",
       "1                     NaN            NaN              NaN                 NaN   \n",
       "2                     NaN            NaN              NaN                 NaN   \n",
       "3                     NaN            NaN              NaN                 NaN   \n",
       "4                     NaN            NaN              NaN                 NaN   \n",
       "...                   ...            ...              ...                 ...   \n",
       "98047                 NaN            NaN              NaN                 NaN   \n",
       "98048                 NaN            NaN              NaN                 NaN   \n",
       "98049                 NaN            NaN              NaN                 NaN   \n",
       "98050                 NaN            NaN              NaN                 NaN   \n",
       "98051                 NaN            NaN              NaN                 NaN   \n",
       "\n",
       "       cells_dbm_std  gps_snr_mean  gps_snr_min  gps_snr_max  gps_snr_std  \n",
       "0                NaN     22.500000         16.0         29.0     5.686241  \n",
       "1                NaN     22.250000         15.0         29.0     6.075909  \n",
       "2                NaN     22.250000         15.0         29.0     6.075909  \n",
       "3                NaN     22.000000         15.0         28.0     5.715476  \n",
       "4                NaN     21.750000         15.0         28.0     5.852350  \n",
       "...              ...           ...          ...          ...          ...  \n",
       "98047            NaN     22.071429         12.0         30.0     4.968583  \n",
       "98048            NaN     22.357143         12.0         30.0     5.569244  \n",
       "98049            NaN     22.857143         11.0         32.0     6.249396  \n",
       "98050            NaN     22.785714         11.0         32.0     6.459085  \n",
       "98051            NaN     22.642857         11.0         31.0     6.209263  \n",
       "\n",
       "[98052 rows x 30 columns]"
      ],
      "text/html": "<div>\n<style scoped>\n    .dataframe tbody tr th:only-of-type {\n        vertical-align: middle;\n    }\n\n    .dataframe tbody tr th {\n        vertical-align: top;\n    }\n\n    .dataframe thead th {\n        text-align: right;\n    }\n</style>\n<table border=\"1\" class=\"dataframe\">\n  <thead>\n    <tr style=\"text-align: right;\">\n      <th></th>\n      <th>time</th>\n      <th>accuracy</th>\n      <th>num_gps</th>\n      <th>num_wifi</th>\n      <th>num_cells</th>\n      <th>label</th>\n      <th>speed</th>\n      <th>speed_dif</th>\n      <th>acc</th>\n      <th>wifi_rssi_mode</th>\n      <th>...</th>\n      <th>cells_level_min</th>\n      <th>cells_asuLevel_max</th>\n      <th>cells_dbm_max</th>\n      <th>cells_level_max</th>\n      <th>cells_asuLevel_std</th>\n      <th>cells_dbm_std</th>\n      <th>gps_snr_mean</th>\n      <th>gps_snr_min</th>\n      <th>gps_snr_max</th>\n      <th>gps_snr_std</th>\n    </tr>\n  </thead>\n  <tbody>\n    <tr>\n      <th>0</th>\n      <td>1490431583000</td>\n      <td>NaN</td>\n      <td>4.0</td>\n      <td>6.0</td>\n      <td>NaN</td>\n      <td>4</td>\n      <td>NaN</td>\n      <td>NaN</td>\n      <td>NaN</td>\n      <td>-48.0</td>\n      <td>...</td>\n      <td>NaN</td>\n      <td>NaN</td>\n      <td>NaN</td>\n      <td>NaN</td>\n      <td>NaN</td>\n      <td>NaN</td>\n      <td>22.500000</td>\n      <td>16.0</td>\n      <td>29.0</td>\n      <td>5.686241</td>\n    </tr>\n    <tr>\n      <th>1</th>\n      <td>1490431584000</td>\n      <td>NaN</td>\n      <td>4.0</td>\n      <td>6.0</td>\n      <td>NaN</td>\n      <td>4</td>\n      <td>NaN</td>\n      <td>NaN</td>\n      <td>NaN</td>\n      <td>-48.0</td>\n      <td>...</td>\n      <td>NaN</td>\n      <td>NaN</td>\n      <td>NaN</td>\n      <td>NaN</td>\n      <td>NaN</td>\n      <td>NaN</td>\n      <td>22.250000</td>\n      <td>15.0</td>\n      <td>29.0</td>\n      <td>6.075909</td>\n    </tr>\n    <tr>\n      <th>2</th>\n      <td>1490431585000</td>\n      <td>NaN</td>\n      <td>4.0</td>\n      <td>6.0</td>\n      <td>NaN</td>\n      <td>4</td>\n      <td>NaN</td>\n      <td>NaN</td>\n      <td>NaN</td>\n      <td>-48.0</td>\n      <td>...</td>\n      <td>NaN</td>\n      <td>NaN</td>\n      <td>NaN</td>\n      <td>NaN</td>\n      <td>NaN</td>\n      <td>NaN</td>\n      <td>22.250000</td>\n      <td>15.0</td>\n      <td>29.0</td>\n      <td>6.075909</td>\n    </tr>\n    <tr>\n      <th>3</th>\n      <td>1490431586000</td>\n      <td>NaN</td>\n      <td>4.0</td>\n      <td>NaN</td>\n      <td>NaN</td>\n      <td>4</td>\n      <td>NaN</td>\n      <td>NaN</td>\n      <td>NaN</td>\n      <td>NaN</td>\n      <td>...</td>\n      <td>NaN</td>\n      <td>NaN</td>\n      <td>NaN</td>\n      <td>NaN</td>\n      <td>NaN</td>\n      <td>NaN</td>\n      <td>22.000000</td>\n      <td>15.0</td>\n      <td>28.0</td>\n      <td>5.715476</td>\n    </tr>\n    <tr>\n      <th>4</th>\n      <td>1490431587000</td>\n      <td>NaN</td>\n      <td>4.0</td>\n      <td>6.0</td>\n      <td>NaN</td>\n      <td>4</td>\n      <td>NaN</td>\n      <td>NaN</td>\n      <td>NaN</td>\n      <td>-48.0</td>\n      <td>...</td>\n      <td>NaN</td>\n      <td>NaN</td>\n      <td>NaN</td>\n      <td>NaN</td>\n      <td>NaN</td>\n      <td>NaN</td>\n      <td>21.750000</td>\n      <td>15.0</td>\n      <td>28.0</td>\n      <td>5.852350</td>\n    </tr>\n    <tr>\n      <th>...</th>\n      <td>...</td>\n      <td>...</td>\n      <td>...</td>\n      <td>...</td>\n      <td>...</td>\n      <td>...</td>\n      <td>...</td>\n      <td>...</td>\n      <td>...</td>\n      <td>...</td>\n      <td>...</td>\n      <td>...</td>\n      <td>...</td>\n      <td>...</td>\n      <td>...</td>\n      <td>...</td>\n      <td>...</td>\n      <td>...</td>\n      <td>...</td>\n      <td>...</td>\n      <td>...</td>\n    </tr>\n    <tr>\n      <th>98047</th>\n      <td>1490861603000</td>\n      <td>16.0</td>\n      <td>14.0</td>\n      <td>8.0</td>\n      <td>NaN</td>\n      <td>6</td>\n      <td>8.961595</td>\n      <td>0.276732</td>\n      <td>0.008962</td>\n      <td>-64.0</td>\n      <td>...</td>\n      <td>NaN</td>\n      <td>NaN</td>\n      <td>NaN</td>\n      <td>NaN</td>\n      <td>NaN</td>\n      <td>NaN</td>\n      <td>22.071429</td>\n      <td>12.0</td>\n      <td>30.0</td>\n      <td>4.968583</td>\n    </tr>\n    <tr>\n      <th>98048</th>\n      <td>1490861604000</td>\n      <td>16.0</td>\n      <td>14.0</td>\n      <td>8.0</td>\n      <td>NaN</td>\n      <td>6</td>\n      <td>10.524812</td>\n      <td>0.288508</td>\n      <td>0.010525</td>\n      <td>-64.0</td>\n      <td>...</td>\n      <td>NaN</td>\n      <td>NaN</td>\n      <td>NaN</td>\n      <td>NaN</td>\n      <td>NaN</td>\n      <td>NaN</td>\n      <td>22.357143</td>\n      <td>12.0</td>\n      <td>30.0</td>\n      <td>5.569244</td>\n    </tr>\n    <tr>\n      <th>98049</th>\n      <td>1490861605000</td>\n      <td>16.0</td>\n      <td>14.0</td>\n      <td>8.0</td>\n      <td>NaN</td>\n      <td>6</td>\n      <td>11.910520</td>\n      <td>0.106698</td>\n      <td>0.011911</td>\n      <td>-64.0</td>\n      <td>...</td>\n      <td>NaN</td>\n      <td>NaN</td>\n      <td>NaN</td>\n      <td>NaN</td>\n      <td>NaN</td>\n      <td>NaN</td>\n      <td>22.857143</td>\n      <td>11.0</td>\n      <td>32.0</td>\n      <td>6.249396</td>\n    </tr>\n    <tr>\n      <th>98050</th>\n      <td>1490861606000</td>\n      <td>16.0</td>\n      <td>14.0</td>\n      <td>8.0</td>\n      <td>NaN</td>\n      <td>6</td>\n      <td>12.564799</td>\n      <td>0.269258</td>\n      <td>0.012565</td>\n      <td>-64.0</td>\n      <td>...</td>\n      <td>NaN</td>\n      <td>NaN</td>\n      <td>NaN</td>\n      <td>NaN</td>\n      <td>NaN</td>\n      <td>NaN</td>\n      <td>22.785714</td>\n      <td>11.0</td>\n      <td>32.0</td>\n      <td>6.459085</td>\n    </tr>\n    <tr>\n      <th>98051</th>\n      <td>1490861607000</td>\n      <td>16.0</td>\n      <td>14.0</td>\n      <td>8.0</td>\n      <td>NaN</td>\n      <td>6</td>\n      <td>12.318998</td>\n      <td>0.374445</td>\n      <td>0.012319</td>\n      <td>-64.0</td>\n      <td>...</td>\n      <td>NaN</td>\n      <td>NaN</td>\n      <td>NaN</td>\n      <td>NaN</td>\n      <td>NaN</td>\n      <td>NaN</td>\n      <td>22.642857</td>\n      <td>11.0</td>\n      <td>31.0</td>\n      <td>6.209263</td>\n    </tr>\n  </tbody>\n</table>\n<p>98052 rows × 30 columns</p>\n</div>"
     },
     "metadata": {},
     "execution_count": 81
    }
   ],
   "source": [
    "data.df"
   ]
  },
  {
   "cell_type": "code",
   "execution_count": null,
   "metadata": {},
   "outputs": [],
   "source": [
    "# plt.figure(figsize = [20, 10])\n",
    "# p = plt.scatter(data.df.index, data.df['num_wifi'], c = data.df['label'], alpha = 0.4)\n",
    "# plt.colorbar(p)"
   ]
  },
  {
   "cell_type": "code",
   "execution_count": 66,
   "metadata": {},
   "outputs": [],
   "source": [
    "col_x = ['time',\n",
    " 'label',\n",
    " 'accuracy',\n",
    " 'num_gps',\n",
    " 'num_wifi',\n",
    " 'num_cells',\n",
    " 'speed',\n",
    " 'acc',\n",
    " 'wifi_rssi_mode',\n",
    " 'wifi_rssi_mean',\n",
    " 'wifi_rssi_min',\n",
    " 'wifi_rssi_max',\n",
    " 'wifi_rssi_std',\n",
    "#  'cells_ctype_mode',\n",
    " 'cells_isRegistered_mean',\n",
    " 'cells_asuLevel_mean',\n",
    " 'cells_dbm_mean',\n",
    " 'cells_level_mean',\n",
    " 'cells_asuLevel_min',\n",
    " 'cells_dbm_min',\n",
    " 'cells_level_min',\n",
    " 'cells_asuLevel_max',\n",
    " 'cells_dbm_max',\n",
    " 'cells_level_max',\n",
    " 'cells_asuLevel_std',\n",
    " 'cells_dbm_std',\n",
    " 'gps_snr',\n",
    " 'gps_snr_mean',\n",
    " 'gps_snr_min',\n",
    " 'gps_snr_max',\n",
    " 'gps_snr_std']"
   ]
  },
  {
   "cell_type": "code",
   "execution_count": 80,
   "metadata": {},
   "outputs": [],
   "source": [
    "# data.df[col_x].to_csv('data/mid_res/data_df.csv', header = True, index = False)\n",
    "# data.df = pd.read_csv('data/mid_res/data_df.csv')"
   ]
  },
  {
   "source": [
    "## Plot (supplement)"
   ],
   "cell_type": "markdown",
   "metadata": {}
  },
  {
   "cell_type": "code",
   "execution_count": null,
   "metadata": {},
   "outputs": [],
   "source": [
    "plt.figure(figsize = [12, 8])\n",
    "sns.violin(x = 'label', y = np.log(data.df.speed + 1), data = data.df)"
   ]
  },
  {
   "cell_type": "code",
   "execution_count": 29,
   "metadata": {},
   "outputs": [
    {
     "output_type": "execute_result",
     "data": {
      "text/plain": [
       "{1: 'Still',\n",
       " 2: 'Walking',\n",
       " 3: 'Run',\n",
       " 4: 'Bike',\n",
       " 5: 'Car',\n",
       " 6: 'Bus',\n",
       " 7: 'Train',\n",
       " 8: 'Subway'}"
      ]
     },
     "metadata": {},
     "execution_count": 29
    }
   ],
   "source": [
    "label_dic"
   ]
  },
  {
   "source": [
    "# Validate"
   ],
   "cell_type": "markdown",
   "metadata": {}
  },
  {
   "cell_type": "code",
   "execution_count": null,
   "metadata": {},
   "outputs": [],
   "source": [
    "val = DataLoader.SHLDataLoader('data/validate/', ratio = None)"
   ]
  },
  {
   "cell_type": "code",
   "execution_count": null,
   "metadata": {},
   "outputs": [],
   "source": [
    "val.load_all(detail = False)"
   ]
  },
  {
   "cell_type": "code",
   "execution_count": null,
   "metadata": {},
   "outputs": [],
   "source": [
    "# unit: 1s\n",
    "val.loc['time'] = val.loc.apply(lambda x: x['time'].astype('int').round(-3), axis = 1)\n",
    "val.gps['time'] = val.gps['time'].astype('int').round(-3)\n",
    "val.wifi['time'] = val.wifi['time'].astype('int').round(-3)\n",
    "val.cells['time'] = val.cells['time'].astype('int').round(-3)\n",
    "# data type\n",
    "val.gps['number'] = val.gps['number'].apply(pd.to_numeric)\n",
    "val.wifi['number'] = val.wifi['number'].apply(pd.to_numeric)\n",
    "val.cells['number'] = val.cells['number'].apply(pd.to_numeric)"
   ]
  },
  {
   "cell_type": "code",
   "execution_count": null,
   "metadata": {},
   "outputs": [],
   "source": [
    "val.loc = val.loc.groupby(['time'], as_index = False).mean()[val.loc.columns.to_list()]\n",
    "val.gps = val.gps.groupby(['time'], as_index = False).mean()[val.gps.columns.to_list()]\n",
    "val.wifi = val.wifi.groupby(['time'], as_index = False).mean()[val.wifi.columns.to_list()]\n",
    "val.cells = val.cells.groupby(['time'], as_index = False).mean()[val.cells.columns.to_list()]"
   ]
  },
  {
   "cell_type": "code",
   "execution_count": null,
   "metadata": {},
   "outputs": [],
   "source": [
    "val.df = pd.merge(val.loc, val.gps.rename({\"number\": \"num_gps\"}, axis = 1), on = ['time'], how = 'outer')\n",
    "val.df = pd.merge(val.df, val.wifi.rename({\"number\": \"num_wifi\"}, axis = 1), on = ['time'], how = 'outer')\n",
    "val.df = pd.merge(val.df, val.cells.rename({\"number\": \"num_cells\"}, axis = 1), on = ['time'], how = 'outer')\n",
    "val.df = pd.merge(val.df, val.label, on = ['time'], how = 'right')"
   ]
  },
  {
   "cell_type": "code",
   "execution_count": null,
   "metadata": {},
   "outputs": [],
   "source": [
    "val.df['latitude'] = val.df['latitude'].diff().fillna(method = 'bfill')\n",
    "val.df['longitude'] = val.df['longitude'].diff().fillna(method = 'bfill')\n",
    "val.df['altitude'] = val.df['altitude'].diff().fillna(method = 'bfill')\n",
    "\n",
    "val.df.replace(np.nan, 0, inplace = True)"
   ]
  },
  {
   "cell_type": "code",
   "execution_count": null,
   "metadata": {},
   "outputs": [],
   "source": [
    "pred_val = clf.predict(val.df[['latitude', 'longitude', 'altitude', 'num_gps', 'num_wifi']])"
   ]
  },
  {
   "cell_type": "code",
   "execution_count": null,
   "metadata": {},
   "outputs": [],
   "source": [
    "confusion_matrix(pred_val, val.df['label'])"
   ]
  },
  {
   "cell_type": "code",
   "execution_count": null,
   "metadata": {},
   "outputs": [],
   "source": [
    "precision_score(pred_val, val.df['label'], average =\"micro\")"
   ]
  },
  {
   "cell_type": "code",
   "execution_count": null,
   "metadata": {},
   "outputs": [],
   "source": []
  }
 ]
}