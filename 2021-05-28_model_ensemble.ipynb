{
 "metadata": {
  "language_info": {
   "codemirror_mode": {
    "name": "ipython",
    "version": 3
   },
   "file_extension": ".py",
   "mimetype": "text/x-python",
   "name": "python",
   "nbconvert_exporter": "python",
   "pygments_lexer": "ipython3",
   "version": "3.8.5"
  },
  "orig_nbformat": 2,
  "kernelspec": {
   "name": "python3",
   "display_name": "Python 3.8.5 64-bit",
   "metadata": {
    "interpreter": {
     "hash": "910010b9128fec0bda95a110deaa2f7baca3ef79608cce04836aad2a922a4fb5"
    }
   }
  }
 },
 "nbformat": 4,
 "nbformat_minor": 2,
 "cells": [
  {
   "cell_type": "code",
   "execution_count": 1,
   "metadata": {},
   "outputs": [],
   "source": [
    "import pandas as pd\n",
    "import numpy as np \n",
    "import seaborn as sns\n",
    "import matplotlib.pyplot as plt\n",
    "from collections import Counter\n",
    "plt.style.use(\"dark_background\")\n",
    "import pickle\n",
    "import lightgbm as lgb\n",
    "from sklearn.naive_bayes import GaussianNB\n",
    "from sklearn.linear_model import LogisticRegression\n",
    "from sklearn.neighbors import KNeighborsClassifier\n",
    "from mlxtend.classifier import StackingClassifier\n",
    "\n",
    "from sklearn.ensemble import RandomForestClassifier, VotingClassifier\n",
    "from sklearn import svm\n",
    "from sklearn.model_selection import train_test_split, cross_val_score\n",
    "from sklearn.metrics import precision_score, confusion_matrix, f1_score, accuracy_score, recall_score, classification_report, roc_auc_score, auc, roc_curve\n",
    "from sklearn.preprocessing import label_binarize, normalize\n",
    "\n",
    "from utils import DataLoader, DataProcesser, label_plot, TimeKeeper\n",
    "\n",
    "%load_ext autoreload\n",
    "%autoreload 2"
   ]
  },
  {
   "cell_type": "code",
   "execution_count": 2,
   "metadata": {},
   "outputs": [],
   "source": [
    "label_dic = {1: 'Still', 2: 'Walking', 3: 'Run', 4: 'Bike', 5: 'Car', 6: 'Bus', 7: 'Train', 8: 'Subway'}"
   ]
  },
  {
   "cell_type": "code",
   "execution_count": 8,
   "metadata": {},
   "outputs": [],
   "source": [
    "col_drop_x = ['time', 'label']\n",
    "col_drop = ['latitude',\n",
    " 'longitude',\n",
    " 'altitude',\n",
    " 'time_dlt',\n",
    " 'valid_dlt',\n",
    " 'east',\n",
    " 'north',\n",
    " 'east_dlt',\n",
    " 'north_dlt',\n",
    " 'east_speed',\n",
    " 'north_speed',\n",
    " 'cells_ctype_mode',\n",
    " 'speed_dif',\n",
    " 'speed_dlt',\n",
    " 'speed'\n",
    " ]"
   ]
  },
  {
   "cell_type": "code",
   "execution_count": 9,
   "metadata": {},
   "outputs": [],
   "source": [
    "data = DataLoader.SHLDataLoader('data/train/', ratio = None)\n",
    "val = DataLoader.SHLDataLoader('data/validate/', ratio = None)\n",
    "data.df = pd.read_csv('data/mid_res/20210526_data_df.csv')\n",
    "val.df = pd.read_csv('data/mid_res/20210526_val_df.csv')"
   ]
  },
  {
   "cell_type": "code",
   "execution_count": 10,
   "metadata": {},
   "outputs": [],
   "source": [
    "test_ratio = 0.2\n",
    "col_label = 'label'\n",
    "X = data.df.drop(col_drop + col_drop_x, axis = 1).fillna(0)\n",
    "X_train, X_test, y_train, y_test = train_test_split(X, data.df[col_label], test_size = test_ratio)\n",
    "X_val, y_val = val.df.drop(col_drop + col_drop_x, axis = 1).fillna(0), val.df[col_label]"
   ]
  },
  {
   "cell_type": "code",
   "execution_count": 20,
   "metadata": {},
   "outputs": [],
   "source": [
    "def evaluate(y_true, y_pred, class_names = list(label_dic.values())):\n",
    "    conf = confusion_matrix(y_true , y_pred)\n",
    "    print(conf)\n",
    "    sns.heatmap(conf)\n",
    "    print(classification_report(y_true, y_pred, target_names = class_names))"
   ]
  },
  {
   "source": [
    "# Bagging"
   ],
   "cell_type": "markdown",
   "metadata": {}
  },
  {
   "cell_type": "code",
   "execution_count": 13,
   "metadata": {},
   "outputs": [
    {
     "output_type": "execute_result",
     "data": {
      "text/plain": [
       "BaggingClassifier(base_estimator=DecisionTreeClassifier(), max_samples=100,\n",
       "                  n_estimators=500)"
      ]
     },
     "metadata": {},
     "execution_count": 13
    }
   ],
   "source": [
    "from sklearn.tree import DecisionTreeClassifier\n",
    "from sklearn.ensemble import BaggingClassifier\n",
    "\n",
    "bag_reg = BaggingClassifier(DecisionTreeClassifier(), n_estimators=500, max_samples=100, bootstrap=True)\n",
    "bag_reg.fit(X_train, y_train)"
   ]
  },
  {
   "cell_type": "code",
   "execution_count": 14,
   "metadata": {},
   "outputs": [
    {
     "output_type": "stream",
     "name": "stdout",
     "text": [
      "0.6884542033390105\n"
     ]
    }
   ],
   "source": [
    "print(bag_reg.score(X_test,y_test))"
   ]
  },
  {
   "cell_type": "code",
   "execution_count": 15,
   "metadata": {},
   "outputs": [
    {
     "output_type": "stream",
     "name": "stdout",
     "text": [
      "0.6341155059114464\n"
     ]
    }
   ],
   "source": [
    "print(bag_reg.score(X_val, y_val))"
   ]
  },
  {
   "cell_type": "code",
   "execution_count": 25,
   "metadata": {},
   "outputs": [],
   "source": [
    "pred_bag = bag_reg.predict(X_val).tolist()"
   ]
  },
  {
   "cell_type": "code",
   "execution_count": 26,
   "metadata": {},
   "outputs": [
    {
     "output_type": "stream",
     "name": "stdout",
     "text": [
      "[[23348  1309    29    42     8   120   578  4402]\n",
      " [ 3703 17894   661   532   196  1170   735  1258]\n",
      " [   29  1530   788   315     0   106     1     5]\n",
      " [  235   640  1404  8341     7    22    17  1365]\n",
      " [ 1060   353    65  1680 12844  1626  2681   164]\n",
      " [ 1475   191    20   641   342  4015  1104  1390]\n",
      " [ 3929   225     0    81  4420   651 11151  1351]\n",
      " [ 1429    76     1    60   787   608  5843 12905]]\n",
      "              precision    recall  f1-score   support\n",
      "\n",
      "       Still       0.66      0.78      0.72     29836\n",
      "     Walking       0.81      0.68      0.74     26149\n",
      "         Run       0.27      0.28      0.27      2774\n",
      "        Bike       0.71      0.69      0.70     12031\n",
      "         Car       0.69      0.63      0.66     20473\n",
      "         Bus       0.48      0.44      0.46      9178\n",
      "       Train       0.50      0.51      0.51     21808\n",
      "      Subway       0.57      0.59      0.58     21709\n",
      "\n",
      "    accuracy                           0.63    143958\n",
      "   macro avg       0.59      0.58      0.58    143958\n",
      "weighted avg       0.64      0.63      0.63    143958\n",
      "\n"
     ]
    },
    {
     "output_type": "display_data",
     "data": {
      "text/plain": "<Figure size 432x288 with 2 Axes>",
      "image/svg+xml": "<?xml version=\"1.0\" encoding=\"utf-8\" standalone=\"no\"?>\n<!DOCTYPE svg PUBLIC \"-//W3C//DTD SVG 1.1//EN\"\n  \"http://www.w3.org/Graphics/SVG/1.1/DTD/svg11.dtd\">\n<!-- Created with matplotlib (https://matplotlib.org/) -->\n<svg height=\"248.518125pt\" version=\"1.1\" viewBox=\"0 0 365.342625 248.518125\" width=\"365.342625pt\" xmlns=\"http://www.w3.org/2000/svg\" xmlns:xlink=\"http://www.w3.org/1999/xlink\">\n <metadata>\n  <rdf:RDF xmlns:cc=\"http://creativecommons.org/ns#\" xmlns:dc=\"http://purl.org/dc/elements/1.1/\" xmlns:rdf=\"http://www.w3.org/1999/02/22-rdf-syntax-ns#\">\n   <cc:Work>\n    <dc:type rdf:resource=\"http://purl.org/dc/dcmitype/StillImage\"/>\n    <dc:date>2021-05-28T15:06:45.100191</dc:date>\n    <dc:format>image/svg+xml</dc:format>\n    <dc:creator>\n     <cc:Agent>\n      <dc:title>Matplotlib v3.3.2, https://matplotlib.org/</dc:title>\n     </cc:Agent>\n    </dc:creator>\n   </cc:Work>\n  </rdf:RDF>\n </metadata>\n <defs>\n  <style type=\"text/css\">*{stroke-linecap:butt;stroke-linejoin:round;}</style>\n </defs>\n <g id=\"figure_1\">\n  <g id=\"patch_1\">\n   <path d=\"M -0 248.518125 \nL 365.342625 248.518125 \nL 365.342625 0 \nL -0 0 \nz\n\"/>\n  </g>\n  <g id=\"axes_1\">\n   <g id=\"patch_2\">\n    <path d=\"M 23.878125 224.64 \nL 291.718125 224.64 \nL 291.718125 7.2 \nL 23.878125 7.2 \nz\n\"/>\n   </g>\n   <g id=\"QuadMesh_1\">\n    <path clip-path=\"url(#p4815466e25)\" d=\"M 23.878125 7.2 \nL 57.358125 7.2 \nL 57.358125 34.38 \nL 23.878125 34.38 \nL 23.878125 7.2 \n\" style=\"fill:#faebdd;\"/>\n    <path clip-path=\"url(#p4815466e25)\" d=\"M 57.358125 7.2 \nL 90.838125 7.2 \nL 90.838125 34.38 \nL 57.358125 34.38 \nL 57.358125 7.2 \n\" style=\"fill:#160e27;\"/>\n    <path clip-path=\"url(#p4815466e25)\" d=\"M 90.838125 7.2 \nL 124.318125 7.2 \nL 124.318125 34.38 \nL 90.838125 34.38 \nL 90.838125 7.2 \n\" style=\"fill:#03051a;\"/>\n    <path clip-path=\"url(#p4815466e25)\" d=\"M 124.318125 7.2 \nL 157.798125 7.2 \nL 157.798125 34.38 \nL 124.318125 34.38 \nL 124.318125 7.2 \n\" style=\"fill:#03051a;\"/>\n    <path clip-path=\"url(#p4815466e25)\" d=\"M 157.798125 7.2 \nL 191.278125 7.2 \nL 191.278125 34.38 \nL 157.798125 34.38 \nL 157.798125 7.2 \n\" style=\"fill:#03051a;\"/>\n    <path clip-path=\"url(#p4815466e25)\" d=\"M 191.278125 7.2 \nL 224.758125 7.2 \nL 224.758125 34.38 \nL 191.278125 34.38 \nL 191.278125 7.2 \n\" style=\"fill:#04051a;\"/>\n    <path clip-path=\"url(#p4815466e25)\" d=\"M 224.758125 7.2 \nL 258.238125 7.2 \nL 258.238125 34.38 \nL 224.758125 34.38 \nL 224.758125 7.2 \n\" style=\"fill:#0a091f;\"/>\n    <path clip-path=\"url(#p4815466e25)\" d=\"M 258.238125 7.2 \nL 291.718125 7.2 \nL 291.718125 34.38 \nL 258.238125 34.38 \nL 258.238125 7.2 \n\" style=\"fill:#481c48;\"/>\n    <path clip-path=\"url(#p4815466e25)\" d=\"M 23.878125 34.38 \nL 57.358125 34.38 \nL 57.358125 61.56 \nL 23.878125 61.56 \nL 23.878125 34.38 \n\" style=\"fill:#3c1a42;\"/>\n    <path clip-path=\"url(#p4815466e25)\" d=\"M 57.358125 34.38 \nL 90.838125 34.38 \nL 90.838125 61.56 \nL 57.358125 61.56 \nL 57.358125 34.38 \n\" style=\"fill:#f58f66;\"/>\n    <path clip-path=\"url(#p4815466e25)\" d=\"M 90.838125 34.38 \nL 124.318125 34.38 \nL 124.318125 61.56 \nL 90.838125 61.56 \nL 90.838125 34.38 \n\" style=\"fill:#0b0920;\"/>\n    <path clip-path=\"url(#p4815466e25)\" d=\"M 124.318125 34.38 \nL 157.798125 34.38 \nL 157.798125 61.56 \nL 124.318125 61.56 \nL 124.318125 34.38 \n\" style=\"fill:#08081e;\"/>\n    <path clip-path=\"url(#p4815466e25)\" d=\"M 157.798125 34.38 \nL 191.278125 34.38 \nL 191.278125 61.56 \nL 157.798125 61.56 \nL 157.798125 34.38 \n\" style=\"fill:#05061b;\"/>\n    <path clip-path=\"url(#p4815466e25)\" d=\"M 191.278125 34.38 \nL 224.758125 34.38 \nL 224.758125 61.56 \nL 191.278125 61.56 \nL 191.278125 34.38 \n\" style=\"fill:#130d25;\"/>\n    <path clip-path=\"url(#p4815466e25)\" d=\"M 224.758125 34.38 \nL 258.238125 34.38 \nL 258.238125 61.56 \nL 224.758125 61.56 \nL 224.758125 34.38 \n\" style=\"fill:#0d0a21;\"/>\n    <path clip-path=\"url(#p4815466e25)\" d=\"M 258.238125 34.38 \nL 291.718125 34.38 \nL 291.718125 61.56 \nL 258.238125 61.56 \nL 258.238125 34.38 \n\" style=\"fill:#140e26;\"/>\n    <path clip-path=\"url(#p4815466e25)\" d=\"M 23.878125 61.56 \nL 57.358125 61.56 \nL 57.358125 88.74 \nL 23.878125 88.74 \nL 23.878125 61.56 \n\" style=\"fill:#03051a;\"/>\n    <path clip-path=\"url(#p4815466e25)\" d=\"M 57.358125 61.56 \nL 90.838125 61.56 \nL 90.838125 88.74 \nL 57.358125 88.74 \nL 57.358125 61.56 \n\" style=\"fill:#180f29;\"/>\n    <path clip-path=\"url(#p4815466e25)\" d=\"M 90.838125 61.56 \nL 124.318125 61.56 \nL 124.318125 88.74 \nL 90.838125 88.74 \nL 90.838125 61.56 \n\" style=\"fill:#0d0a21;\"/>\n    <path clip-path=\"url(#p4815466e25)\" d=\"M 124.318125 61.56 \nL 157.798125 61.56 \nL 157.798125 88.74 \nL 124.318125 88.74 \nL 124.318125 61.56 \n\" style=\"fill:#06071c;\"/>\n    <path clip-path=\"url(#p4815466e25)\" d=\"M 157.798125 61.56 \nL 191.278125 61.56 \nL 191.278125 88.74 \nL 157.798125 88.74 \nL 157.798125 61.56 \n\" style=\"fill:#03051a;\"/>\n    <path clip-path=\"url(#p4815466e25)\" d=\"M 191.278125 61.56 \nL 224.758125 61.56 \nL 224.758125 88.74 \nL 191.278125 88.74 \nL 191.278125 61.56 \n\" style=\"fill:#04051a;\"/>\n    <path clip-path=\"url(#p4815466e25)\" d=\"M 224.758125 61.56 \nL 258.238125 61.56 \nL 258.238125 88.74 \nL 224.758125 88.74 \nL 224.758125 61.56 \n\" style=\"fill:#03051a;\"/>\n    <path clip-path=\"url(#p4815466e25)\" d=\"M 258.238125 61.56 \nL 291.718125 61.56 \nL 291.718125 88.74 \nL 258.238125 88.74 \nL 258.238125 61.56 \n\" style=\"fill:#03051a;\"/>\n    <path clip-path=\"url(#p4815466e25)\" d=\"M 23.878125 88.74 \nL 57.358125 88.74 \nL 57.358125 115.92 \nL 23.878125 115.92 \nL 23.878125 88.74 \n\" style=\"fill:#05061b;\"/>\n    <path clip-path=\"url(#p4815466e25)\" d=\"M 57.358125 88.74 \nL 90.838125 88.74 \nL 90.838125 115.92 \nL 57.358125 115.92 \nL 57.358125 88.74 \n\" style=\"fill:#0b0920;\"/>\n    <path clip-path=\"url(#p4815466e25)\" d=\"M 90.838125 88.74 \nL 124.318125 88.74 \nL 124.318125 115.92 \nL 90.838125 115.92 \nL 90.838125 88.74 \n\" style=\"fill:#170f28;\"/>\n    <path clip-path=\"url(#p4815466e25)\" d=\"M 124.318125 88.74 \nL 157.798125 88.74 \nL 157.798125 115.92 \nL 124.318125 115.92 \nL 124.318125 88.74 \n\" style=\"fill:#8e1d5b;\"/>\n    <path clip-path=\"url(#p4815466e25)\" d=\"M 157.798125 88.74 \nL 191.278125 88.74 \nL 191.278125 115.92 \nL 157.798125 115.92 \nL 157.798125 88.74 \n\" style=\"fill:#03051a;\"/>\n    <path clip-path=\"url(#p4815466e25)\" d=\"M 191.278125 88.74 \nL 224.758125 88.74 \nL 224.758125 115.92 \nL 191.278125 115.92 \nL 191.278125 88.74 \n\" style=\"fill:#03051a;\"/>\n    <path clip-path=\"url(#p4815466e25)\" d=\"M 224.758125 88.74 \nL 258.238125 88.74 \nL 258.238125 115.92 \nL 224.758125 115.92 \nL 224.758125 88.74 \n\" style=\"fill:#03051a;\"/>\n    <path clip-path=\"url(#p4815466e25)\" d=\"M 258.238125 88.74 \nL 291.718125 88.74 \nL 291.718125 115.92 \nL 258.238125 115.92 \nL 258.238125 88.74 \n\" style=\"fill:#160e27;\"/>\n    <path clip-path=\"url(#p4815466e25)\" d=\"M 23.878125 115.92 \nL 57.358125 115.92 \nL 57.358125 143.1 \nL 23.878125 143.1 \nL 23.878125 115.92 \n\" style=\"fill:#110c24;\"/>\n    <path clip-path=\"url(#p4815466e25)\" d=\"M 57.358125 115.92 \nL 90.838125 115.92 \nL 90.838125 143.1 \nL 57.358125 143.1 \nL 57.358125 115.92 \n\" style=\"fill:#06071c;\"/>\n    <path clip-path=\"url(#p4815466e25)\" d=\"M 90.838125 115.92 \nL 124.318125 115.92 \nL 124.318125 143.1 \nL 90.838125 143.1 \nL 90.838125 115.92 \n\" style=\"fill:#03051a;\"/>\n    <path clip-path=\"url(#p4815466e25)\" d=\"M 124.318125 115.92 \nL 157.798125 115.92 \nL 157.798125 143.1 \nL 124.318125 143.1 \nL 124.318125 115.92 \n\" style=\"fill:#1b112b;\"/>\n    <path clip-path=\"url(#p4815466e25)\" d=\"M 157.798125 115.92 \nL 191.278125 115.92 \nL 191.278125 143.1 \nL 157.798125 143.1 \nL 157.798125 115.92 \n\" style=\"fill:#db2946;\"/>\n    <path clip-path=\"url(#p4815466e25)\" d=\"M 191.278125 115.92 \nL 224.758125 115.92 \nL 224.758125 143.1 \nL 191.278125 143.1 \nL 191.278125 115.92 \n\" style=\"fill:#1a102a;\"/>\n    <path clip-path=\"url(#p4815466e25)\" d=\"M 224.758125 115.92 \nL 258.238125 115.92 \nL 258.238125 143.1 \nL 224.758125 143.1 \nL 224.758125 115.92 \n\" style=\"fill:#2b1637;\"/>\n    <path clip-path=\"url(#p4815466e25)\" d=\"M 258.238125 115.92 \nL 291.718125 115.92 \nL 291.718125 143.1 \nL 258.238125 143.1 \nL 258.238125 115.92 \n\" style=\"fill:#04051a;\"/>\n    <path clip-path=\"url(#p4815466e25)\" d=\"M 23.878125 143.1 \nL 57.358125 143.1 \nL 57.358125 170.28 \nL 23.878125 170.28 \nL 23.878125 143.1 \n\" style=\"fill:#180f29;\"/>\n    <path clip-path=\"url(#p4815466e25)\" d=\"M 57.358125 143.1 \nL 90.838125 143.1 \nL 90.838125 170.28 \nL 57.358125 170.28 \nL 57.358125 143.1 \n\" style=\"fill:#05061b;\"/>\n    <path clip-path=\"url(#p4815466e25)\" d=\"M 90.838125 143.1 \nL 124.318125 143.1 \nL 124.318125 170.28 \nL 90.838125 170.28 \nL 90.838125 143.1 \n\" style=\"fill:#03051a;\"/>\n    <path clip-path=\"url(#p4815466e25)\" d=\"M 124.318125 143.1 \nL 157.798125 143.1 \nL 157.798125 170.28 \nL 124.318125 170.28 \nL 124.318125 143.1 \n\" style=\"fill:#0b0920;\"/>\n    <path clip-path=\"url(#p4815466e25)\" d=\"M 157.798125 143.1 \nL 191.278125 143.1 \nL 191.278125 170.28 \nL 157.798125 170.28 \nL 157.798125 143.1 \n\" style=\"fill:#06071c;\"/>\n    <path clip-path=\"url(#p4815466e25)\" d=\"M 191.278125 143.1 \nL 224.758125 143.1 \nL 224.758125 170.28 \nL 191.278125 170.28 \nL 191.278125 143.1 \n\" style=\"fill:#421b45;\"/>\n    <path clip-path=\"url(#p4815466e25)\" d=\"M 224.758125 143.1 \nL 258.238125 143.1 \nL 258.238125 170.28 \nL 224.758125 170.28 \nL 224.758125 143.1 \n\" style=\"fill:#130d25;\"/>\n    <path clip-path=\"url(#p4815466e25)\" d=\"M 258.238125 143.1 \nL 291.718125 143.1 \nL 291.718125 170.28 \nL 258.238125 170.28 \nL 258.238125 143.1 \n\" style=\"fill:#170f28;\"/>\n    <path clip-path=\"url(#p4815466e25)\" d=\"M 23.878125 170.28 \nL 57.358125 170.28 \nL 57.358125 197.46 \nL 23.878125 197.46 \nL 23.878125 170.28 \n\" style=\"fill:#401b44;\"/>\n    <path clip-path=\"url(#p4815466e25)\" d=\"M 57.358125 170.28 \nL 90.838125 170.28 \nL 90.838125 197.46 \nL 57.358125 197.46 \nL 57.358125 170.28 \n\" style=\"fill:#05061b;\"/>\n    <path clip-path=\"url(#p4815466e25)\" d=\"M 90.838125 170.28 \nL 124.318125 170.28 \nL 124.318125 197.46 \nL 90.838125 197.46 \nL 90.838125 170.28 \n\" style=\"fill:#03051a;\"/>\n    <path clip-path=\"url(#p4815466e25)\" d=\"M 124.318125 170.28 \nL 157.798125 170.28 \nL 157.798125 197.46 \nL 124.318125 197.46 \nL 124.318125 170.28 \n\" style=\"fill:#03051a;\"/>\n    <path clip-path=\"url(#p4815466e25)\" d=\"M 157.798125 170.28 \nL 191.278125 170.28 \nL 191.278125 197.46 \nL 157.798125 197.46 \nL 157.798125 170.28 \n\" style=\"fill:#481c48;\"/>\n    <path clip-path=\"url(#p4815466e25)\" d=\"M 191.278125 170.28 \nL 224.758125 170.28 \nL 224.758125 197.46 \nL 191.278125 197.46 \nL 191.278125 170.28 \n\" style=\"fill:#0b0920;\"/>\n    <path clip-path=\"url(#p4815466e25)\" d=\"M 224.758125 170.28 \nL 258.238125 170.28 \nL 258.238125 197.46 \nL 224.758125 197.46 \nL 224.758125 170.28 \n\" style=\"fill:#c21753;\"/>\n    <path clip-path=\"url(#p4815466e25)\" d=\"M 258.238125 170.28 \nL 291.718125 170.28 \nL 291.718125 197.46 \nL 258.238125 197.46 \nL 258.238125 170.28 \n\" style=\"fill:#160e27;\"/>\n    <path clip-path=\"url(#p4815466e25)\" d=\"M 23.878125 197.46 \nL 57.358125 197.46 \nL 57.358125 224.64 \nL 23.878125 224.64 \nL 23.878125 197.46 \n\" style=\"fill:#170f28;\"/>\n    <path clip-path=\"url(#p4815466e25)\" d=\"M 57.358125 197.46 \nL 90.838125 197.46 \nL 90.838125 224.64 \nL 57.358125 224.64 \nL 57.358125 197.46 \n\" style=\"fill:#03051a;\"/>\n    <path clip-path=\"url(#p4815466e25)\" d=\"M 90.838125 197.46 \nL 124.318125 197.46 \nL 124.318125 224.64 \nL 90.838125 224.64 \nL 90.838125 197.46 \n\" style=\"fill:#03051a;\"/>\n    <path clip-path=\"url(#p4815466e25)\" d=\"M 124.318125 197.46 \nL 157.798125 197.46 \nL 157.798125 224.64 \nL 124.318125 224.64 \nL 124.318125 197.46 \n\" style=\"fill:#03051a;\"/>\n    <path clip-path=\"url(#p4815466e25)\" d=\"M 157.798125 197.46 \nL 191.278125 197.46 \nL 191.278125 224.64 \nL 157.798125 224.64 \nL 157.798125 197.46 \n\" style=\"fill:#0d0a21;\"/>\n    <path clip-path=\"url(#p4815466e25)\" d=\"M 191.278125 197.46 \nL 224.758125 197.46 \nL 224.758125 224.64 \nL 191.278125 224.64 \nL 191.278125 197.46 \n\" style=\"fill:#0a091f;\"/>\n    <path clip-path=\"url(#p4815466e25)\" d=\"M 224.758125 197.46 \nL 258.238125 197.46 \nL 258.238125 224.64 \nL 224.758125 224.64 \nL 224.758125 197.46 \n\" style=\"fill:#611f53;\"/>\n    <path clip-path=\"url(#p4815466e25)\" d=\"M 258.238125 197.46 \nL 291.718125 197.46 \nL 291.718125 224.64 \nL 258.238125 224.64 \nL 258.238125 197.46 \n\" style=\"fill:#dc2b46;\"/>\n   </g>\n   <g id=\"matplotlib.axis_1\">\n    <g id=\"xtick_1\">\n     <g id=\"line2d_1\">\n      <defs>\n       <path d=\"M 0 0 \nL 0 3.5 \n\" id=\"me8aecd33ed\" style=\"stroke:#ffffff;stroke-width:0.8;\"/>\n      </defs>\n      <g>\n       <use style=\"fill:#ffffff;stroke:#ffffff;stroke-width:0.8;\" x=\"40.618125\" xlink:href=\"#me8aecd33ed\" y=\"224.64\"/>\n      </g>\n     </g>\n     <g id=\"text_1\">\n      <!-- 0 -->\n      <g style=\"fill:#ffffff;\" transform=\"translate(37.436875 239.238438)scale(0.1 -0.1)\">\n       <defs>\n        <path d=\"M 31.78125 66.40625 \nQ 24.171875 66.40625 20.328125 58.90625 \nQ 16.5 51.421875 16.5 36.375 \nQ 16.5 21.390625 20.328125 13.890625 \nQ 24.171875 6.390625 31.78125 6.390625 \nQ 39.453125 6.390625 43.28125 13.890625 \nQ 47.125 21.390625 47.125 36.375 \nQ 47.125 51.421875 43.28125 58.90625 \nQ 39.453125 66.40625 31.78125 66.40625 \nz\nM 31.78125 74.21875 \nQ 44.046875 74.21875 50.515625 64.515625 \nQ 56.984375 54.828125 56.984375 36.375 \nQ 56.984375 17.96875 50.515625 8.265625 \nQ 44.046875 -1.421875 31.78125 -1.421875 \nQ 19.53125 -1.421875 13.0625 8.265625 \nQ 6.59375 17.96875 6.59375 36.375 \nQ 6.59375 54.828125 13.0625 64.515625 \nQ 19.53125 74.21875 31.78125 74.21875 \nz\n\" id=\"DejaVuSans-48\"/>\n       </defs>\n       <use xlink:href=\"#DejaVuSans-48\"/>\n      </g>\n     </g>\n    </g>\n    <g id=\"xtick_2\">\n     <g id=\"line2d_2\">\n      <g>\n       <use style=\"fill:#ffffff;stroke:#ffffff;stroke-width:0.8;\" x=\"74.098125\" xlink:href=\"#me8aecd33ed\" y=\"224.64\"/>\n      </g>\n     </g>\n     <g id=\"text_2\">\n      <!-- 1 -->\n      <g style=\"fill:#ffffff;\" transform=\"translate(70.916875 239.238438)scale(0.1 -0.1)\">\n       <defs>\n        <path d=\"M 12.40625 8.296875 \nL 28.515625 8.296875 \nL 28.515625 63.921875 \nL 10.984375 60.40625 \nL 10.984375 69.390625 \nL 28.421875 72.90625 \nL 38.28125 72.90625 \nL 38.28125 8.296875 \nL 54.390625 8.296875 \nL 54.390625 0 \nL 12.40625 0 \nz\n\" id=\"DejaVuSans-49\"/>\n       </defs>\n       <use xlink:href=\"#DejaVuSans-49\"/>\n      </g>\n     </g>\n    </g>\n    <g id=\"xtick_3\">\n     <g id=\"line2d_3\">\n      <g>\n       <use style=\"fill:#ffffff;stroke:#ffffff;stroke-width:0.8;\" x=\"107.578125\" xlink:href=\"#me8aecd33ed\" y=\"224.64\"/>\n      </g>\n     </g>\n     <g id=\"text_3\">\n      <!-- 2 -->\n      <g style=\"fill:#ffffff;\" transform=\"translate(104.396875 239.238438)scale(0.1 -0.1)\">\n       <defs>\n        <path d=\"M 19.1875 8.296875 \nL 53.609375 8.296875 \nL 53.609375 0 \nL 7.328125 0 \nL 7.328125 8.296875 \nQ 12.9375 14.109375 22.625 23.890625 \nQ 32.328125 33.6875 34.8125 36.53125 \nQ 39.546875 41.84375 41.421875 45.53125 \nQ 43.3125 49.21875 43.3125 52.78125 \nQ 43.3125 58.59375 39.234375 62.25 \nQ 35.15625 65.921875 28.609375 65.921875 \nQ 23.96875 65.921875 18.8125 64.3125 \nQ 13.671875 62.703125 7.8125 59.421875 \nL 7.8125 69.390625 \nQ 13.765625 71.78125 18.9375 73 \nQ 24.125 74.21875 28.421875 74.21875 \nQ 39.75 74.21875 46.484375 68.546875 \nQ 53.21875 62.890625 53.21875 53.421875 \nQ 53.21875 48.921875 51.53125 44.890625 \nQ 49.859375 40.875 45.40625 35.40625 \nQ 44.1875 33.984375 37.640625 27.21875 \nQ 31.109375 20.453125 19.1875 8.296875 \nz\n\" id=\"DejaVuSans-50\"/>\n       </defs>\n       <use xlink:href=\"#DejaVuSans-50\"/>\n      </g>\n     </g>\n    </g>\n    <g id=\"xtick_4\">\n     <g id=\"line2d_4\">\n      <g>\n       <use style=\"fill:#ffffff;stroke:#ffffff;stroke-width:0.8;\" x=\"141.058125\" xlink:href=\"#me8aecd33ed\" y=\"224.64\"/>\n      </g>\n     </g>\n     <g id=\"text_4\">\n      <!-- 3 -->\n      <g style=\"fill:#ffffff;\" transform=\"translate(137.876875 239.238438)scale(0.1 -0.1)\">\n       <defs>\n        <path d=\"M 40.578125 39.3125 \nQ 47.65625 37.796875 51.625 33 \nQ 55.609375 28.21875 55.609375 21.1875 \nQ 55.609375 10.40625 48.1875 4.484375 \nQ 40.765625 -1.421875 27.09375 -1.421875 \nQ 22.515625 -1.421875 17.65625 -0.515625 \nQ 12.796875 0.390625 7.625 2.203125 \nL 7.625 11.71875 \nQ 11.71875 9.328125 16.59375 8.109375 \nQ 21.484375 6.890625 26.8125 6.890625 \nQ 36.078125 6.890625 40.9375 10.546875 \nQ 45.796875 14.203125 45.796875 21.1875 \nQ 45.796875 27.640625 41.28125 31.265625 \nQ 36.765625 34.90625 28.71875 34.90625 \nL 20.21875 34.90625 \nL 20.21875 43.015625 \nL 29.109375 43.015625 \nQ 36.375 43.015625 40.234375 45.921875 \nQ 44.09375 48.828125 44.09375 54.296875 \nQ 44.09375 59.90625 40.109375 62.90625 \nQ 36.140625 65.921875 28.71875 65.921875 \nQ 24.65625 65.921875 20.015625 65.03125 \nQ 15.375 64.15625 9.8125 62.3125 \nL 9.8125 71.09375 \nQ 15.4375 72.65625 20.34375 73.4375 \nQ 25.25 74.21875 29.59375 74.21875 \nQ 40.828125 74.21875 47.359375 69.109375 \nQ 53.90625 64.015625 53.90625 55.328125 \nQ 53.90625 49.265625 50.4375 45.09375 \nQ 46.96875 40.921875 40.578125 39.3125 \nz\n\" id=\"DejaVuSans-51\"/>\n       </defs>\n       <use xlink:href=\"#DejaVuSans-51\"/>\n      </g>\n     </g>\n    </g>\n    <g id=\"xtick_5\">\n     <g id=\"line2d_5\">\n      <g>\n       <use style=\"fill:#ffffff;stroke:#ffffff;stroke-width:0.8;\" x=\"174.538125\" xlink:href=\"#me8aecd33ed\" y=\"224.64\"/>\n      </g>\n     </g>\n     <g id=\"text_5\">\n      <!-- 4 -->\n      <g style=\"fill:#ffffff;\" transform=\"translate(171.356875 239.238438)scale(0.1 -0.1)\">\n       <defs>\n        <path d=\"M 37.796875 64.3125 \nL 12.890625 25.390625 \nL 37.796875 25.390625 \nz\nM 35.203125 72.90625 \nL 47.609375 72.90625 \nL 47.609375 25.390625 \nL 58.015625 25.390625 \nL 58.015625 17.1875 \nL 47.609375 17.1875 \nL 47.609375 0 \nL 37.796875 0 \nL 37.796875 17.1875 \nL 4.890625 17.1875 \nL 4.890625 26.703125 \nz\n\" id=\"DejaVuSans-52\"/>\n       </defs>\n       <use xlink:href=\"#DejaVuSans-52\"/>\n      </g>\n     </g>\n    </g>\n    <g id=\"xtick_6\">\n     <g id=\"line2d_6\">\n      <g>\n       <use style=\"fill:#ffffff;stroke:#ffffff;stroke-width:0.8;\" x=\"208.018125\" xlink:href=\"#me8aecd33ed\" y=\"224.64\"/>\n      </g>\n     </g>\n     <g id=\"text_6\">\n      <!-- 5 -->\n      <g style=\"fill:#ffffff;\" transform=\"translate(204.836875 239.238438)scale(0.1 -0.1)\">\n       <defs>\n        <path d=\"M 10.796875 72.90625 \nL 49.515625 72.90625 \nL 49.515625 64.59375 \nL 19.828125 64.59375 \nL 19.828125 46.734375 \nQ 21.96875 47.46875 24.109375 47.828125 \nQ 26.265625 48.1875 28.421875 48.1875 \nQ 40.625 48.1875 47.75 41.5 \nQ 54.890625 34.8125 54.890625 23.390625 \nQ 54.890625 11.625 47.5625 5.09375 \nQ 40.234375 -1.421875 26.90625 -1.421875 \nQ 22.3125 -1.421875 17.546875 -0.640625 \nQ 12.796875 0.140625 7.71875 1.703125 \nL 7.71875 11.625 \nQ 12.109375 9.234375 16.796875 8.0625 \nQ 21.484375 6.890625 26.703125 6.890625 \nQ 35.15625 6.890625 40.078125 11.328125 \nQ 45.015625 15.765625 45.015625 23.390625 \nQ 45.015625 31 40.078125 35.4375 \nQ 35.15625 39.890625 26.703125 39.890625 \nQ 22.75 39.890625 18.8125 39.015625 \nQ 14.890625 38.140625 10.796875 36.28125 \nz\n\" id=\"DejaVuSans-53\"/>\n       </defs>\n       <use xlink:href=\"#DejaVuSans-53\"/>\n      </g>\n     </g>\n    </g>\n    <g id=\"xtick_7\">\n     <g id=\"line2d_7\">\n      <g>\n       <use style=\"fill:#ffffff;stroke:#ffffff;stroke-width:0.8;\" x=\"241.498125\" xlink:href=\"#me8aecd33ed\" y=\"224.64\"/>\n      </g>\n     </g>\n     <g id=\"text_7\">\n      <!-- 6 -->\n      <g style=\"fill:#ffffff;\" transform=\"translate(238.316875 239.238438)scale(0.1 -0.1)\">\n       <defs>\n        <path d=\"M 33.015625 40.375 \nQ 26.375 40.375 22.484375 35.828125 \nQ 18.609375 31.296875 18.609375 23.390625 \nQ 18.609375 15.53125 22.484375 10.953125 \nQ 26.375 6.390625 33.015625 6.390625 \nQ 39.65625 6.390625 43.53125 10.953125 \nQ 47.40625 15.53125 47.40625 23.390625 \nQ 47.40625 31.296875 43.53125 35.828125 \nQ 39.65625 40.375 33.015625 40.375 \nz\nM 52.59375 71.296875 \nL 52.59375 62.3125 \nQ 48.875 64.0625 45.09375 64.984375 \nQ 41.3125 65.921875 37.59375 65.921875 \nQ 27.828125 65.921875 22.671875 59.328125 \nQ 17.53125 52.734375 16.796875 39.40625 \nQ 19.671875 43.65625 24.015625 45.921875 \nQ 28.375 48.1875 33.59375 48.1875 \nQ 44.578125 48.1875 50.953125 41.515625 \nQ 57.328125 34.859375 57.328125 23.390625 \nQ 57.328125 12.15625 50.6875 5.359375 \nQ 44.046875 -1.421875 33.015625 -1.421875 \nQ 20.359375 -1.421875 13.671875 8.265625 \nQ 6.984375 17.96875 6.984375 36.375 \nQ 6.984375 53.65625 15.1875 63.9375 \nQ 23.390625 74.21875 37.203125 74.21875 \nQ 40.921875 74.21875 44.703125 73.484375 \nQ 48.484375 72.75 52.59375 71.296875 \nz\n\" id=\"DejaVuSans-54\"/>\n       </defs>\n       <use xlink:href=\"#DejaVuSans-54\"/>\n      </g>\n     </g>\n    </g>\n    <g id=\"xtick_8\">\n     <g id=\"line2d_8\">\n      <g>\n       <use style=\"fill:#ffffff;stroke:#ffffff;stroke-width:0.8;\" x=\"274.978125\" xlink:href=\"#me8aecd33ed\" y=\"224.64\"/>\n      </g>\n     </g>\n     <g id=\"text_8\">\n      <!-- 7 -->\n      <g style=\"fill:#ffffff;\" transform=\"translate(271.796875 239.238438)scale(0.1 -0.1)\">\n       <defs>\n        <path d=\"M 8.203125 72.90625 \nL 55.078125 72.90625 \nL 55.078125 68.703125 \nL 28.609375 0 \nL 18.3125 0 \nL 43.21875 64.59375 \nL 8.203125 64.59375 \nz\n\" id=\"DejaVuSans-55\"/>\n       </defs>\n       <use xlink:href=\"#DejaVuSans-55\"/>\n      </g>\n     </g>\n    </g>\n   </g>\n   <g id=\"matplotlib.axis_2\">\n    <g id=\"ytick_1\">\n     <g id=\"line2d_9\">\n      <defs>\n       <path d=\"M 0 0 \nL -3.5 0 \n\" id=\"m12383da6d6\" style=\"stroke:#ffffff;stroke-width:0.8;\"/>\n      </defs>\n      <g>\n       <use style=\"fill:#ffffff;stroke:#ffffff;stroke-width:0.8;\" x=\"23.878125\" xlink:href=\"#m12383da6d6\" y=\"20.79\"/>\n      </g>\n     </g>\n     <g id=\"text_9\">\n      <!-- 0 -->\n      <g style=\"fill:#ffffff;\" transform=\"translate(14.798438 23.353281)rotate(-90)scale(0.1 -0.1)\">\n       <use xlink:href=\"#DejaVuSans-48\"/>\n      </g>\n     </g>\n    </g>\n    <g id=\"ytick_2\">\n     <g id=\"line2d_10\">\n      <g>\n       <use style=\"fill:#ffffff;stroke:#ffffff;stroke-width:0.8;\" x=\"23.878125\" xlink:href=\"#m12383da6d6\" y=\"47.97\"/>\n      </g>\n     </g>\n     <g id=\"text_10\">\n      <!-- 1 -->\n      <g style=\"fill:#ffffff;\" transform=\"translate(14.798438 50.533281)rotate(-90)scale(0.1 -0.1)\">\n       <use xlink:href=\"#DejaVuSans-49\"/>\n      </g>\n     </g>\n    </g>\n    <g id=\"ytick_3\">\n     <g id=\"line2d_11\">\n      <g>\n       <use style=\"fill:#ffffff;stroke:#ffffff;stroke-width:0.8;\" x=\"23.878125\" xlink:href=\"#m12383da6d6\" y=\"75.15\"/>\n      </g>\n     </g>\n     <g id=\"text_11\">\n      <!-- 2 -->\n      <g style=\"fill:#ffffff;\" transform=\"translate(14.798438 77.713281)rotate(-90)scale(0.1 -0.1)\">\n       <use xlink:href=\"#DejaVuSans-50\"/>\n      </g>\n     </g>\n    </g>\n    <g id=\"ytick_4\">\n     <g id=\"line2d_12\">\n      <g>\n       <use style=\"fill:#ffffff;stroke:#ffffff;stroke-width:0.8;\" x=\"23.878125\" xlink:href=\"#m12383da6d6\" y=\"102.33\"/>\n      </g>\n     </g>\n     <g id=\"text_12\">\n      <!-- 3 -->\n      <g style=\"fill:#ffffff;\" transform=\"translate(14.798438 104.893281)rotate(-90)scale(0.1 -0.1)\">\n       <use xlink:href=\"#DejaVuSans-51\"/>\n      </g>\n     </g>\n    </g>\n    <g id=\"ytick_5\">\n     <g id=\"line2d_13\">\n      <g>\n       <use style=\"fill:#ffffff;stroke:#ffffff;stroke-width:0.8;\" x=\"23.878125\" xlink:href=\"#m12383da6d6\" y=\"129.51\"/>\n      </g>\n     </g>\n     <g id=\"text_13\">\n      <!-- 4 -->\n      <g style=\"fill:#ffffff;\" transform=\"translate(14.798438 132.073281)rotate(-90)scale(0.1 -0.1)\">\n       <use xlink:href=\"#DejaVuSans-52\"/>\n      </g>\n     </g>\n    </g>\n    <g id=\"ytick_6\">\n     <g id=\"line2d_14\">\n      <g>\n       <use style=\"fill:#ffffff;stroke:#ffffff;stroke-width:0.8;\" x=\"23.878125\" xlink:href=\"#m12383da6d6\" y=\"156.69\"/>\n      </g>\n     </g>\n     <g id=\"text_14\">\n      <!-- 5 -->\n      <g style=\"fill:#ffffff;\" transform=\"translate(14.798438 159.253281)rotate(-90)scale(0.1 -0.1)\">\n       <use xlink:href=\"#DejaVuSans-53\"/>\n      </g>\n     </g>\n    </g>\n    <g id=\"ytick_7\">\n     <g id=\"line2d_15\">\n      <g>\n       <use style=\"fill:#ffffff;stroke:#ffffff;stroke-width:0.8;\" x=\"23.878125\" xlink:href=\"#m12383da6d6\" y=\"183.87\"/>\n      </g>\n     </g>\n     <g id=\"text_15\">\n      <!-- 6 -->\n      <g style=\"fill:#ffffff;\" transform=\"translate(14.798438 186.433281)rotate(-90)scale(0.1 -0.1)\">\n       <use xlink:href=\"#DejaVuSans-54\"/>\n      </g>\n     </g>\n    </g>\n    <g id=\"ytick_8\">\n     <g id=\"line2d_16\">\n      <g>\n       <use style=\"fill:#ffffff;stroke:#ffffff;stroke-width:0.8;\" x=\"23.878125\" xlink:href=\"#m12383da6d6\" y=\"211.05\"/>\n      </g>\n     </g>\n     <g id=\"text_16\">\n      <!-- 7 -->\n      <g style=\"fill:#ffffff;\" transform=\"translate(14.798438 213.613281)rotate(-90)scale(0.1 -0.1)\">\n       <use xlink:href=\"#DejaVuSans-55\"/>\n      </g>\n     </g>\n    </g>\n   </g>\n  </g>\n  <g id=\"axes_2\">\n   <g id=\"patch_3\">\n    <path clip-path=\"url(#p7400beb4cb)\" d=\"M 308.458125 224.64 \nL 308.458125 223.790625 \nL 308.458125 8.049375 \nL 308.458125 7.2 \nL 319.330125 7.2 \nL 319.330125 8.049375 \nL 319.330125 223.790625 \nL 319.330125 224.64 \nz\n\" style=\"stroke:#000000;stroke-linejoin:miter;stroke-width:0.01;\"/>\n   </g>\n   <image height=\"217\" id=\"image828ec13b02\" transform=\"scale(1 -1)translate(0 -217)\" width=\"11\" x=\"308\" xlink:href=\"data:image/png;base64,\niVBORw0KGgoAAAANSUhEUgAAAAsAAADZCAYAAAD2WsoCAAABX0lEQVR4nNWa2w0DMQjAeN0S3X/OXlfAH5ZovhEyhqS5qDnP543lmszcxtLgAMFdJWUurcAiGCgzsuFhHPHc6dk4MXWoQLEpNzKb7dZsaBgTaDb2y5wNrd0QY7/Mk58EjzZIzIbXbm9brUPp8HvqoA2AIarTmJGNI8wIg+1ukpkVuP48+FsbJJjY8DDmBgZrN2EehHHEhoYx7z61uAfrBgaykWExwwIBRjNmEgxEi+oSnAXTJLhIMMKAmdexMV1fKbNYIDjsGHM1sAGZAQZSJ9oYbTYQs6auwFWGYYQ3G14wuPeQxx6qjmUGN3OWGdwLJgiGx8wwwM8mzEyeLFBmGEze6zQbQZ4NPRtJbES3hIGa4nnO0QoU200yoz0IPnlVG6SDHgaywc461EFLHdzdGoZXIMrcaPhvMLN2o3nWNmzemDrRBinwxvBnP1Jmc/iJZ9Ju9C+LKwWydmtnnVXgD2R4KiPLLY7SAAAAAElFTkSuQmCC\" y=\"-7\"/>\n   <g id=\"matplotlib.axis_3\"/>\n   <g id=\"matplotlib.axis_4\">\n    <g id=\"ytick_9\">\n     <g id=\"line2d_17\">\n      <defs>\n       <path d=\"M 0 0 \nL 3.5 0 \n\" id=\"m2bc8066402\" style=\"stroke:#ffffff;stroke-width:0.8;\"/>\n      </defs>\n      <g>\n       <use style=\"fill:#ffffff;stroke:#ffffff;stroke-width:0.8;\" x=\"319.330125\" xlink:href=\"#m2bc8066402\" y=\"224.64\"/>\n      </g>\n     </g>\n     <g id=\"text_17\">\n      <!-- 0 -->\n      <g style=\"fill:#ffffff;\" transform=\"translate(326.330125 228.439219)scale(0.1 -0.1)\">\n       <use xlink:href=\"#DejaVuSans-48\"/>\n      </g>\n     </g>\n    </g>\n    <g id=\"ytick_10\">\n     <g id=\"line2d_18\">\n      <g>\n       <use style=\"fill:#ffffff;stroke:#ffffff;stroke-width:0.8;\" x=\"319.330125\" xlink:href=\"#m2bc8066402\" y=\"178.074984\"/>\n      </g>\n     </g>\n     <g id=\"text_18\">\n      <!-- 5000 -->\n      <g style=\"fill:#ffffff;\" transform=\"translate(326.330125 181.874202)scale(0.1 -0.1)\">\n       <use xlink:href=\"#DejaVuSans-53\"/>\n       <use x=\"63.623047\" xlink:href=\"#DejaVuSans-48\"/>\n       <use x=\"127.246094\" xlink:href=\"#DejaVuSans-48\"/>\n       <use x=\"190.869141\" xlink:href=\"#DejaVuSans-48\"/>\n      </g>\n     </g>\n    </g>\n    <g id=\"ytick_11\">\n     <g id=\"line2d_19\">\n      <g>\n       <use style=\"fill:#ffffff;stroke:#ffffff;stroke-width:0.8;\" x=\"319.330125\" xlink:href=\"#m2bc8066402\" y=\"131.509967\"/>\n      </g>\n     </g>\n     <g id=\"text_19\">\n      <!-- 10000 -->\n      <g style=\"fill:#ffffff;\" transform=\"translate(326.330125 135.309186)scale(0.1 -0.1)\">\n       <use xlink:href=\"#DejaVuSans-49\"/>\n       <use x=\"63.623047\" xlink:href=\"#DejaVuSans-48\"/>\n       <use x=\"127.246094\" xlink:href=\"#DejaVuSans-48\"/>\n       <use x=\"190.869141\" xlink:href=\"#DejaVuSans-48\"/>\n       <use x=\"254.492188\" xlink:href=\"#DejaVuSans-48\"/>\n      </g>\n     </g>\n    </g>\n    <g id=\"ytick_12\">\n     <g id=\"line2d_20\">\n      <g>\n       <use style=\"fill:#ffffff;stroke:#ffffff;stroke-width:0.8;\" x=\"319.330125\" xlink:href=\"#m2bc8066402\" y=\"84.944951\"/>\n      </g>\n     </g>\n     <g id=\"text_20\">\n      <!-- 15000 -->\n      <g style=\"fill:#ffffff;\" transform=\"translate(326.330125 88.74417)scale(0.1 -0.1)\">\n       <use xlink:href=\"#DejaVuSans-49\"/>\n       <use x=\"63.623047\" xlink:href=\"#DejaVuSans-53\"/>\n       <use x=\"127.246094\" xlink:href=\"#DejaVuSans-48\"/>\n       <use x=\"190.869141\" xlink:href=\"#DejaVuSans-48\"/>\n       <use x=\"254.492188\" xlink:href=\"#DejaVuSans-48\"/>\n      </g>\n     </g>\n    </g>\n    <g id=\"ytick_13\">\n     <g id=\"line2d_21\">\n      <g>\n       <use style=\"fill:#ffffff;stroke:#ffffff;stroke-width:0.8;\" x=\"319.330125\" xlink:href=\"#m2bc8066402\" y=\"38.379935\"/>\n      </g>\n     </g>\n     <g id=\"text_21\">\n      <!-- 20000 -->\n      <g style=\"fill:#ffffff;\" transform=\"translate(326.330125 42.179154)scale(0.1 -0.1)\">\n       <use xlink:href=\"#DejaVuSans-50\"/>\n       <use x=\"63.623047\" xlink:href=\"#DejaVuSans-48\"/>\n       <use x=\"127.246094\" xlink:href=\"#DejaVuSans-48\"/>\n       <use x=\"190.869141\" xlink:href=\"#DejaVuSans-48\"/>\n       <use x=\"254.492188\" xlink:href=\"#DejaVuSans-48\"/>\n      </g>\n     </g>\n    </g>\n   </g>\n   <g id=\"patch_4\">\n    <path d=\"M 308.458125 224.64 \nL 308.458125 223.790625 \nL 308.458125 8.049375 \nL 308.458125 7.2 \nL 319.330125 7.2 \nL 319.330125 8.049375 \nL 319.330125 223.790625 \nL 319.330125 224.64 \nz\n\" style=\"fill:none;\"/>\n   </g>\n  </g>\n </g>\n <defs>\n  <clipPath id=\"p4815466e25\">\n   <rect height=\"217.44\" width=\"267.84\" x=\"23.878125\" y=\"7.2\"/>\n  </clipPath>\n  <clipPath id=\"p7400beb4cb\">\n   <rect height=\"217.44\" width=\"10.872\" x=\"308.458125\" y=\"7.2\"/>\n  </clipPath>\n </defs>\n</svg>\n",
      "image/png": "[encoded data removed]"
     },
     "metadata": {}
    }
   ],
   "source": [
    "evaluate(y_val, pred_bag)"
   ]
  },
  {
   "cell_type": "code",
   "execution_count": null,
   "metadata": {},
   "outputs": [],
   "source": []
  }
 ]
}