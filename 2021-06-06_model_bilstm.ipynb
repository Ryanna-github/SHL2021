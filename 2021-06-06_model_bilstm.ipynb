{
 "cells": [
  {
   "cell_type": "code",
   "execution_count": 1,
   "metadata": {},
   "outputs": [],
   "source": [
    "import torch\n",
    "import torchvision\n",
    "from torch import nn\n",
    "from torchsummary import summary\n",
    "import pandas as pd\n",
    "import numpy as np\n",
    "from collections import Counter\n",
    "import datetime\n",
    "\n",
    "from torch.utils.data import Dataset, DataLoader\n",
    "from sklearn.metrics import precision_score, confusion_matrix, f1_score, accuracy_score, recall_score, classification_report\n",
    "from torch.utils.tensorboard import SummaryWriter\n",
    "\n",
    "import matplotlib.pyplot as plt\n",
    "\n",
    "%load_ext autoreload\n",
    "%autoreload 2"
   ]
  },
  {
   "source": [
    "# Setting"
   ],
   "cell_type": "markdown",
   "metadata": {}
  },
  {
   "cell_type": "code",
   "execution_count": 2,
   "metadata": {},
   "outputs": [],
   "source": [
    "plt.style.use(\"dark_background\")"
   ]
  },
  {
   "source": [
    "# Model"
   ],
   "cell_type": "markdown",
   "metadata": {}
  },
  {
   "cell_type": "code",
   "execution_count": 3,
   "metadata": {},
   "outputs": [],
   "source": [
    "class BiLSTM(nn.Module):\n",
    "    def __init__(self, feature_size, hidden_size, lstm_layer, dropout = 0.2, num_class = 8):\n",
    "        super(BiLSTM, self).__init__()\n",
    "        self.input_size = feature_size\n",
    "        self.hidden_dim = hidden_size\n",
    "        self.num_class = num_class\n",
    "        self.dropout = nn.Dropout(p = dropout)\n",
    "        self.lstm = nn.LSTM(input_size = self.input_size, \n",
    "                            hidden_size = hidden_size,\n",
    "                            num_layers = lstm_layer,\n",
    "                            dropout = dropout,\n",
    "                            bidirectional = True)\n",
    "        self.hidden2label = nn.Linear(hidden_size*2, self.num_class)\n",
    "        \n",
    "    def forward(self, x):\n",
    "        lstm_out, _ = self.lstm(x)\n",
    "        label_space = self.hidden2label(lstm_out)\n",
    "        label_scores = nn.Softmax(dim = 1)(label_space)\n",
    "\n",
    "        return label_scores"
   ]
  },
  {
   "source": [
    "# Data"
   ],
   "cell_type": "markdown",
   "metadata": {}
  },
  {
   "cell_type": "code",
   "execution_count": 4,
   "metadata": {},
   "outputs": [],
   "source": [
    "data_df = pd.read_csv('data/mid_res/20210526_data_df.csv')\n",
    "val_df = pd.read_csv('data/mid_res/20210526_val_df.csv')"
   ]
  },
  {
   "cell_type": "code",
   "execution_count": 5,
   "metadata": {},
   "outputs": [],
   "source": [
    "def is_viecle(label):\n",
    "    if label.max() == 8:\n",
    "        label -= 1\n",
    "    return [1 if l > 3 else 0 for l in label]"
   ]
  },
  {
   "cell_type": "code",
   "execution_count": 6,
   "metadata": {},
   "outputs": [],
   "source": [
    "col_drop_x = ['time', 'label']\n",
    "col_label = 'label'\n",
    "col_drop = ['latitude',\n",
    "#  'longitude',\n",
    "#  'altitude',\n",
    "#  'time_dlt',\n",
    "#  'valid_dlt',\n",
    "#  'east',\n",
    "#  'north',\n",
    "#  'east_dlt',\n",
    "#  'north_dlt',\n",
    "#  'east_speed',\n",
    "#  'north_speed',\n",
    " 'cells_ctype_mode',\n",
    "#  'speed_dif',\n",
    "#  'speed_dlt',\n",
    "#  'speed'\n",
    " ]\n",
    "X_train, y_train = data_df.drop(col_drop_x + col_drop, axis = 1).fillna(0).copy(), data_df[col_label].copy()\n",
    "X_train = X_train.apply(lambda x: (x-min(x))/(max(x)-min(x)), axis = 0)\n",
    "# y_train -= 1\n",
    "y_train = is_viecle(y_train)\n",
    "\n",
    "X_val, y_val = val_df.drop(col_drop_x + col_drop, axis = 1).fillna(0).copy(), val_df[col_label].copy()\n",
    "X_val = X_val.apply(lambda x: (x-min(x))/(max(x)-min(x)), axis = 0)\n",
    "# y_val -= 1\n",
    "y_val = is_viecle(y_val)"
   ]
  },
  {
   "cell_type": "code",
   "execution_count": 7,
   "metadata": {},
   "outputs": [],
   "source": [
    "class TMR_Dataset(Dataset):\n",
    "    def __init__(self, x_array, label):\n",
    "        super().__init__()\n",
    "        self.len, self.feature_size = x_array.shape\n",
    "        self.data = x_array\n",
    "        self.data = torch.tensor(self.data).float()\n",
    "        self.label = label\n",
    "    \n",
    "    def __len__(self):\n",
    "        return self.len\n",
    "\n",
    "    def __getitem__(self, idx):\n",
    "        return (self.data[idx,:], self.label[idx])"
   ]
  },
  {
   "cell_type": "code",
   "execution_count": 9,
   "metadata": {},
   "outputs": [],
   "source": [
    "BATCH_SIZE = 2048\n",
    "EPOCHS = 100\n",
    "LR = 0.0005"
   ]
  },
  {
   "cell_type": "code",
   "execution_count": 10,
   "metadata": {},
   "outputs": [],
   "source": [
    "data = TMR_Dataset(np.array(X_train), y_train)\n",
    "train_loader = DataLoader(data, batch_size = BATCH_SIZE, shuffle = False)\n",
    "X_val = torch.tensor(np.array(X_val), dtype = torch.float32)"
   ]
  },
  {
   "cell_type": "code",
   "execution_count": 11,
   "metadata": {},
   "outputs": [],
   "source": [
    "# net = BiLSTM(feature_size = 32, hidden_size = 4, lstm_layer = 4)\n",
    "# X, y = next(iter(train_loader))\n",
    "# net(X.unsqueeze(0)).squeeze().argmax(dim = 1)"
   ]
  },
  {
   "cell_type": "code",
   "execution_count": 33,
   "metadata": {},
   "outputs": [],
   "source": [
    "writer = SummaryWriter(log_dir = 'log', comment = \"\")"
   ]
  },
  {
   "cell_type": "code",
   "execution_count": 12,
   "metadata": {},
   "outputs": [],
   "source": [
    "device = torch.device(\"cuda\" if torch.cuda.is_available() else \"cpu\")\n",
    "# net = BiLSTM(feature_size = 32, hidden_size = 128, lstm_layer = 8, dropout = 0.75, num_class = 1).to(device)\n",
    "net = BiLSTM(feature_size = 45, hidden_size = 128, lstm_layer = 8, dropout = 0.5, num_class = 2).to(device)\n",
    "optimizer = torch.optim.Adam(net.parameters(), lr = LR, weight_decay = 0.95)\n",
    "# criterion = nn.BCEWithLogitsLoss()\n",
    "criterion = nn.CrossEntropyLoss()"
   ]
  },
  {
   "cell_type": "code",
   "execution_count": 118,
   "metadata": {
    "tags": []
   },
   "outputs": [
    {
     "output_type": "stream",
     "name": "stdout",
     "text": [
      "epoch:0  | iteration:0    | loss:0.6931 | accuracy_val:0.47 | accuracy_train:0.60\n",
      "epoch:1  | iteration:0    | loss:0.6932 | accuracy_val:0.46 | accuracy_train:0.65\n",
      "epoch:2  | iteration:0    | loss:0.6932 | accuracy_val:0.45 | accuracy_train:0.40\n",
      "epoch:3  | iteration:0    | loss:0.6931 | accuracy_val:0.45 | accuracy_train:0.70\n",
      "epoch:4  | iteration:0    | loss:0.6931 | accuracy_val:0.46 | accuracy_train:0.55\n",
      "epoch:5  | iteration:0    | loss:0.6931 | accuracy_val:0.50 | accuracy_train:0.60\n",
      "epoch:6  | iteration:0    | loss:0.6931 | accuracy_val:0.49 | accuracy_train:0.60\n",
      "epoch:7  | iteration:0    | loss:0.6931 | accuracy_val:0.46 | accuracy_train:0.55\n",
      "epoch:8  | iteration:0    | loss:0.6932 | accuracy_val:0.50 | accuracy_train:0.45\n",
      "epoch:9  | iteration:0    | loss:0.6932 | accuracy_val:0.49 | accuracy_train:0.50\n",
      "epoch:10 | iteration:0    | loss:0.6931 | accuracy_val:0.48 | accuracy_train:0.70\n",
      "epoch:11 | iteration:0    | loss:0.6931 | accuracy_val:0.49 | accuracy_train:0.65\n",
      "epoch:12 | iteration:0    | loss:0.6932 | accuracy_val:0.52 | accuracy_train:0.40\n",
      "epoch:13 | iteration:0    | loss:0.6931 | accuracy_val:0.50 | accuracy_train:0.55\n",
      "epoch:14 | iteration:0    | loss:0.6931 | accuracy_val:0.48 | accuracy_train:0.60\n",
      "epoch:15 | iteration:0    | loss:0.6932 | accuracy_val:0.51 | accuracy_train:0.30\n",
      "epoch:16 | iteration:0    | loss:0.6931 | accuracy_val:0.50 | accuracy_train:0.50\n",
      "epoch:17 | iteration:0    | loss:0.6931 | accuracy_val:0.52 | accuracy_train:0.75\n",
      "epoch:18 | iteration:0    | loss:0.6932 | accuracy_val:0.53 | accuracy_train:0.40\n",
      "epoch:19 | iteration:0    | loss:0.6931 | accuracy_val:0.48 | accuracy_train:0.60\n",
      "epoch:20 | iteration:0    | loss:0.6932 | accuracy_val:0.54 | accuracy_train:0.45\n",
      "epoch:21 | iteration:0    | loss:0.6931 | accuracy_val:0.53 | accuracy_train:0.65\n",
      "epoch:22 | iteration:0    | loss:0.6931 | accuracy_val:0.51 | accuracy_train:0.40\n",
      "epoch:23 | iteration:0    | loss:0.6931 | accuracy_val:0.53 | accuracy_train:0.60\n",
      "epoch:24 | iteration:0    | loss:0.6932 | accuracy_val:0.54 | accuracy_train:0.50\n",
      "epoch:25 | iteration:0    | loss:0.6931 | accuracy_val:0.54 | accuracy_train:0.50\n",
      "epoch:26 | iteration:0    | loss:0.6931 | accuracy_val:0.51 | accuracy_train:0.70\n",
      "epoch:27 | iteration:0    | loss:0.6932 | accuracy_val:0.51 | accuracy_train:0.35\n",
      "epoch:28 | iteration:0    | loss:0.6931 | accuracy_val:0.46 | accuracy_train:0.60\n",
      "epoch:29 | iteration:0    | loss:0.6931 | accuracy_val:0.51 | accuracy_train:0.65\n",
      "epoch:30 | iteration:0    | loss:0.6931 | accuracy_val:0.51 | accuracy_train:0.40\n",
      "epoch:31 | iteration:0    | loss:0.6932 | accuracy_val:0.51 | accuracy_train:0.50\n",
      "epoch:32 | iteration:0    | loss:0.6931 | accuracy_val:0.51 | accuracy_train:0.50\n",
      "epoch:33 | iteration:0    | loss:0.6931 | accuracy_val:0.51 | accuracy_train:0.45\n",
      "epoch:34 | iteration:0    | loss:0.6932 | accuracy_val:0.51 | accuracy_train:0.45\n",
      "epoch:35 | iteration:0    | loss:0.6931 | accuracy_val:0.51 | accuracy_train:0.55\n",
      "epoch:36 | iteration:0    | loss:0.6931 | accuracy_val:0.51 | accuracy_train:0.45\n",
      "epoch:37 | iteration:0    | loss:0.6932 | accuracy_val:0.51 | accuracy_train:0.40\n",
      "epoch:38 | iteration:0    | loss:0.6931 | accuracy_val:0.51 | accuracy_train:0.60\n",
      "epoch:39 | iteration:0    | loss:0.6931 | accuracy_val:0.50 | accuracy_train:0.60\n",
      "epoch:40 | iteration:0    | loss:0.6931 | accuracy_val:0.51 | accuracy_train:0.55\n",
      "epoch:41 | iteration:0    | loss:0.6931 | accuracy_val:0.51 | accuracy_train:0.65\n",
      "epoch:42 | iteration:0    | loss:0.6932 | accuracy_val:0.51 | accuracy_train:0.45\n",
      "epoch:43 | iteration:0    | loss:0.6931 | accuracy_val:0.51 | accuracy_train:0.55\n",
      "epoch:44 | iteration:0    | loss:0.6932 | accuracy_val:0.51 | accuracy_train:0.50\n",
      "epoch:45 | iteration:0    | loss:0.6931 | accuracy_val:0.51 | accuracy_train:0.50\n",
      "epoch:46 | iteration:0    | loss:0.6931 | accuracy_val:0.51 | accuracy_train:0.65\n",
      "epoch:47 | iteration:0    | loss:0.6931 | accuracy_val:0.51 | accuracy_train:0.60\n",
      "epoch:48 | iteration:0    | loss:0.6931 | accuracy_val:0.51 | accuracy_train:0.50\n",
      "epoch:49 | iteration:0    | loss:0.6931 | accuracy_val:0.51 | accuracy_train:0.55\n"
     ]
    },
    {
     "output_type": "error",
     "ename": "KeyboardInterrupt",
     "evalue": "",
     "traceback": [
      "\u001b[0;31m---------------------------------------------------------------------------\u001b[0m",
      "\u001b[0;31mKeyboardInterrupt\u001b[0m                         Traceback (most recent call last)",
      "\u001b[0;32m<ipython-input-118-36d401f39707>\u001b[0m in \u001b[0;36m<module>\u001b[0;34m\u001b[0m\n\u001b[1;32m     17\u001b[0m                 \u001b[0maccuracy_val\u001b[0m \u001b[0;34m=\u001b[0m \u001b[0maccuracy_score\u001b[0m\u001b[0;34m(\u001b[0m\u001b[0my_val\u001b[0m\u001b[0;34m,\u001b[0m \u001b[0;34m(\u001b[0m\u001b[0mtest_pred\u001b[0m \u001b[0;34m>\u001b[0m \u001b[0;36m0.5\u001b[0m\u001b[0;34m)\u001b[0m\u001b[0;34m.\u001b[0m\u001b[0mint\u001b[0m\u001b[0;34m(\u001b[0m\u001b[0;34m)\u001b[0m\u001b[0;34m)\u001b[0m\u001b[0;34m\u001b[0m\u001b[0;34m\u001b[0m\u001b[0m\n\u001b[1;32m     18\u001b[0m             \u001b[0;32melse\u001b[0m\u001b[0;34m:\u001b[0m\u001b[0;34m\u001b[0m\u001b[0;34m\u001b[0m\u001b[0m\n\u001b[0;32m---> 19\u001b[0;31m                 \u001b[0mtest_pred\u001b[0m \u001b[0;34m=\u001b[0m \u001b[0mnet\u001b[0m\u001b[0;34m(\u001b[0m\u001b[0mX_val\u001b[0m\u001b[0;34m.\u001b[0m\u001b[0munsqueeze\u001b[0m\u001b[0;34m(\u001b[0m\u001b[0;36m0\u001b[0m\u001b[0;34m)\u001b[0m\u001b[0;34m)\u001b[0m\u001b[0;34m.\u001b[0m\u001b[0msqueeze\u001b[0m\u001b[0;34m(\u001b[0m\u001b[0;34m)\u001b[0m\u001b[0;34m.\u001b[0m\u001b[0margmax\u001b[0m\u001b[0;34m(\u001b[0m\u001b[0mdim\u001b[0m \u001b[0;34m=\u001b[0m \u001b[0;36m1\u001b[0m\u001b[0;34m)\u001b[0m\u001b[0;34m\u001b[0m\u001b[0;34m\u001b[0m\u001b[0m\n\u001b[0m\u001b[1;32m     20\u001b[0m                 \u001b[0maccuracy_train\u001b[0m \u001b[0;34m=\u001b[0m \u001b[0maccuracy_score\u001b[0m\u001b[0;34m(\u001b[0m\u001b[0my\u001b[0m\u001b[0;34m,\u001b[0m \u001b[0moutput\u001b[0m\u001b[0;34m.\u001b[0m\u001b[0margmax\u001b[0m\u001b[0;34m(\u001b[0m\u001b[0mdim\u001b[0m \u001b[0;34m=\u001b[0m \u001b[0;36m1\u001b[0m\u001b[0;34m)\u001b[0m\u001b[0;34m)\u001b[0m\u001b[0;34m\u001b[0m\u001b[0;34m\u001b[0m\u001b[0m\n\u001b[1;32m     21\u001b[0m                 \u001b[0maccuracy_val\u001b[0m \u001b[0;34m=\u001b[0m \u001b[0maccuracy_score\u001b[0m\u001b[0;34m(\u001b[0m\u001b[0my_val\u001b[0m\u001b[0;34m,\u001b[0m \u001b[0mtest_pred\u001b[0m\u001b[0;34m)\u001b[0m\u001b[0;34m\u001b[0m\u001b[0;34m\u001b[0m\u001b[0m\n",
      "\u001b[0;31mKeyboardInterrupt\u001b[0m: "
     ]
    }
   ],
   "source": [
    "global_step = 0\n",
    "for epoch in range(EPOCHS):\n",
    "    for i, (X, y) in enumerate(train_loader):\n",
    "        # y = y.float()\n",
    "        output = net(X.unsqueeze(0)).squeeze()\n",
    "        loss = criterion(output, y)\n",
    "        optimizer.zero_grad()\n",
    "        loss.backward()\n",
    "        optimizer.step()\n",
    "        global_step += 1\n",
    "\n",
    "        if i % 100 == 0:\n",
    "            net.eval()\n",
    "            if net.num_class == 1: # !!! not complete yet !!!\n",
    "                test_pred = net(X_val.unsqueeze(0)).squeeze()\n",
    "                accuracy_train = accuracy_score(y, (output > 0.5).int())\n",
    "                accuracy_val = accuracy_score(y_val, (test_pred > 0.5).int())\n",
    "            else:\n",
    "                test_pred = net(X_val.unsqueeze(0)).squeeze().argmax(dim = 1)\n",
    "                accuracy_train = accuracy_score(y, output.argmax(dim = 1))\n",
    "                accuracy_val = accuracy_score(y_val, test_pred)\n",
    "            print('epoch:{:<2d} | iteration:{:<4d} | loss:{:<6.4f} | accuracy_val:{:<4.2f} | accuracy_train:{:<4.2f}'.format(epoch, i, loss, accuracy_val, accuracy_train))\n",
    "\n",
    "            # summary writer\n",
    "            writer.add_scalar('loss_train', loss, global_step)\n",
    "            writer.add_scalar('accuracy/train', accuracy_train, global_step)\n",
    "            writer.add_scalar('accuracy/val', accuracy_val, global_step)\n",
    "            writer.add_scalar('lr', optimizer.state_dict()['param_groups'][0]['lr'], global_step)\n",
    "            net.train()"
   ]
  },
  {
   "source": [
    "# Test (Tiny DataSet)"
   ],
   "cell_type": "markdown",
   "metadata": {}
  },
  {
   "cell_type": "code",
   "execution_count": 252,
   "metadata": {},
   "outputs": [
    {
     "output_type": "execute_result",
     "data": {
      "text/plain": [
       "38310"
      ]
     },
     "metadata": {},
     "execution_count": 252
    }
   ],
   "source": [
    "global_step"
   ]
  },
  {
   "cell_type": "code",
   "execution_count": 87,
   "metadata": {},
   "outputs": [],
   "source": [
    "# data = TMR_Dataset(np.array(X_train)[:20,:], y_train[:20] - 1)\n",
    "data = TMR_Dataset(np.array(X_train)[:20,:], [0]*12 + [1]*8)\n",
    "train_loader = DataLoader(data, batch_size = 20, shuffle = False)"
   ]
  },
  {
   "cell_type": "code",
   "execution_count": 88,
   "metadata": {},
   "outputs": [],
   "source": [
    "X, y = next(iter(train_loader))"
   ]
  },
  {
   "cell_type": "code",
   "execution_count": 100,
   "metadata": {},
   "outputs": [],
   "source": [
    "device = torch.device(\"cuda\" if torch.cuda.is_available() else \"cpu\")\n",
    "net = BiLSTM(feature_size = 32, hidden_size = 128, lstm_layer = 8, num_class = 2).to(device)\n",
    "optimizer = torch.optim.Adam(net.parameters(), lr = LR)\n",
    "criterion = nn.CrossEntropyLoss()"
   ]
  },
  {
   "cell_type": "code",
   "execution_count": 101,
   "metadata": {},
   "outputs": [],
   "source": [
    "global_step = 0\n",
    "accs = []\n",
    "for epoch in range(1000):\n",
    "    output = net(X.unsqueeze(0)).squeeze()\n",
    "    loss = criterion(output, y)\n",
    "    optimizer.zero_grad()\n",
    "    loss.backward()\n",
    "    optimizer.step()\n",
    "\n",
    "    pred = output.argmax(dim = 1)\n",
    "    accuracy = accuracy_score(y, pred)\n",
    "    # print(epoch, accuracy)\n",
    "    accs.append(accuracy)"
   ]
  },
  {
   "cell_type": "code",
   "execution_count": 102,
   "metadata": {},
   "outputs": [
    {
     "output_type": "execute_result",
     "data": {
      "text/plain": [
       "[<matplotlib.lines.Line2D at 0x7ff4efd1b9d0>]"
      ]
     },
     "metadata": {},
     "execution_count": 102
    },
    {
     "output_type": "display_data",
     "data": {
      "text/plain": "<Figure size 432x288 with 1 Axes>",
      "image/svg+xml": "<?xml version=\"1.0\" encoding=\"utf-8\" standalone=\"no\"?>\n<!DOCTYPE svg PUBLIC \"-//W3C//DTD SVG 1.1//EN\"\n  \"http://www.w3.org/Graphics/SVG/1.1/DTD/svg11.dtd\">\n<svg height=\"248.518125pt\" version=\"1.1\" viewBox=\"0 0 372.103125 248.518125\" width=\"372.103125pt\" xmlns=\"http://www.w3.org/2000/svg\" xmlns:xlink=\"http://www.w3.org/1999/xlink\">\n <metadata>\n  <rdf:RDF xmlns:cc=\"http://creativecommons.org/ns#\" xmlns:dc=\"http://purl.org/dc/elements/1.1/\" xmlns:rdf=\"http://www.w3.org/1999/02/22-rdf-syntax-ns#\">\n   <cc:Work>\n    <dc:type rdf:resource=\"http://purl.org/dc/dcmitype/StillImage\"/>\n    <dc:date>2021-06-04T10:54:17.509166</dc:date>\n    <dc:format>image/svg+xml</dc:format>\n    <dc:creator>\n     <cc:Agent>\n      <dc:title>Matplotlib v3.4.2, https://matplotlib.org/</dc:title>\n     </cc:Agent>\n    </dc:creator>\n   </cc:Work>\n  </rdf:RDF>\n </metadata>\n <defs>\n  <style type=\"text/css\">*{stroke-linecap:butt;stroke-linejoin:round;}</style>\n </defs>\n <g id=\"figure_1\">\n  <g id=\"patch_1\">\n   <path d=\"M 0 248.518125 \nL 372.103125 248.518125 \nL 372.103125 0 \nL 0 0 \nz\n\"/>\n  </g>\n  <g id=\"axes_1\">\n   <g id=\"patch_2\">\n    <path d=\"M 30.103125 224.64 \nL 364.903125 224.64 \nL 364.903125 7.2 \nL 30.103125 7.2 \nz\n\"/>\n   </g>\n   <g id=\"matplotlib.axis_1\">\n    <g id=\"xtick_1\">\n     <g id=\"line2d_1\">\n      <defs>\n       <path d=\"M 0 0 \nL 0 3.5 \n\" id=\"mcdd12a22a7\" style=\"stroke:#ffffff;stroke-width:0.8;\"/>\n      </defs>\n      <g>\n       <use style=\"fill:#ffffff;stroke:#ffffff;stroke-width:0.8;\" x=\"45.321307\" xlink:href=\"#mcdd12a22a7\" y=\"224.64\"/>\n      </g>\n     </g>\n     <g id=\"text_1\">\n      <!-- 0 -->\n      <g style=\"fill:#ffffff;\" transform=\"translate(42.140057 239.238437)scale(0.1 -0.1)\">\n       <defs>\n        <path d=\"M 2034 4250 \nQ 1547 4250 1301 3770 \nQ 1056 3291 1056 2328 \nQ 1056 1369 1301 889 \nQ 1547 409 2034 409 \nQ 2525 409 2770 889 \nQ 3016 1369 3016 2328 \nQ 3016 3291 2770 3770 \nQ 2525 4250 2034 4250 \nz\nM 2034 4750 \nQ 2819 4750 3233 4129 \nQ 3647 3509 3647 2328 \nQ 3647 1150 3233 529 \nQ 2819 -91 2034 -91 \nQ 1250 -91 836 529 \nQ 422 1150 422 2328 \nQ 422 3509 836 4129 \nQ 1250 4750 2034 4750 \nz\n\" id=\"DejaVuSans-30\" transform=\"scale(0.015625)\"/>\n       </defs>\n       <use xlink:href=\"#DejaVuSans-30\"/>\n      </g>\n     </g>\n    </g>\n    <g id=\"xtick_2\">\n     <g id=\"line2d_2\">\n      <g>\n       <use style=\"fill:#ffffff;stroke:#ffffff;stroke-width:0.8;\" x=\"106.254968\" xlink:href=\"#mcdd12a22a7\" y=\"224.64\"/>\n      </g>\n     </g>\n     <g id=\"text_2\">\n      <!-- 200 -->\n      <g style=\"fill:#ffffff;\" transform=\"translate(96.711218 239.238437)scale(0.1 -0.1)\">\n       <defs>\n        <path d=\"M 1228 531 \nL 3431 531 \nL 3431 0 \nL 469 0 \nL 469 531 \nQ 828 903 1448 1529 \nQ 2069 2156 2228 2338 \nQ 2531 2678 2651 2914 \nQ 2772 3150 2772 3378 \nQ 2772 3750 2511 3984 \nQ 2250 4219 1831 4219 \nQ 1534 4219 1204 4116 \nQ 875 4013 500 3803 \nL 500 4441 \nQ 881 4594 1212 4672 \nQ 1544 4750 1819 4750 \nQ 2544 4750 2975 4387 \nQ 3406 4025 3406 3419 \nQ 3406 3131 3298 2873 \nQ 3191 2616 2906 2266 \nQ 2828 2175 2409 1742 \nQ 1991 1309 1228 531 \nz\n\" id=\"DejaVuSans-32\" transform=\"scale(0.015625)\"/>\n       </defs>\n       <use xlink:href=\"#DejaVuSans-32\"/>\n       <use x=\"63.623047\" xlink:href=\"#DejaVuSans-30\"/>\n       <use x=\"127.246094\" xlink:href=\"#DejaVuSans-30\"/>\n      </g>\n     </g>\n    </g>\n    <g id=\"xtick_3\">\n     <g id=\"line2d_3\">\n      <g>\n       <use style=\"fill:#ffffff;stroke:#ffffff;stroke-width:0.8;\" x=\"167.188629\" xlink:href=\"#mcdd12a22a7\" y=\"224.64\"/>\n      </g>\n     </g>\n     <g id=\"text_3\">\n      <!-- 400 -->\n      <g style=\"fill:#ffffff;\" transform=\"translate(157.644879 239.238437)scale(0.1 -0.1)\">\n       <defs>\n        <path d=\"M 2419 4116 \nL 825 1625 \nL 2419 1625 \nL 2419 4116 \nz\nM 2253 4666 \nL 3047 4666 \nL 3047 1625 \nL 3713 1625 \nL 3713 1100 \nL 3047 1100 \nL 3047 0 \nL 2419 0 \nL 2419 1100 \nL 313 1100 \nL 313 1709 \nL 2253 4666 \nz\n\" id=\"DejaVuSans-34\" transform=\"scale(0.015625)\"/>\n       </defs>\n       <use xlink:href=\"#DejaVuSans-34\"/>\n       <use x=\"63.623047\" xlink:href=\"#DejaVuSans-30\"/>\n       <use x=\"127.246094\" xlink:href=\"#DejaVuSans-30\"/>\n      </g>\n     </g>\n    </g>\n    <g id=\"xtick_4\">\n     <g id=\"line2d_4\">\n      <g>\n       <use style=\"fill:#ffffff;stroke:#ffffff;stroke-width:0.8;\" x=\"228.12229\" xlink:href=\"#mcdd12a22a7\" y=\"224.64\"/>\n      </g>\n     </g>\n     <g id=\"text_4\">\n      <!-- 600 -->\n      <g style=\"fill:#ffffff;\" transform=\"translate(218.57854 239.238437)scale(0.1 -0.1)\">\n       <defs>\n        <path d=\"M 2113 2584 \nQ 1688 2584 1439 2293 \nQ 1191 2003 1191 1497 \nQ 1191 994 1439 701 \nQ 1688 409 2113 409 \nQ 2538 409 2786 701 \nQ 3034 994 3034 1497 \nQ 3034 2003 2786 2293 \nQ 2538 2584 2113 2584 \nz\nM 3366 4563 \nL 3366 3988 \nQ 3128 4100 2886 4159 \nQ 2644 4219 2406 4219 \nQ 1781 4219 1451 3797 \nQ 1122 3375 1075 2522 \nQ 1259 2794 1537 2939 \nQ 1816 3084 2150 3084 \nQ 2853 3084 3261 2657 \nQ 3669 2231 3669 1497 \nQ 3669 778 3244 343 \nQ 2819 -91 2113 -91 \nQ 1303 -91 875 529 \nQ 447 1150 447 2328 \nQ 447 3434 972 4092 \nQ 1497 4750 2381 4750 \nQ 2619 4750 2861 4703 \nQ 3103 4656 3366 4563 \nz\n\" id=\"DejaVuSans-36\" transform=\"scale(0.015625)\"/>\n       </defs>\n       <use xlink:href=\"#DejaVuSans-36\"/>\n       <use x=\"63.623047\" xlink:href=\"#DejaVuSans-30\"/>\n       <use x=\"127.246094\" xlink:href=\"#DejaVuSans-30\"/>\n      </g>\n     </g>\n    </g>\n    <g id=\"xtick_5\">\n     <g id=\"line2d_5\">\n      <g>\n       <use style=\"fill:#ffffff;stroke:#ffffff;stroke-width:0.8;\" x=\"289.055951\" xlink:href=\"#mcdd12a22a7\" y=\"224.64\"/>\n      </g>\n     </g>\n     <g id=\"text_5\">\n      <!-- 800 -->\n      <g style=\"fill:#ffffff;\" transform=\"translate(279.512201 239.238437)scale(0.1 -0.1)\">\n       <defs>\n        <path d=\"M 2034 2216 \nQ 1584 2216 1326 1975 \nQ 1069 1734 1069 1313 \nQ 1069 891 1326 650 \nQ 1584 409 2034 409 \nQ 2484 409 2743 651 \nQ 3003 894 3003 1313 \nQ 3003 1734 2745 1975 \nQ 2488 2216 2034 2216 \nz\nM 1403 2484 \nQ 997 2584 770 2862 \nQ 544 3141 544 3541 \nQ 544 4100 942 4425 \nQ 1341 4750 2034 4750 \nQ 2731 4750 3128 4425 \nQ 3525 4100 3525 3541 \nQ 3525 3141 3298 2862 \nQ 3072 2584 2669 2484 \nQ 3125 2378 3379 2068 \nQ 3634 1759 3634 1313 \nQ 3634 634 3220 271 \nQ 2806 -91 2034 -91 \nQ 1263 -91 848 271 \nQ 434 634 434 1313 \nQ 434 1759 690 2068 \nQ 947 2378 1403 2484 \nz\nM 1172 3481 \nQ 1172 3119 1398 2916 \nQ 1625 2713 2034 2713 \nQ 2441 2713 2670 2916 \nQ 2900 3119 2900 3481 \nQ 2900 3844 2670 4047 \nQ 2441 4250 2034 4250 \nQ 1625 4250 1398 4047 \nQ 1172 3844 1172 3481 \nz\n\" id=\"DejaVuSans-38\" transform=\"scale(0.015625)\"/>\n       </defs>\n       <use xlink:href=\"#DejaVuSans-38\"/>\n       <use x=\"63.623047\" xlink:href=\"#DejaVuSans-30\"/>\n       <use x=\"127.246094\" xlink:href=\"#DejaVuSans-30\"/>\n      </g>\n     </g>\n    </g>\n    <g id=\"xtick_6\">\n     <g id=\"line2d_6\">\n      <g>\n       <use style=\"fill:#ffffff;stroke:#ffffff;stroke-width:0.8;\" x=\"349.989611\" xlink:href=\"#mcdd12a22a7\" y=\"224.64\"/>\n      </g>\n     </g>\n     <g id=\"text_6\">\n      <!-- 1000 -->\n      <g style=\"fill:#ffffff;\" transform=\"translate(337.264611 239.238437)scale(0.1 -0.1)\">\n       <defs>\n        <path d=\"M 794 531 \nL 1825 531 \nL 1825 4091 \nL 703 3866 \nL 703 4441 \nL 1819 4666 \nL 2450 4666 \nL 2450 531 \nL 3481 531 \nL 3481 0 \nL 794 0 \nL 794 531 \nz\n\" id=\"DejaVuSans-31\" transform=\"scale(0.015625)\"/>\n       </defs>\n       <use xlink:href=\"#DejaVuSans-31\"/>\n       <use x=\"63.623047\" xlink:href=\"#DejaVuSans-30\"/>\n       <use x=\"127.246094\" xlink:href=\"#DejaVuSans-30\"/>\n       <use x=\"190.869141\" xlink:href=\"#DejaVuSans-30\"/>\n      </g>\n     </g>\n    </g>\n   </g>\n   <g id=\"matplotlib.axis_2\">\n    <g id=\"ytick_1\">\n     <g id=\"line2d_7\">\n      <defs>\n       <path d=\"M 0 0 \nL -3.5 0 \n\" id=\"m695a72d956\" style=\"stroke:#ffffff;stroke-width:0.8;\"/>\n      </defs>\n      <g>\n       <use style=\"fill:#ffffff;stroke:#ffffff;stroke-width:0.8;\" x=\"30.103125\" xlink:href=\"#m695a72d956\" y=\"214.756364\"/>\n      </g>\n     </g>\n     <g id=\"text_7\">\n      <!-- 0.0 -->\n      <g style=\"fill:#ffffff;\" transform=\"translate(7.2 218.555582)scale(0.1 -0.1)\">\n       <defs>\n        <path d=\"M 684 794 \nL 1344 794 \nL 1344 0 \nL 684 0 \nL 684 794 \nz\n\" id=\"DejaVuSans-2e\" transform=\"scale(0.015625)\"/>\n       </defs>\n       <use xlink:href=\"#DejaVuSans-30\"/>\n       <use x=\"63.623047\" xlink:href=\"#DejaVuSans-2e\"/>\n       <use x=\"95.410156\" xlink:href=\"#DejaVuSans-30\"/>\n      </g>\n     </g>\n    </g>\n    <g id=\"ytick_2\">\n     <g id=\"line2d_8\">\n      <g>\n       <use style=\"fill:#ffffff;stroke:#ffffff;stroke-width:0.8;\" x=\"30.103125\" xlink:href=\"#m695a72d956\" y=\"175.221818\"/>\n      </g>\n     </g>\n     <g id=\"text_8\">\n      <!-- 0.2 -->\n      <g style=\"fill:#ffffff;\" transform=\"translate(7.2 179.021037)scale(0.1 -0.1)\">\n       <use xlink:href=\"#DejaVuSans-30\"/>\n       <use x=\"63.623047\" xlink:href=\"#DejaVuSans-2e\"/>\n       <use x=\"95.410156\" xlink:href=\"#DejaVuSans-32\"/>\n      </g>\n     </g>\n    </g>\n    <g id=\"ytick_3\">\n     <g id=\"line2d_9\">\n      <g>\n       <use style=\"fill:#ffffff;stroke:#ffffff;stroke-width:0.8;\" x=\"30.103125\" xlink:href=\"#m695a72d956\" y=\"135.687273\"/>\n      </g>\n     </g>\n     <g id=\"text_9\">\n      <!-- 0.4 -->\n      <g style=\"fill:#ffffff;\" transform=\"translate(7.2 139.486491)scale(0.1 -0.1)\">\n       <use xlink:href=\"#DejaVuSans-30\"/>\n       <use x=\"63.623047\" xlink:href=\"#DejaVuSans-2e\"/>\n       <use x=\"95.410156\" xlink:href=\"#DejaVuSans-34\"/>\n      </g>\n     </g>\n    </g>\n    <g id=\"ytick_4\">\n     <g id=\"line2d_10\">\n      <g>\n       <use style=\"fill:#ffffff;stroke:#ffffff;stroke-width:0.8;\" x=\"30.103125\" xlink:href=\"#m695a72d956\" y=\"96.152727\"/>\n      </g>\n     </g>\n     <g id=\"text_10\">\n      <!-- 0.6 -->\n      <g style=\"fill:#ffffff;\" transform=\"translate(7.2 99.951946)scale(0.1 -0.1)\">\n       <use xlink:href=\"#DejaVuSans-30\"/>\n       <use x=\"63.623047\" xlink:href=\"#DejaVuSans-2e\"/>\n       <use x=\"95.410156\" xlink:href=\"#DejaVuSans-36\"/>\n      </g>\n     </g>\n    </g>\n    <g id=\"ytick_5\">\n     <g id=\"line2d_11\">\n      <g>\n       <use style=\"fill:#ffffff;stroke:#ffffff;stroke-width:0.8;\" x=\"30.103125\" xlink:href=\"#m695a72d956\" y=\"56.618182\"/>\n      </g>\n     </g>\n     <g id=\"text_11\">\n      <!-- 0.8 -->\n      <g style=\"fill:#ffffff;\" transform=\"translate(7.2 60.417401)scale(0.1 -0.1)\">\n       <use xlink:href=\"#DejaVuSans-30\"/>\n       <use x=\"63.623047\" xlink:href=\"#DejaVuSans-2e\"/>\n       <use x=\"95.410156\" xlink:href=\"#DejaVuSans-38\"/>\n      </g>\n     </g>\n    </g>\n    <g id=\"ytick_6\">\n     <g id=\"line2d_12\">\n      <g>\n       <use style=\"fill:#ffffff;stroke:#ffffff;stroke-width:0.8;\" x=\"30.103125\" xlink:href=\"#m695a72d956\" y=\"17.083636\"/>\n      </g>\n     </g>\n     <g id=\"text_12\">\n      <!-- 1.0 -->\n      <g style=\"fill:#ffffff;\" transform=\"translate(7.2 20.882855)scale(0.1 -0.1)\">\n       <use xlink:href=\"#DejaVuSans-31\"/>\n       <use x=\"63.623047\" xlink:href=\"#DejaVuSans-2e\"/>\n       <use x=\"95.410156\" xlink:href=\"#DejaVuSans-30\"/>\n      </g>\n     </g>\n    </g>\n   </g>\n   <g id=\"line2d_13\">\n    <path clip-path=\"url(#pcbb1413006)\" d=\"M 45.321307 194.989091 \nL 45.930643 175.221818 \nL 46.235312 214.756364 \nL 46.53998 194.989091 \nL 46.844648 165.338182 \nL 47.149317 185.105455 \nL 48.672658 185.105455 \nL 48.977326 204.872727 \nL 49.281995 204.872727 \nL 49.586663 175.221818 \nL 49.891331 194.989091 \nL 50.500668 175.221818 \nL 50.805336 214.756364 \nL 51.110005 185.105455 \nL 51.414673 175.221818 \nL 51.719341 204.872727 \nL 52.02401 175.221818 \nL 52.938014 175.221818 \nL 53.242683 155.454545 \nL 53.547351 185.105455 \nL 53.852019 175.221818 \nL 54.156688 194.989091 \nL 54.461356 175.221818 \nL 54.766024 204.872727 \nL 55.070693 204.872727 \nL 55.375361 194.989091 \nL 55.680029 214.756364 \nL 55.984697 194.989091 \nL 56.289366 185.105455 \nL 56.594034 165.338182 \nL 56.898702 185.105455 \nL 57.508039 185.105455 \nL 57.812707 204.872727 \nL 58.117376 135.687273 \nL 58.422044 175.221818 \nL 58.726712 155.454545 \nL 59.336049 175.221818 \nL 59.640717 165.338182 \nL 59.945385 194.989091 \nL 60.250054 185.105455 \nL 60.554722 204.872727 \nL 60.85939 175.221818 \nL 61.164059 165.338182 \nL 61.468727 194.989091 \nL 61.773395 135.687273 \nL 62.078064 194.989091 \nL 62.382732 165.338182 \nL 62.6874 165.338182 \nL 62.992068 194.989091 \nL 63.296737 185.105455 \nL 63.601405 185.105455 \nL 63.906073 145.570909 \nL 64.51541 194.989091 \nL 64.820078 194.989091 \nL 65.124747 165.338182 \nL 65.734083 145.570909 \nL 66.038752 194.989091 \nL 66.34342 185.105455 \nL 66.648088 165.338182 \nL 66.952756 185.105455 \nL 67.257425 155.454545 \nL 67.866761 155.454545 \nL 68.17143 185.105455 \nL 68.476098 165.338182 \nL 68.780766 115.92 \nL 69.085435 175.221818 \nL 69.390103 165.338182 \nL 69.694771 165.338182 \nL 69.999439 175.221818 \nL 70.304108 165.338182 \nL 70.608776 185.105455 \nL 71.218113 145.570909 \nL 71.522781 155.454545 \nL 71.827449 194.989091 \nL 72.132118 165.338182 \nL 72.436786 175.221818 \nL 72.741454 175.221818 \nL 73.046123 145.570909 \nL 73.350791 185.105455 \nL 73.655459 115.92 \nL 73.960127 175.221818 \nL 74.264796 155.454545 \nL 74.569464 175.221818 \nL 74.874132 135.687273 \nL 75.178801 194.989091 \nL 75.483469 175.221818 \nL 75.788137 175.221818 \nL 76.092806 194.989091 \nL 76.397474 155.454545 \nL 76.702142 185.105455 \nL 77.006811 155.454545 \nL 77.311479 165.338182 \nL 77.616147 135.687273 \nL 78.225484 185.105455 \nL 78.530152 155.454545 \nL 78.83482 165.338182 \nL 79.139489 145.570909 \nL 79.444157 155.454545 \nL 79.748825 175.221818 \nL 80.053494 125.803636 \nL 80.66283 175.221818 \nL 80.967498 194.989091 \nL 81.272167 135.687273 \nL 81.576835 175.221818 \nL 81.881503 155.454545 \nL 82.186172 175.221818 \nL 82.49084 145.570909 \nL 82.795508 175.221818 \nL 83.100177 155.454545 \nL 83.404845 155.454545 \nL 83.709513 175.221818 \nL 84.014182 135.687273 \nL 84.31885 155.454545 \nL 84.623518 155.454545 \nL 84.928186 165.338182 \nL 85.232855 125.803636 \nL 85.537523 135.687273 \nL 85.842191 165.338182 \nL 86.14686 175.221818 \nL 86.756196 155.454545 \nL 87.060865 194.989091 \nL 87.365533 135.687273 \nL 87.670201 175.221818 \nL 87.974869 175.221818 \nL 88.279538 145.570909 \nL 88.584206 165.338182 \nL 88.888874 135.687273 \nL 89.193543 135.687273 \nL 89.498211 155.454545 \nL 89.802879 135.687273 \nL 90.107548 135.687273 \nL 90.412216 155.454545 \nL 90.716884 165.338182 \nL 91.021553 165.338182 \nL 91.326221 125.803636 \nL 91.630889 145.570909 \nL 91.935557 125.803636 \nL 92.240226 135.687273 \nL 92.544894 155.454545 \nL 92.849562 115.92 \nL 93.154231 185.105455 \nL 93.458899 125.803636 \nL 93.763567 175.221818 \nL 94.068236 165.338182 \nL 94.372904 125.803636 \nL 94.677572 185.105455 \nL 94.98224 175.221818 \nL 95.286909 155.454545 \nL 95.591577 165.338182 \nL 95.896245 165.338182 \nL 96.200914 185.105455 \nL 96.505582 155.454545 \nL 96.81025 175.221818 \nL 97.114919 155.454545 \nL 97.419587 125.803636 \nL 97.724255 115.92 \nL 98.028924 175.221818 \nL 98.333592 145.570909 \nL 98.63826 175.221818 \nL 98.942928 165.338182 \nL 99.247597 165.338182 \nL 99.552265 155.454545 \nL 99.856933 155.454545 \nL 100.161602 115.92 \nL 100.46627 165.338182 \nL 100.770938 165.338182 \nL 101.075607 96.152727 \nL 101.380275 155.454545 \nL 101.684943 145.570909 \nL 101.989611 165.338182 \nL 102.29428 155.454545 \nL 102.598948 135.687273 \nL 102.903616 175.221818 \nL 103.208285 155.454545 \nL 103.512953 155.454545 \nL 103.817621 125.803636 \nL 104.426958 175.221818 \nL 104.731626 165.338182 \nL 105.340963 185.105455 \nL 105.645631 145.570909 \nL 105.950299 155.454545 \nL 106.254968 145.570909 \nL 106.559636 155.454545 \nL 106.864304 135.687273 \nL 107.168973 106.036364 \nL 107.473641 145.570909 \nL 107.778309 145.570909 \nL 108.082978 175.221818 \nL 108.387646 135.687273 \nL 108.692314 145.570909 \nL 108.996982 175.221818 \nL 109.301651 165.338182 \nL 109.606319 135.687273 \nL 109.910987 135.687273 \nL 110.215656 155.454545 \nL 110.824992 135.687273 \nL 111.129661 135.687273 \nL 111.738997 185.105455 \nL 112.043666 125.803636 \nL 112.348334 175.221818 \nL 112.653002 145.570909 \nL 112.95767 155.454545 \nL 113.262339 155.454545 \nL 113.567007 115.92 \nL 113.871675 165.338182 \nL 114.176344 125.803636 \nL 114.78568 145.570909 \nL 115.090349 145.570909 \nL 115.395017 194.989091 \nL 115.699685 125.803636 \nL 116.004354 155.454545 \nL 116.309022 125.803636 \nL 116.61369 175.221818 \nL 116.918358 145.570909 \nL 117.223027 165.338182 \nL 117.527695 145.570909 \nL 117.832363 155.454545 \nL 118.4417 115.92 \nL 118.746368 76.385455 \nL 119.051037 185.105455 \nL 119.355705 135.687273 \nL 119.660373 175.221818 \nL 119.965041 125.803636 \nL 120.26971 115.92 \nL 120.574378 165.338182 \nL 120.879046 145.570909 \nL 121.183715 106.036364 \nL 121.488383 125.803636 \nL 121.793051 175.221818 \nL 122.09772 175.221818 \nL 122.402388 115.92 \nL 122.707056 135.687273 \nL 123.621061 165.338182 \nL 123.925729 135.687273 \nL 124.230398 165.338182 \nL 124.535066 165.338182 \nL 124.839734 155.454545 \nL 125.144403 155.454545 \nL 125.449071 106.036364 \nL 125.753739 115.92 \nL 126.058408 155.454545 \nL 126.363076 145.570909 \nL 126.667744 145.570909 \nL 126.972412 175.221818 \nL 127.277081 115.92 \nL 127.581749 106.036364 \nL 127.886417 135.687273 \nL 128.191086 125.803636 \nL 128.495754 125.803636 \nL 128.800422 155.454545 \nL 129.105091 155.454545 \nL 129.409759 145.570909 \nL 129.714427 145.570909 \nL 130.019096 115.92 \nL 130.323764 115.92 \nL 130.628432 155.454545 \nL 131.237769 155.454545 \nL 131.542437 115.92 \nL 131.847105 125.803636 \nL 132.151774 145.570909 \nL 132.456442 145.570909 \nL 133.065779 165.338182 \nL 133.370447 115.92 \nL 133.675115 165.338182 \nL 134.284452 115.92 \nL 134.58912 175.221818 \nL 134.893788 96.152727 \nL 135.198457 125.803636 \nL 135.503125 115.92 \nL 135.807793 145.570909 \nL 136.112462 155.454545 \nL 136.41713 155.454545 \nL 136.721798 106.036364 \nL 137.026467 115.92 \nL 137.331135 96.152727 \nL 137.635803 135.687273 \nL 137.940471 125.803636 \nL 138.24514 145.570909 \nL 138.549808 175.221818 \nL 138.854476 145.570909 \nL 139.463813 125.803636 \nL 139.768481 135.687273 \nL 140.07315 96.152727 \nL 140.377818 145.570909 \nL 140.682486 175.221818 \nL 140.987154 86.269091 \nL 141.596491 165.338182 \nL 141.901159 125.803636 \nL 142.205828 125.803636 \nL 142.510496 106.036364 \nL 142.815164 165.338182 \nL 143.119833 135.687273 \nL 143.424501 66.501818 \nL 143.729169 86.269091 \nL 144.033838 145.570909 \nL 144.338506 155.454545 \nL 144.643174 96.152727 \nL 144.947842 125.803636 \nL 145.252511 135.687273 \nL 145.557179 125.803636 \nL 145.861847 96.152727 \nL 146.166516 145.570909 \nL 146.471184 175.221818 \nL 146.775852 155.454545 \nL 147.080521 145.570909 \nL 147.385189 106.036364 \nL 147.689857 115.92 \nL 147.994525 135.687273 \nL 148.299194 115.92 \nL 148.603862 145.570909 \nL 148.90853 115.92 \nL 149.213199 115.92 \nL 149.517867 145.570909 \nL 150.127204 106.036364 \nL 150.431872 135.687273 \nL 150.73654 135.687273 \nL 151.041209 86.269091 \nL 151.345877 135.687273 \nL 151.650545 145.570909 \nL 151.955213 125.803636 \nL 152.259882 125.803636 \nL 152.56455 165.338182 \nL 152.869218 145.570909 \nL 153.173887 115.92 \nL 153.783223 96.152727 \nL 154.087892 125.803636 \nL 154.39256 125.803636 \nL 154.697228 145.570909 \nL 155.001896 125.803636 \nL 155.306565 125.803636 \nL 155.611233 115.92 \nL 155.915901 125.803636 \nL 156.22057 145.570909 \nL 156.829906 145.570909 \nL 157.134575 125.803636 \nL 157.439243 145.570909 \nL 157.743911 115.92 \nL 158.04858 115.92 \nL 158.353248 106.036364 \nL 158.657916 66.501818 \nL 158.962584 106.036364 \nL 159.267253 125.803636 \nL 159.571921 66.501818 \nL 159.876589 76.385455 \nL 160.181258 66.501818 \nL 160.485926 66.501818 \nL 160.790594 76.385455 \nL 161.399931 76.385455 \nL 162.313936 46.734545 \nL 162.618604 66.501818 \nL 162.923272 56.618182 \nL 163.227941 36.850909 \nL 163.532609 76.385455 \nL 163.837277 46.734545 \nL 164.141946 36.850909 \nL 164.751282 76.385455 \nL 165.360619 17.083636 \nL 165.665287 56.618182 \nL 165.969955 76.385455 \nL 166.579292 36.850909 \nL 166.88396 46.734545 \nL 167.188629 36.850909 \nL 167.797965 56.618182 \nL 168.102634 26.967273 \nL 168.407302 26.967273 \nL 168.71197 56.618182 \nL 169.016639 46.734545 \nL 169.321307 56.618182 \nL 169.625975 26.967273 \nL 169.930643 46.734545 \nL 170.53998 46.734545 \nL 171.149317 26.967273 \nL 171.758653 46.734545 \nL 172.063322 66.501818 \nL 172.36799 56.618182 \nL 172.672658 56.618182 \nL 172.977326 46.734545 \nL 173.281995 46.734545 \nL 173.586663 36.850909 \nL 173.891331 36.850909 \nL 174.500668 56.618182 \nL 174.805336 46.734545 \nL 175.110005 26.967273 \nL 175.414673 26.967273 \nL 175.719341 46.734545 \nL 176.02401 26.967273 \nL 176.328678 56.618182 \nL 176.633346 66.501818 \nL 176.938014 86.269091 \nL 177.242683 36.850909 \nL 177.547351 36.850909 \nL 177.852019 56.618182 \nL 178.461356 36.850909 \nL 178.766024 46.734545 \nL 179.070693 46.734545 \nL 179.375361 36.850909 \nL 179.680029 56.618182 \nL 179.984697 36.850909 \nL 180.289366 36.850909 \nL 180.594034 46.734545 \nL 180.898702 36.850909 \nL 181.203371 17.083636 \nL 181.508039 56.618182 \nL 181.812707 56.618182 \nL 182.117376 46.734545 \nL 182.422044 46.734545 \nL 183.031381 66.501818 \nL 183.640717 46.734545 \nL 183.945385 56.618182 \nL 184.250054 26.967273 \nL 184.85939 86.269091 \nL 185.164059 36.850909 \nL 185.468727 56.618182 \nL 185.773395 46.734545 \nL 186.382732 46.734545 \nL 186.6874 76.385455 \nL 186.992068 46.734545 \nL 187.601405 66.501818 \nL 187.906073 36.850909 \nL 188.210742 66.501818 \nL 188.51541 46.734545 \nL 188.820078 36.850909 \nL 189.124747 66.501818 \nL 189.429415 46.734545 \nL 189.734083 46.734545 \nL 190.038752 56.618182 \nL 190.34342 36.850909 \nL 190.648088 46.734545 \nL 190.952756 36.850909 \nL 191.257425 36.850909 \nL 191.562093 56.618182 \nL 191.866761 36.850909 \nL 192.476098 36.850909 \nL 192.780766 46.734545 \nL 193.085435 46.734545 \nL 193.390103 66.501818 \nL 193.694771 46.734545 \nL 194.608776 46.734545 \nL 194.913444 56.618182 \nL 195.218113 46.734545 \nL 195.522781 66.501818 \nL 195.827449 26.967273 \nL 196.132118 26.967273 \nL 196.741454 46.734545 \nL 197.046123 46.734545 \nL 197.350791 56.618182 \nL 197.960127 56.618182 \nL 198.264796 76.385455 \nL 198.569464 66.501818 \nL 199.788137 66.501818 \nL 200.092806 56.618182 \nL 200.397474 66.501818 \nL 200.702142 56.618182 \nL 201.006811 56.618182 \nL 201.311479 46.734545 \nL 201.616147 56.618182 \nL 201.920815 36.850909 \nL 202.225484 46.734545 \nL 202.530152 66.501818 \nL 202.83482 46.734545 \nL 203.139489 46.734545 \nL 203.748825 66.501818 \nL 204.053494 66.501818 \nL 204.358162 56.618182 \nL 204.66283 66.501818 \nL 204.967498 56.618182 \nL 205.272167 66.501818 \nL 205.576835 46.734545 \nL 205.881503 46.734545 \nL 206.49084 86.269091 \nL 206.795508 56.618182 \nL 207.100177 66.501818 \nL 207.404845 46.734545 \nL 207.709513 76.385455 \nL 208.014182 56.618182 \nL 208.31885 76.385455 \nL 208.623518 46.734545 \nL 208.928186 66.501818 \nL 209.232855 46.734545 \nL 209.842191 96.152727 \nL 210.451528 46.734545 \nL 210.756196 86.269091 \nL 211.060865 66.501818 \nL 211.365533 66.501818 \nL 211.670201 46.734545 \nL 211.974869 76.385455 \nL 212.279538 46.734545 \nL 212.584206 76.385455 \nL 212.888874 46.734545 \nL 213.193543 36.850909 \nL 213.498211 56.618182 \nL 213.802879 46.734545 \nL 214.107548 56.618182 \nL 214.412216 36.850909 \nL 214.716884 46.734545 \nL 215.021553 66.501818 \nL 215.326221 36.850909 \nL 215.630889 56.618182 \nL 215.935557 46.734545 \nL 216.240226 56.618182 \nL 216.544894 56.618182 \nL 216.849562 66.501818 \nL 217.154231 36.850909 \nL 217.458899 26.967273 \nL 217.763567 56.618182 \nL 218.068236 46.734545 \nL 218.372904 56.618182 \nL 218.677572 56.618182 \nL 219.286909 36.850909 \nL 219.591577 56.618182 \nL 219.896245 56.618182 \nL 220.200914 46.734545 \nL 220.505582 46.734545 \nL 220.81025 26.967273 \nL 221.114919 36.850909 \nL 221.419587 36.850909 \nL 221.724255 26.967273 \nL 222.028924 66.501818 \nL 222.333592 46.734545 \nL 222.63826 36.850909 \nL 222.942928 36.850909 \nL 223.247597 56.618182 \nL 223.856933 36.850909 \nL 224.161602 56.618182 \nL 224.46627 46.734545 \nL 224.770938 46.734545 \nL 225.075607 36.850909 \nL 225.380275 46.734545 \nL 225.684943 36.850909 \nL 225.989611 66.501818 \nL 226.29428 46.734545 \nL 226.903616 46.734545 \nL 227.512953 26.967273 \nL 227.817621 36.850909 \nL 228.12229 36.850909 \nL 228.426958 56.618182 \nL 228.731626 46.734545 \nL 229.036295 46.734545 \nL 229.340963 66.501818 \nL 229.645631 56.618182 \nL 229.950299 66.501818 \nL 230.254968 26.967273 \nL 230.559636 36.850909 \nL 230.864304 26.967273 \nL 231.168973 46.734545 \nL 231.778309 26.967273 \nL 232.082978 26.967273 \nL 232.387646 56.618182 \nL 232.692314 46.734545 \nL 232.996982 56.618182 \nL 233.301651 36.850909 \nL 233.606319 46.734545 \nL 234.215656 46.734545 \nL 234.520324 36.850909 \nL 234.824992 36.850909 \nL 235.129661 46.734545 \nL 235.434329 36.850909 \nL 235.738997 46.734545 \nL 236.043666 46.734545 \nL 236.348334 66.501818 \nL 236.653002 56.618182 \nL 236.95767 66.501818 \nL 237.262339 56.618182 \nL 237.567007 56.618182 \nL 237.871675 46.734545 \nL 238.176344 66.501818 \nL 238.481012 76.385455 \nL 238.78568 76.385455 \nL 239.090349 56.618182 \nL 240.004354 56.618182 \nL 240.309022 46.734545 \nL 240.61369 56.618182 \nL 241.832363 56.618182 \nL 242.137032 76.385455 \nL 242.4417 46.734545 \nL 242.746368 46.734545 \nL 243.051037 56.618182 \nL 243.355705 46.734545 \nL 243.660373 46.734545 \nL 243.965041 56.618182 \nL 244.26971 36.850909 \nL 244.574378 46.734545 \nL 245.488383 46.734545 \nL 245.793051 26.967273 \nL 246.09772 36.850909 \nL 246.402388 36.850909 \nL 246.707056 46.734545 \nL 247.316393 46.734545 \nL 247.925729 26.967273 \nL 248.230398 46.734545 \nL 248.839734 46.734545 \nL 249.144403 36.850909 \nL 249.449071 56.618182 \nL 249.753739 26.967273 \nL 250.058408 66.501818 \nL 250.363076 56.618182 \nL 250.667744 26.967273 \nL 250.972412 36.850909 \nL 251.277081 26.967273 \nL 251.581749 36.850909 \nL 251.886417 26.967273 \nL 252.191086 36.850909 \nL 252.495754 36.850909 \nL 252.800422 56.618182 \nL 253.105091 46.734545 \nL 253.409759 46.734545 \nL 253.714427 36.850909 \nL 254.323764 36.850909 \nL 254.628432 26.967273 \nL 254.9331 46.734545 \nL 255.237769 46.734545 \nL 255.542437 36.850909 \nL 255.847105 46.734545 \nL 256.151774 26.967273 \nL 256.456442 56.618182 \nL 256.76111 26.967273 \nL 257.065779 26.967273 \nL 257.370447 36.850909 \nL 257.675115 36.850909 \nL 257.979783 46.734545 \nL 258.284452 36.850909 \nL 258.58912 46.734545 \nL 258.893788 36.850909 \nL 259.198457 46.734545 \nL 259.503125 26.967273 \nL 259.807793 36.850909 \nL 260.41713 36.850909 \nL 260.721798 46.734545 \nL 261.026467 36.850909 \nL 261.331135 46.734545 \nL 261.635803 36.850909 \nL 261.940471 36.850909 \nL 262.24514 26.967273 \nL 262.854476 46.734545 \nL 263.159145 36.850909 \nL 263.463813 36.850909 \nL 263.768481 46.734545 \nL 264.07315 26.967273 \nL 264.377818 36.850909 \nL 266.205828 36.850909 \nL 266.510496 56.618182 \nL 266.815164 36.850909 \nL 267.119833 56.618182 \nL 267.424501 56.618182 \nL 267.729169 36.850909 \nL 268.033838 46.734545 \nL 268.338506 36.850909 \nL 268.643174 36.850909 \nL 268.947842 46.734545 \nL 269.252511 36.850909 \nL 269.861847 36.850909 \nL 270.166516 46.734545 \nL 270.471184 46.734545 \nL 270.775852 36.850909 \nL 271.080521 46.734545 \nL 271.385189 36.850909 \nL 271.689857 46.734545 \nL 271.994525 36.850909 \nL 272.299194 46.734545 \nL 272.603862 36.850909 \nL 272.90853 46.734545 \nL 273.213199 46.734545 \nL 273.822535 66.501818 \nL 274.431872 17.083636 \nL 274.73654 36.850909 \nL 275.041209 36.850909 \nL 275.345877 26.967273 \nL 275.650545 56.618182 \nL 275.955213 46.734545 \nL 276.259882 56.618182 \nL 276.56455 36.850909 \nL 277.173887 36.850909 \nL 277.478555 26.967273 \nL 277.783223 36.850909 \nL 278.39256 36.850909 \nL 278.697228 46.734545 \nL 279.001896 46.734545 \nL 279.306565 36.850909 \nL 279.611233 36.850909 \nL 279.915901 56.618182 \nL 280.525238 36.850909 \nL 280.829906 56.618182 \nL 281.134575 36.850909 \nL 281.439243 46.734545 \nL 281.743911 36.850909 \nL 282.04858 46.734545 \nL 282.353248 36.850909 \nL 282.657916 46.734545 \nL 282.962584 46.734545 \nL 283.267253 26.967273 \nL 283.571921 36.850909 \nL 284.790594 36.850909 \nL 285.399931 17.083636 \nL 285.704599 36.850909 \nL 286.009268 46.734545 \nL 286.313936 26.967273 \nL 286.618604 46.734545 \nL 286.923272 46.734545 \nL 287.227941 26.967273 \nL 288.141946 26.967273 \nL 288.446614 36.850909 \nL 288.751282 26.967273 \nL 289.055951 36.850909 \nL 289.360619 36.850909 \nL 289.665287 46.734545 \nL 289.969955 36.850909 \nL 290.274624 36.850909 \nL 290.579292 46.734545 \nL 291.188629 26.967273 \nL 291.797965 26.967273 \nL 292.71197 56.618182 \nL 293.016639 36.850909 \nL 293.321307 36.850909 \nL 293.625975 46.734545 \nL 293.930643 26.967273 \nL 294.235312 46.734545 \nL 294.53998 46.734545 \nL 294.844648 56.618182 \nL 295.149317 36.850909 \nL 295.453985 46.734545 \nL 296.063322 46.734545 \nL 296.672658 66.501818 \nL 296.977326 46.734545 \nL 297.281995 46.734545 \nL 297.891331 66.501818 \nL 298.196 56.618182 \nL 298.500668 26.967273 \nL 298.805336 46.734545 \nL 299.110005 36.850909 \nL 299.719341 36.850909 \nL 300.02401 26.967273 \nL 300.328678 36.850909 \nL 300.633346 26.967273 \nL 300.938014 26.967273 \nL 301.242683 46.734545 \nL 301.547351 46.734545 \nL 301.852019 66.501818 \nL 302.156688 66.501818 \nL 302.461356 76.385455 \nL 302.766024 46.734545 \nL 303.070693 56.618182 \nL 303.375361 36.850909 \nL 303.680029 46.734545 \nL 304.898702 46.734545 \nL 305.203371 26.967273 \nL 305.508039 66.501818 \nL 305.812707 46.734545 \nL 306.117376 56.618182 \nL 306.726712 36.850909 \nL 307.031381 36.850909 \nL 307.336049 46.734545 \nL 308.250054 46.734545 \nL 308.554722 66.501818 \nL 308.85939 46.734545 \nL 309.164059 46.734545 \nL 309.468727 36.850909 \nL 309.773395 56.618182 \nL 310.078064 56.618182 \nL 310.382732 46.734545 \nL 310.6874 66.501818 \nL 311.296737 46.734545 \nL 311.601405 46.734545 \nL 311.906073 26.967273 \nL 312.210742 46.734545 \nL 312.51541 36.850909 \nL 313.429415 36.850909 \nL 313.734083 56.618182 \nL 314.038752 36.850909 \nL 314.648088 56.618182 \nL 314.952756 36.850909 \nL 315.257425 36.850909 \nL 315.562093 56.618182 \nL 315.866761 56.618182 \nL 316.476098 36.850909 \nL 316.780766 66.501818 \nL 317.085435 36.850909 \nL 317.390103 36.850909 \nL 317.694771 46.734545 \nL 317.999439 36.850909 \nL 319.827449 36.850909 \nL 320.132118 26.967273 \nL 320.436786 36.850909 \nL 321.350791 36.850909 \nL 321.655459 26.967273 \nL 321.960127 26.967273 \nL 322.264796 36.850909 \nL 322.569464 36.850909 \nL 323.178801 56.618182 \nL 323.788137 36.850909 \nL 324.397474 36.850909 \nL 324.702142 46.734545 \nL 325.006811 36.850909 \nL 325.920815 36.850909 \nL 326.225484 46.734545 \nL 326.530152 46.734545 \nL 326.83482 36.850909 \nL 327.139489 46.734545 \nL 327.748825 26.967273 \nL 328.053494 26.967273 \nL 328.358162 36.850909 \nL 328.66283 26.967273 \nL 328.967498 36.850909 \nL 329.272167 36.850909 \nL 329.576835 46.734545 \nL 329.881503 26.967273 \nL 330.186172 26.967273 \nL 330.49084 46.734545 \nL 331.100177 46.734545 \nL 331.404845 36.850909 \nL 331.709513 36.850909 \nL 332.014182 46.734545 \nL 332.31885 36.850909 \nL 332.623518 56.618182 \nL 332.928186 46.734545 \nL 333.232855 26.967273 \nL 333.537523 56.618182 \nL 333.842191 36.850909 \nL 334.451528 36.850909 \nL 334.756196 17.083636 \nL 335.670201 46.734545 \nL 336.279538 26.967273 \nL 336.584206 26.967273 \nL 337.193543 46.734545 \nL 337.498211 26.967273 \nL 337.802879 36.850909 \nL 338.107548 36.850909 \nL 338.716884 17.083636 \nL 339.021553 36.850909 \nL 339.326221 17.083636 \nL 339.630889 26.967273 \nL 340.240226 26.967273 \nL 340.544894 36.850909 \nL 340.849562 26.967273 \nL 341.154231 36.850909 \nL 341.458899 26.967273 \nL 341.763567 46.734545 \nL 342.068236 26.967273 \nL 342.677572 46.734545 \nL 342.98224 46.734545 \nL 343.286909 36.850909 \nL 344.505582 36.850909 \nL 344.81025 46.734545 \nL 345.114919 36.850909 \nL 346.028924 36.850909 \nL 346.333592 46.734545 \nL 346.63826 46.734545 \nL 347.247597 26.967273 \nL 347.552265 36.850909 \nL 347.856933 36.850909 \nL 348.161602 26.967273 \nL 348.46627 36.850909 \nL 348.770938 26.967273 \nL 349.075607 46.734545 \nL 349.380275 36.850909 \nL 349.684943 36.850909 \nL 349.684943 36.850909 \n\" style=\"fill:none;stroke:#8dd3c7;stroke-linecap:square;stroke-width:1.5;\"/>\n   </g>\n   <g id=\"patch_3\">\n    <path d=\"M 30.103125 224.64 \nL 30.103125 7.2 \n\" style=\"fill:none;stroke:#ffffff;stroke-linecap:square;stroke-linejoin:miter;stroke-width:0.8;\"/>\n   </g>\n   <g id=\"patch_4\">\n    <path d=\"M 364.903125 224.64 \nL 364.903125 7.2 \n\" style=\"fill:none;stroke:#ffffff;stroke-linecap:square;stroke-linejoin:miter;stroke-width:0.8;\"/>\n   </g>\n   <g id=\"patch_5\">\n    <path d=\"M 30.103125 224.64 \nL 364.903125 224.64 \n\" style=\"fill:none;stroke:#ffffff;stroke-linecap:square;stroke-linejoin:miter;stroke-width:0.8;\"/>\n   </g>\n   <g id=\"patch_6\">\n    <path d=\"M 30.103125 7.2 \nL 364.903125 7.2 \n\" style=\"fill:none;stroke:#ffffff;stroke-linecap:square;stroke-linejoin:miter;stroke-width:0.8;\"/>\n   </g>\n  </g>\n </g>\n <defs>\n  <clipPath id=\"pcbb1413006\">\n   <rect height=\"217.44\" width=\"334.8\" x=\"30.103125\" y=\"7.2\"/>\n  </clipPath>\n </defs>\n</svg>\n",
      "image/png": "[encoded data removed]"
     },
     "metadata": {}
    }
   ],
   "source": [
    "plt.plot(accs)"
   ]
  },
  {
   "cell_type": "code",
   "execution_count": 104,
   "metadata": {},
   "outputs": [
    {
     "output_type": "execute_result",
     "data": {
      "text/plain": [
       "1.0"
      ]
     },
     "metadata": {},
     "execution_count": 104
    }
   ],
   "source": [
    "max(accs)"
   ]
  },
  {
   "cell_type": "code",
   "execution_count": null,
   "metadata": {},
   "outputs": [],
   "source": []
  }
 ],
 "metadata": {
  "kernelspec": {
   "name": "python3",
   "display_name": "Python 3",
   "language": "python"
  },
  "language_info": {
   "codemirror_mode": {
    "name": "ipython",
    "version": 3
   },
   "file_extension": ".py",
   "mimetype": "text/x-python",
   "name": "python",
   "nbconvert_exporter": "python",
   "pygments_lexer": "ipython3",
   "version": "3.7.6"
  }
 },
 "nbformat": 4,
 "nbformat_minor": 4
}