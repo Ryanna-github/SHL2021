{
 "metadata": {
  "language_info": {
   "codemirror_mode": {
    "name": "ipython",
    "version": 3
   },
   "file_extension": ".py",
   "mimetype": "text/x-python",
   "name": "python",
   "nbconvert_exporter": "python",
   "pygments_lexer": "ipython3",
   "version": "3.8.5-final"
  },
  "orig_nbformat": 2,
  "kernelspec": {
   "name": "python3",
   "display_name": "Python 3.8.5 64-bit ('base': conda)",
   "metadata": {
    "interpreter": {
     "hash": "dca0ade3e726a953b501b15e8e990130d2b7799f14cfd9f4271676035ebe5511"
    }
   }
  }
 },
 "nbformat": 4,
 "nbformat_minor": 2,
 "cells": [
  {
   "cell_type": "code",
   "execution_count": 7,
   "metadata": {},
   "outputs": [],
   "source": [
    "import pandas as pd\n",
    "import numpy as np\n",
    "import re\n",
    "import time"
   ]
  },
  {
   "cell_type": "code",
   "execution_count": 52,
   "metadata": {},
   "outputs": [],
   "source": [
    "detail_num = 1000"
   ]
  },
  {
   "cell_type": "code",
   "execution_count": 105,
   "metadata": {},
   "outputs": [],
   "source": [
    "class TimeKeeper():\n",
    "    def __init__(self):\n",
    "        self.current_time = time.time()\n",
    "\n",
    "    def update_time(self):\n",
    "        self.current_time = time.time()\n",
    "    \n",
    "    def set_time(self, customized_time):\n",
    "        self.current_time = customized_time\n",
    "\n",
    "    def get_time_current(self):\n",
    "        return self.current_time\n",
    "    \n",
    "    def get_time_elapse(self):\n",
    "        return time.time() - self.current_time\n",
    "\n",
    "    def get_update_time(self, round_digit = 2):\n",
    "        time_elapse = self.get_time_elapse()\n",
    "        self.update_time()\n",
    "        return round(time_elapse, 2)"
   ]
  },
  {
   "cell_type": "code",
   "execution_count": 106,
   "metadata": {},
   "outputs": [],
   "source": [
    "def read_shl_data(root_path, detail_num = 1000):\n",
    "    timer = TimeKeeper()\n",
    "    # ------------------------------------- Label -------------------------------------\n",
    "    label_names = ['time', 'label']\n",
    "    label = pd.read_table('data/train/Label.txt', header = None, names = label_names, sep = \"\\t\")\n",
    "    print(\"Label 读取完成，共 {} 条数据，用时 {}s\".format(label.shape[0], timer.get_update_time()))\n",
    "    # ----------------------------------- Location ------------------------------------\n",
    "    loc_names = ['time', 'ign1', 'ign2', 'accuracy', 'latitude', 'longitude', 'altitude']\n",
    "    loc = pd.read_table(root_path + 'Location.txt', header = None, names = loc_names, sep = \" \").drop(['ign1', 'ign2'], axis = 1)\n",
    "    print(\"Location 读取完成，共 {} 条数据，用时 {}s\".format(loc.shape[0], timer.get_update_time()))\n",
    "    # ------------------------------------- Wifi --------------------------------------\n",
    "    wifi = pd.read_table(root_path + 'Wifi.txt', header = None)\n",
    "    wifi['time'] = wifi.apply(lambda x: x[0].split(\";\")[0], axis = 1)\n",
    "    wifi['number'] = wifi.apply(lambda x: x[0].split(\";\")[3], axis = 1)\n",
    "    print(\"Wifi 读取完成，共 {} 条数据，用时 {}s\".format(wifi.shape[0], timer.get_update_time()))\n",
    "    # detail info\n",
    "    wifi_detail = wifi.iloc[:detail_num,:].apply(lambda x: wifi_detail_transformer(x[0].split(\";\")[4:], x[0].split(\";\")[0]), axis = 1)\n",
    "    wifi_detail = pd.concat(list(wifi_detail)).reset_index(drop = True)\n",
    "    print(\"\\t-- Wifi 详细信息提取完成，共 {} 条数据，提取了 Wifi 中前 {} 行，用时 {}s\".format(wifi_detail.shape[0], detail_num, timer.get_update_time()))\n",
    "    # delete raw data\n",
    "    wifi.drop([0], axis = 1, inplace = True)\n",
    "    # -------------------------------------- GPS --------------------------------------\n",
    "    gps = pd.read_table(root_path + 'GPS.txt', header = None)\n",
    "    gps['time'] = gps.apply(lambda x: x[0].split(\" \")[0], axis = 1)\n",
    "    gps['number'] = gps.apply(lambda x: x[0].split(\" \")[-1], axis = 1)\n",
    "    print(\"GPS 读取完成，共 {} 条数据，用时 {}s\".format(gps.shape[0], timer.get_update_time()))\n",
    "    # detail info\n",
    "    gps_detail = gps.iloc[:detail_num,:].apply(lambda x: gps_detail_transformer(x[0].split(\" \")[3:-1], x[0].split(\";\")[0]), axis = 1)\n",
    "    gps_detail = pd.concat(list(gps_detail)).reset_index(drop = True)\n",
    "    print(\"\\t-- GPS 详细信息提取完成，共 {} 条数据，提取了 GPS 中前 {} 行，用时 {}s\".format(gps_detail.shape[0], detail_num, timer.get_update_time()))\n",
    "    # delete raw data\n",
    "    gps.drop([0], axis = 1, inplace = True)\n",
    "    # -------------------------------------- Cells --------------------------------------\n",
    "    cells = pd.read_table(root_path + 'Cells.txt', header = None)\n",
    "    cells['time'] = cells.apply(lambda x: x[0].split(\" \")[0], axis = 1)\n",
    "    cells['number'] = cells.apply(lambda x: x[0].split(\" \")[3], axis = 1)\n",
    "    cells.drop([0], axis = 1, inplace = True)\n",
    "    print(\"Cells 读取完成，共 {} 条数据，用时 {}s\".format(gps.shape[0], timer.get_update_time()))\n",
    "\n",
    "    return {\"label\": label, \"loc\": loc, \"wifi\": wifi, \"wifi_detail\": wifi_detail,\n",
    "            \"gps\": gps, \"gps_detail\": gps_detail, \"cells\": cells}"
   ]
  },
  {
   "cell_type": "code",
   "execution_count": 107,
   "metadata": {},
   "outputs": [
    {
     "output_type": "stream",
     "name": "stdout",
     "text": [
      "Label 读取完成，共 980527 条数据，用时 0.13s\n",
      "Location 读取完成，共 911109 条数据，用时 0.55s\n",
      "Wifi 读取完成，共 1459351 条数据，用时 34.89s\n",
      "\t-- Wifi 详细信息提取完成，共 6752 条数据，提取了 Wifi 中前 1000 行，用时 0.68s\n",
      "GPS 读取完成，共 1322749 条数据，用时 26.88s\n",
      "\t-- GPS 详细信息提取完成，共 5516 条数据，提取了 GPS 中前 1000 行，用时 0.62s\n",
      "Cells 读取完成，共 1322749 条数据，用时 25.1s\n"
     ]
    }
   ],
   "source": [
    "data = read_shl_data('data/train/')"
   ]
  },
  {
   "cell_type": "code",
   "execution_count": 3,
   "metadata": {},
   "outputs": [],
   "source": [
    "from utils import data_loader\n",
    "\n",
    "data = data_loader.SHLDataLoader('data/train/')"
   ]
  },
  {
   "cell_type": "code",
   "execution_count": 4,
   "metadata": {},
   "outputs": [
    {
     "output_type": "stream",
     "name": "stdout",
     "text": [
      "Label 读取完成，共 980527 条数据，用时 0.15s\n",
      "Location 读取完成，共 911109 条数据，用时 0.56s\n",
      "Wifi 读取完成，共 1459351 条数据，用时 34.69s\n",
      "\t-- Wifi 详细信息提取完成，共 1000 条数据，提取了 Wifi 中前 1000 行，用时 0.63s\n",
      "GPS 读取完成，共 1322749 条数据，用时 25.9s\n",
      "\t-- GPS 详细信息提取完成，共 1000 条数据，提取了 GPS 中前 1000 行，用时 0.62s\n",
      "Cells 读取完成，共 1324881 条数据，用时 24.63s\n"
     ]
    }
   ],
   "source": [
    "data.load()"
   ]
  },
  {
   "cell_type": "code",
   "execution_count": null,
   "metadata": {},
   "outputs": [],
   "source": []
  },
  {
   "cell_type": "code",
   "execution_count": null,
   "metadata": {},
   "outputs": [],
   "source": []
  },
  {
   "cell_type": "code",
   "execution_count": null,
   "metadata": {},
   "outputs": [],
   "source": []
  },
  {
   "source": [
    "## Location"
   ],
   "cell_type": "markdown",
   "metadata": {}
  },
  {
   "source": [
    "loc_names = ['time', 'ign1', 'ign2', 'accuracy', 'latitude', 'longitude', 'altitude']\n",
    "loc = pd.read_table('data/train/Location.txt', header = None, names = loc_names, sep = \" \").drop(['ign1', 'ign2'], axis = 1)\n",
    "loc.head()"
   ],
   "cell_type": "code",
   "metadata": {},
   "execution_count": null,
   "outputs": []
  },
  {
   "source": [
    "## Label"
   ],
   "cell_type": "markdown",
   "metadata": {}
  },
  {
   "cell_type": "code",
   "execution_count": 4,
   "metadata": {},
   "outputs": [
    {
     "output_type": "execute_result",
     "data": {
      "text/plain": [
       "            time  label\n",
       "0  1490431583000      4\n",
       "1  1490431584000      4\n",
       "2  1490431585000      4\n",
       "3  1490431586000      4\n",
       "4  1490431587000      4"
      ],
      "text/html": "<div>\n<style scoped>\n    .dataframe tbody tr th:only-of-type {\n        vertical-align: middle;\n    }\n\n    .dataframe tbody tr th {\n        vertical-align: top;\n    }\n\n    .dataframe thead th {\n        text-align: right;\n    }\n</style>\n<table border=\"1\" class=\"dataframe\">\n  <thead>\n    <tr style=\"text-align: right;\">\n      <th></th>\n      <th>time</th>\n      <th>label</th>\n    </tr>\n  </thead>\n  <tbody>\n    <tr>\n      <th>0</th>\n      <td>1490431583000</td>\n      <td>4</td>\n    </tr>\n    <tr>\n      <th>1</th>\n      <td>1490431584000</td>\n      <td>4</td>\n    </tr>\n    <tr>\n      <th>2</th>\n      <td>1490431585000</td>\n      <td>4</td>\n    </tr>\n    <tr>\n      <th>3</th>\n      <td>1490431586000</td>\n      <td>4</td>\n    </tr>\n    <tr>\n      <th>4</th>\n      <td>1490431587000</td>\n      <td>4</td>\n    </tr>\n  </tbody>\n</table>\n</div>"
     },
     "metadata": {},
     "execution_count": 4
    }
   ],
   "source": [
    "label_names = ['time', 'label']\n",
    "label = pd.read_table('data/train/Label.txt', header = None, names = label_names, sep = \"\\t\")\n",
    "# label.groupby('label').count().apply(lambda x: x/label.shape[0], axis = 1)\n",
    "label.head()"
   ]
  },
  {
   "source": [
    "## Wifi"
   ],
   "cell_type": "markdown",
   "metadata": {}
  },
  {
   "cell_type": "code",
   "execution_count": 5,
   "metadata": {},
   "outputs": [],
   "source": [
    "def wifi_detail_transformer(wifi_list, this_time):\n",
    "    res = np.array(wifi_list).reshape(-1, 5)\n",
    "    res = pd.DataFrame(res, columns = ('bssid', 'ssid', 'rssi', 'freq', 'cap'))\n",
    "    res.insert(loc = 0, column = 'time', value = [this_time] * res.shape[0])\n",
    "    return res"
   ]
  },
  {
   "source": [
    "time_recorder = []\n",
    "time_recorder.append(time.time())\n",
    "wifi = pd.read_table('data/train/Wifi.txt', header = None)\n",
    "wifi['time'] = wifi.apply(lambda x: x[0].split(\";\")[0], axis = 1)\n",
    "wifi['number'] = wifi.apply(lambda x: x[0].split(\";\")[3], axis = 1)\n",
    "time_recorder.append(time.time())\n",
    "# detail info\n",
    "wifi_detail = wifi.iloc[:detail_num,:].apply(lambda x: wifi_detail_transformer(x[0].split(\";\")[4:], x[0].split(\";\")[0]), axis = 1)\n",
    "wifi_detail = pd.concat(list(wifi_detail)).reset_index(drop = True)\n",
    "time_recorder.append(time.time())\n",
    "# delete raw data\n",
    "wifi.drop([0], axis = 1, inplace = True)\n",
    "print(pd.Series(time_recorder).diff(1))"
   ],
   "cell_type": "code",
   "metadata": {},
   "execution_count": 56,
   "outputs": [
    {
     "output_type": "stream",
     "name": "stdout",
     "text": [
      "0          NaN\n1    33.852244\n2     0.663604\ndtype: float64\n"
     ]
    }
   ]
  },
  {
   "source": [
    "## GPS"
   ],
   "cell_type": "markdown",
   "metadata": {}
  },
  {
   "cell_type": "code",
   "execution_count": 57,
   "metadata": {},
   "outputs": [],
   "source": [
    "def gps_detail_transformer(gps_list, this_time):\n",
    "    res = np.array(gps_list).reshape(-1, 4)\n",
    "    res = pd.DataFrame(res, columns = ('id', 'snr', 'azimuth', 'elevation'))\n",
    "    res.insert(loc = 0, column = 'time', value = [this_time] * res.shape[0])\n",
    "    # print(res)\n",
    "    return res"
   ]
  },
  {
   "cell_type": "code",
   "execution_count": 58,
   "metadata": {},
   "outputs": [],
   "source": [
    "time_recorder = []\n",
    "time_recorder.append(time.time())\n",
    "gps = pd.read_table('data/train/GPS.txt', header = None)\n",
    "gps['time'] = gps.apply(lambda x: x[0].split(\" \")[0], axis = 1)\n",
    "gps['number'] = gps.apply(lambda x: x[0].split(\" \")[-1], axis = 1)\n",
    "time_recorder.append(time.time())\n",
    "# detail info\n",
    "gps_detail = gps.iloc[:detail_num,:].apply(lambda x: gps_detail_transformer(x[0].split(\" \")[3:-1], x[0].split(\";\")[0]), axis = 1)\n",
    "gps_detail = pd.concat(list(gps_detail)).reset_index(drop = True)\n",
    "time_recorder.append(time.time())\n",
    "time_recorder.append(time.time())\n",
    "# delete raw data\n",
    "gps.drop([0], axis = 1, inplace = True)"
   ]
  },
  {
   "cell_type": "code",
   "execution_count": 59,
   "metadata": {},
   "outputs": [
    {
     "output_type": "stream",
     "name": "stdout",
     "text": [
      "0          NaN\n1    26.050008\n2     0.588471\n3     0.000024\ndtype: float64\n"
     ]
    }
   ],
   "source": [
    "print(pd.Series(time_recorder).diff(1))"
   ]
  },
  {
   "source": [
    "## Cells"
   ],
   "cell_type": "markdown",
   "metadata": {}
  },
  {
   "cell_type": "code",
   "execution_count": 68,
   "metadata": {},
   "outputs": [],
   "source": [
    "cells = pd.read_table('data/train/Cells.txt', header = None)\n",
    "cells['time'] = cells.apply(lambda x: x[0].split(\" \")[0], axis = 1)\n",
    "cells['number'] = cells.apply(lambda x: x[0].split(\" \")[3], axis = 1)\n",
    "\n",
    "# cells.drop([0], axis = 1, inplace = True)"
   ]
  },
  {
   "cell_type": "code",
   "execution_count": 70,
   "metadata": {},
   "outputs": [
    {
     "output_type": "execute_result",
     "data": {
      "text/plain": [
       "                                                   0           time number\n",
       "0  1490430923343 53750757282 242658854 3 LTE 1 12...  1490430923343      3\n",
       "1  1490430923349 53756677074 242658854 3 LTE 1 12...  1490430923349      3\n",
       "2  1490430947385 77792426028 242658854 13 LTE 1 1...  1490430947385     13\n",
       "3  1490430953392 83799049986 242658854 3 LTE 1 12...  1490430953392      3\n",
       "4  1490430958903 89310166652 242658854 3 LTE 1 12...  1490430958903      3"
      ],
      "text/html": "<div>\n<style scoped>\n    .dataframe tbody tr th:only-of-type {\n        vertical-align: middle;\n    }\n\n    .dataframe tbody tr th {\n        vertical-align: top;\n    }\n\n    .dataframe thead th {\n        text-align: right;\n    }\n</style>\n<table border=\"1\" class=\"dataframe\">\n  <thead>\n    <tr style=\"text-align: right;\">\n      <th></th>\n      <th>0</th>\n      <th>time</th>\n      <th>number</th>\n    </tr>\n  </thead>\n  <tbody>\n    <tr>\n      <th>0</th>\n      <td>1490430923343 53750757282 242658854 3 LTE 1 12...</td>\n      <td>1490430923343</td>\n      <td>3</td>\n    </tr>\n    <tr>\n      <th>1</th>\n      <td>1490430923349 53756677074 242658854 3 LTE 1 12...</td>\n      <td>1490430923349</td>\n      <td>3</td>\n    </tr>\n    <tr>\n      <th>2</th>\n      <td>1490430947385 77792426028 242658854 13 LTE 1 1...</td>\n      <td>1490430947385</td>\n      <td>13</td>\n    </tr>\n    <tr>\n      <th>3</th>\n      <td>1490430953392 83799049986 242658854 3 LTE 1 12...</td>\n      <td>1490430953392</td>\n      <td>3</td>\n    </tr>\n    <tr>\n      <th>4</th>\n      <td>1490430958903 89310166652 242658854 3 LTE 1 12...</td>\n      <td>1490430958903</td>\n      <td>3</td>\n    </tr>\n  </tbody>\n</table>\n</div>"
     },
     "metadata": {},
     "execution_count": 70
    }
   ],
   "source": [
    "cells.head()"
   ]
  },
  {
   "cell_type": "code",
   "execution_count": null,
   "metadata": {},
   "outputs": [],
   "source": [
    "def cells_detail_transformer(cells_list, this_time):\n",
    "    res = np.array(gps_list).reshape(-1, 4)\n",
    "    res = pd.DataFrame(res, columns = ('id', 'snr', 'azimuth', 'elevation'))\n",
    "    res.insert(loc = 0, column = 'time', value = [this_time] * res.shape[0])\n",
    "    # print(res)\n",
    "    return res"
   ]
  },
  {
   "cell_type": "code",
   "execution_count": 78,
   "metadata": {},
   "outputs": [],
   "source": [
    "ite_names = 'LTE; Signal level; Signal strength; Signal level; 28-bit Cell Identity; 3-digit Mobile Country Code; 2 or 3-digit Mobile Network Code; Physical Cell Id; 16-bit Tracking Area Code'.split(\"; \")\n",
    "gsm_names = 'GSM; Signal level calculated based on 3GPP RSRP; Signal strength; Signal level; 16-bit GSM Cell Identity described in TS 27.007; 16-bit Location Area Code; 3-digit Mobile Country Code; 2 or 3-digit Mobile Network Code'.split(\"; \")\n",
    "wcdma_names = 'WCDMA; isRegistered; cid; lac; MCC; MNC; PSC; asuLevel; dBm; level'.split(\"; \")"
   ]
  },
  {
   "cell_type": "code",
   "execution_count": 82,
   "metadata": {},
   "outputs": [
    {
     "output_type": "execute_result",
     "data": {
      "text/plain": [
       "['LTE',\n",
       " 'Signal level',\n",
       " 'Signal strength',\n",
       " 'Signal level',\n",
       " '28-bit Cell Identity',\n",
       " '3-digit Mobile Country Code',\n",
       " '2 or 3-digit Mobile Network Code',\n",
       " 'Physical Cell Id',\n",
       " '16-bit Tracking Area Code']"
      ]
     },
     "metadata": {},
     "execution_count": 82
    }
   ],
   "source": [
    "ite_names"
   ]
  },
  {
   "cell_type": "code",
   "execution_count": 81,
   "metadata": {},
   "outputs": [
    {
     "output_type": "execute_result",
     "data": {
      "text/plain": [
       "0     30\n",
       "1     30\n",
       "2    124\n",
       "3     30\n",
       "4     30\n",
       "5     30\n",
       "6    134\n",
       "7     40\n",
       "8     40\n",
       "9     20\n",
       "Name: 0, dtype: int64"
      ]
     },
     "metadata": {},
     "execution_count": 81
    }
   ],
   "source": [
    "cells.iloc[0:10,0].apply(lambda x: len(x.split(\" \")[4:]))"
   ]
  },
  {
   "cell_type": "code",
   "execution_count": 66,
   "metadata": {},
   "outputs": [
    {
     "output_type": "execute_result",
     "data": {
      "text/plain": [
       "['1490430923343 53750757282 242658854 3 LTE 1 128000386 234 10 20 144 25 -115 2 LTE 0 2147483647 234 10 398 2147483647 22 -118 1 LTE 0 2147483647 234 10 4 2147483647 16 -124 1',\n",
       " '1490430923349 53756677074 242658854 3 LTE 1 128000386 234 10 20 144 25 -115 2 LTE 0 2147483647 234 10 398 2147483647 22 -118 1 LTE 0 2147483647 234 10 4 2147483647 16 -124 1',\n",
       " '1490430947385 77792426028 242658854 13 LTE 1 128000386 234 10 20 144 20 -120 1 GSM 0 2147483647 2147483647 234 10 10 -93 3 GSM 0 2147483647 2147483647 234 10 6 -101 2 GSM 0 2147483647 2147483647 234 10 5 -103 2 GSM 0 2147483647 2147483647 234 10 2 -109 0 GSM 0 2147483647 2147483647 234 10 2 -109 0 GSM 0 2147483647 2147483647 234 10 2 -109 0 WCDMA 0 2147483647 2147483647 234 10 250 3 -107 1 WCDMA 0 2147483647 2147483647 234 10 14 3 -107 1 WCDMA 0 2147483647 2147483647 234 10 158 0 -113 0 LTE 0 2147483647 234 10 398 2147483647 20 -120 1 LTE 0 2147483647 234 10 4 2147483647 19 -121 1 LTE 0 2147483647 234 10 20 2147483647 19 -121 1',\n",
       " '1490430953392 83799049986 242658854 3 LTE 1 128000386 234 10 20 144 25 -115 2 LTE 0 2147483647 234 10 398 2147483647 22 -118 1 LTE 0 2147483647 234 10 4 2147483647 17 -123 1',\n",
       " '1490430958903 89310166652 242658854 3 LTE 1 128000386 234 10 20 144 27 -113 2 LTE 0 2147483647 234 10 398 2147483647 22 -118 1 LTE 0 2147483647 234 10 4 2147483647 21 -119 1',\n",
       " '1490430960168 90575492172 242658854 3 LTE 1 128000386 234 10 20 144 27 -113 2 LTE 0 2147483647 234 10 398 2147483647 22 -118 1 LTE 0 2147483647 234 10 4 2147483647 21 -119 1',\n",
       " '1490430966192 96599564567 242658854 14 LTE 1 128000386 234 10 20 144 24 -116 1 GSM 0 2147483647 2147483647 234 10 9 -95 3 GSM 0 2147483647 2147483647 234 10 7 -99 2 GSM 0 2147483647 2147483647 234 10 4 -105 1 GSM 0 2147483647 2147483647 234 10 3 -107 1 GSM 0 2147483647 2147483647 234 10 2 -109 0 GSM 0 2147483647 2147483647 234 10 2 -109 0 WCDMA 0 2147483647 2147483647 234 10 511 31 -51 4 WCDMA 0 2147483647 2147483647 234 10 1 31 -51 4 WCDMA 0 2147483647 2147483647 234 10 158 0 -113 0 LTE 0 2147483647 234 10 398 2147483647 23 -117 1 LTE 0 2147483647 234 10 4 2147483647 18 -122 1 LTE 0 2147483647 234 10 20 2147483647 18 -122 1 LTE 0 2147483647 234 10 34 2147483647 17 -123 1',\n",
       " '1490430972200 102607085400 242658854 4 LTE 1 128000386 234 10 20 144 25 -115 2 LTE 0 2147483647 234 10 4 2147483647 21 -119 1 LTE 0 2147483647 234 10 398 2147483647 21 -119 1 LTE 0 2147483647 234 10 34 2147483647 20 -120 1',\n",
       " '1490430978201 108608288003 242658854 4 LTE 1 128000386 234 10 20 144 25 -115 2 LTE 0 2147483647 234 10 398 2147483647 24 -116 1 LTE 0 2147483647 234 10 4 2147483647 20 -120 1 LTE 0 2147483647 234 10 34 2147483647 17 -123 1',\n",
       " '1490430995573 125979895292 242658854 2 LTE 1 128000386 234 10 20 144 25 -115 2 LTE 0 2147483647 234 10 398 2147483647 22 -118 1']"
      ]
     },
     "metadata": {},
     "execution_count": 66
    }
   ],
   "source": [
    "list(cells.iloc[0:10,0])"
   ]
  },
  {
   "cell_type": "code",
   "execution_count": 87,
   "metadata": {},
   "outputs": [
    {
     "output_type": "error",
     "ename": "NameError",
     "evalue": "name 'ells' is not defined",
     "traceback": [
      "\u001b[0;31m---------------------------------------------------------------------------\u001b[0m",
      "\u001b[0;31mNameError\u001b[0m                                 Traceback (most recent call last)",
      "\u001b[0;32m<ipython-input-87-bdd3fc2a0556>\u001b[0m in \u001b[0;36m<module>\u001b[0;34m\u001b[0m\n\u001b[0;32m----> 1\u001b[0;31m \u001b[0mells\u001b[0m\u001b[0;34m.\u001b[0m\u001b[0miloc\u001b[0m\u001b[0;34m[\u001b[0m\u001b[0;36m4\u001b[0m\u001b[0;34m,\u001b[0m\u001b[0;36m0\u001b[0m\u001b[0;34m]\u001b[0m\u001b[0;34m\u001b[0m\u001b[0;34m\u001b[0m\u001b[0m\n\u001b[0m",
      "\u001b[0;31mNameError\u001b[0m: name 'ells' is not defined"
     ]
    }
   ],
   "source": [
    "cells.iloc[4,0]"
   ]
  },
  {
   "cell_type": "code",
   "execution_count": null,
   "metadata": {},
   "outputs": [],
   "source": []
  }
 ]
}