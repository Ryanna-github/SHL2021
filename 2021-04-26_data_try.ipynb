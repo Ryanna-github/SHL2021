{
 "metadata": {
  "language_info": {
   "codemirror_mode": {
    "name": "ipython",
    "version": 3
   },
   "file_extension": ".py",
   "mimetype": "text/x-python",
   "name": "python",
   "nbconvert_exporter": "python",
   "pygments_lexer": "ipython3",
   "version": "3.8.5-final"
  },
  "orig_nbformat": 2,
  "kernelspec": {
   "name": "python3",
   "display_name": "Python 3.8.5 64-bit ('base': conda)",
   "metadata": {
    "interpreter": {
     "hash": "dca0ade3e726a953b501b15e8e990130d2b7799f14cfd9f4271676035ebe5511"
    }
   }
  }
 },
 "nbformat": 4,
 "nbformat_minor": 2,
 "cells": [
  {
   "cell_type": "code",
   "execution_count": 1,
   "metadata": {},
   "outputs": [],
   "source": [
    "import pandas as pd\n",
    "import numpy as np"
   ]
  },
  {
   "cell_type": "code",
   "execution_count": 28,
   "metadata": {},
   "outputs": [],
   "source": [
    "loc_names = ['time', 'ign1', 'ign2', 'accuracy', 'latitude', 'longitude', 'altitude']\n",
    "loc = pd.read_table('data/train/Location.txt', header = None, names = tmp_names, sep = \" \")"
   ]
  },
  {
   "cell_type": "code",
   "execution_count": 37,
   "metadata": {},
   "outputs": [],
   "source": [
    "gps_names = ['time', 'ign1', 'ign2', 'id', 'snr', 'azimuth', 'elevation']\n",
    "gps = pd.read_table('data/train/GPS.txt', header = None, names = gps_names, sep = \" \")"
   ]
  },
  {
   "cell_type": "code",
   "execution_count": 39,
   "metadata": {},
   "outputs": [
    {
     "output_type": "execute_result",
     "data": {
      "text/plain": [
       "                                                   time  ign1  ign2    id  \\\n",
       "1490430924008 54415677594    242658854    7  18.0  62.0  50.0   9.0  17.0   \n",
       "1490430925005 55412323428    242658854    7  18.0  62.0  50.0   9.0  17.0   \n",
       "1490430926011 56418411969    242658854    7  18.0  62.0  50.0   9.0  18.0   \n",
       "1490430927018 57425188011    242658854    7  18.0  62.0  50.0   9.0  19.0   \n",
       "1490430928004 58410924469    242658854    7  17.0  62.0  50.0   9.0  19.0   \n",
       "...                                                 ...   ...   ...   ...   \n",
       "1499268456045 25743270261693 149674581225 18 14.0  75.0  45.0  67.0  18.0   \n",
       "1499268457048 25744273048672 149674581225 18 13.0  75.0  45.0  67.0  18.0   \n",
       "1499268458049 25745274413256 149674581225 18 13.0  75.0  45.0  67.0  18.0   \n",
       "1499268459048 25746273234610 149674581225 18 13.0  75.0  45.0  67.0  18.0   \n",
       "1499268460049 25747274462734 149674581225 18 13.0  75.0  45.0  67.0  20.0   \n",
       "\n",
       "                                                    snr  azimuth  elevation  \n",
       "1490430924008 54415677594    242658854    7  18.0  86.0     24.0        2.0  \n",
       "1490430925005 55412323428    242658854    7  18.0  86.0     24.0        2.0  \n",
       "1490430926011 56418411969    242658854    7  18.0  86.0     24.0        2.0  \n",
       "1490430927018 57425188011    242658854    7  18.0  86.0     24.0        2.0  \n",
       "1490430928004 58410924469    242658854    7  17.0  86.0     24.0        2.0  \n",
       "...                                                 ...      ...        ...  \n",
       "1499268456045 25743270261693 149674581225 18 14.0  76.0     42.0       82.0  \n",
       "1499268457048 25744273048672 149674581225 18 13.0  76.0     42.0       82.0  \n",
       "1499268458049 25745274413256 149674581225 18 13.0  76.0     42.0       82.0  \n",
       "1499268459048 25746273234610 149674581225 18 13.0  76.0     42.0       82.0  \n",
       "1499268460049 25747274462734 149674581225 18 13.0  76.0     42.0       82.0  \n",
       "\n",
       "[1322749 rows x 7 columns]"
      ],
      "text/html": "<div>\n<style scoped>\n    .dataframe tbody tr th:only-of-type {\n        vertical-align: middle;\n    }\n\n    .dataframe tbody tr th {\n        vertical-align: top;\n    }\n\n    .dataframe thead th {\n        text-align: right;\n    }\n</style>\n<table border=\"1\" class=\"dataframe\">\n  <thead>\n    <tr style=\"text-align: right;\">\n      <th></th>\n      <th></th>\n      <th></th>\n      <th></th>\n      <th></th>\n      <th>time</th>\n      <th>ign1</th>\n      <th>ign2</th>\n      <th>id</th>\n      <th>snr</th>\n      <th>azimuth</th>\n      <th>elevation</th>\n    </tr>\n  </thead>\n  <tbody>\n    <tr>\n      <th>1490430924008</th>\n      <th>54415677594</th>\n      <th>242658854</th>\n      <th>7</th>\n      <th>18.0</th>\n      <td>62.0</td>\n      <td>50.0</td>\n      <td>9.0</td>\n      <td>17.0</td>\n      <td>86.0</td>\n      <td>24.0</td>\n      <td>2.0</td>\n    </tr>\n    <tr>\n      <th>1490430925005</th>\n      <th>55412323428</th>\n      <th>242658854</th>\n      <th>7</th>\n      <th>18.0</th>\n      <td>62.0</td>\n      <td>50.0</td>\n      <td>9.0</td>\n      <td>17.0</td>\n      <td>86.0</td>\n      <td>24.0</td>\n      <td>2.0</td>\n    </tr>\n    <tr>\n      <th>1490430926011</th>\n      <th>56418411969</th>\n      <th>242658854</th>\n      <th>7</th>\n      <th>18.0</th>\n      <td>62.0</td>\n      <td>50.0</td>\n      <td>9.0</td>\n      <td>18.0</td>\n      <td>86.0</td>\n      <td>24.0</td>\n      <td>2.0</td>\n    </tr>\n    <tr>\n      <th>1490430927018</th>\n      <th>57425188011</th>\n      <th>242658854</th>\n      <th>7</th>\n      <th>18.0</th>\n      <td>62.0</td>\n      <td>50.0</td>\n      <td>9.0</td>\n      <td>19.0</td>\n      <td>86.0</td>\n      <td>24.0</td>\n      <td>2.0</td>\n    </tr>\n    <tr>\n      <th>1490430928004</th>\n      <th>58410924469</th>\n      <th>242658854</th>\n      <th>7</th>\n      <th>17.0</th>\n      <td>62.0</td>\n      <td>50.0</td>\n      <td>9.0</td>\n      <td>19.0</td>\n      <td>86.0</td>\n      <td>24.0</td>\n      <td>2.0</td>\n    </tr>\n    <tr>\n      <th>...</th>\n      <th>...</th>\n      <th>...</th>\n      <th>...</th>\n      <th>...</th>\n      <td>...</td>\n      <td>...</td>\n      <td>...</td>\n      <td>...</td>\n      <td>...</td>\n      <td>...</td>\n      <td>...</td>\n    </tr>\n    <tr>\n      <th>1499268456045</th>\n      <th>25743270261693</th>\n      <th>149674581225</th>\n      <th>18</th>\n      <th>14.0</th>\n      <td>75.0</td>\n      <td>45.0</td>\n      <td>67.0</td>\n      <td>18.0</td>\n      <td>76.0</td>\n      <td>42.0</td>\n      <td>82.0</td>\n    </tr>\n    <tr>\n      <th>1499268457048</th>\n      <th>25744273048672</th>\n      <th>149674581225</th>\n      <th>18</th>\n      <th>13.0</th>\n      <td>75.0</td>\n      <td>45.0</td>\n      <td>67.0</td>\n      <td>18.0</td>\n      <td>76.0</td>\n      <td>42.0</td>\n      <td>82.0</td>\n    </tr>\n    <tr>\n      <th>1499268458049</th>\n      <th>25745274413256</th>\n      <th>149674581225</th>\n      <th>18</th>\n      <th>13.0</th>\n      <td>75.0</td>\n      <td>45.0</td>\n      <td>67.0</td>\n      <td>18.0</td>\n      <td>76.0</td>\n      <td>42.0</td>\n      <td>82.0</td>\n    </tr>\n    <tr>\n      <th>1499268459048</th>\n      <th>25746273234610</th>\n      <th>149674581225</th>\n      <th>18</th>\n      <th>13.0</th>\n      <td>75.0</td>\n      <td>45.0</td>\n      <td>67.0</td>\n      <td>18.0</td>\n      <td>76.0</td>\n      <td>42.0</td>\n      <td>82.0</td>\n    </tr>\n    <tr>\n      <th>1499268460049</th>\n      <th>25747274462734</th>\n      <th>149674581225</th>\n      <th>18</th>\n      <th>13.0</th>\n      <td>75.0</td>\n      <td>45.0</td>\n      <td>67.0</td>\n      <td>20.0</td>\n      <td>76.0</td>\n      <td>42.0</td>\n      <td>82.0</td>\n    </tr>\n  </tbody>\n</table>\n<p>1322749 rows × 7 columns</p>\n</div>"
     },
     "metadata": {},
     "execution_count": 39
    }
   ],
   "source": [
    "gps"
   ]
  },
  {
   "cell_type": "code",
   "execution_count": null,
   "metadata": {},
   "outputs": [],
   "source": []
  }
 ]
}