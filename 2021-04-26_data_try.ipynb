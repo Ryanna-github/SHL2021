{
 "metadata": {
  "language_info": {
   "codemirror_mode": {
    "name": "ipython",
    "version": 3
   },
   "file_extension": ".py",
   "mimetype": "text/x-python",
   "name": "python",
   "nbconvert_exporter": "python",
   "pygments_lexer": "ipython3",
   "version": "3.8.5-final"
  },
  "orig_nbformat": 2,
  "kernelspec": {
   "name": "python3",
   "display_name": "Python 3.8.5 64-bit ('base': conda)",
   "metadata": {
    "interpreter": {
     "hash": "dca0ade3e726a953b501b15e8e990130d2b7799f14cfd9f4271676035ebe5511"
    }
   }
  }
 },
 "nbformat": 4,
 "nbformat_minor": 2,
 "cells": [
  {
   "cell_type": "code",
   "execution_count": 6,
   "metadata": {},
   "outputs": [],
   "source": [
    "import pandas as pd\n",
    "import numpy as np\n",
    "import re\n",
    "import time\n",
    "import matplotlib.pyplot as plt\n",
    "\n",
    "from utils import DataLoader, TimeKeeper"
   ]
  },
  {
   "cell_type": "code",
   "execution_count": 2,
   "metadata": {},
   "outputs": [],
   "source": [
    "detail_num = 1000"
   ]
  },
  {
   "cell_type": "code",
   "execution_count": 3,
   "metadata": {},
   "outputs": [],
   "source": [
    "data = DataLoader.SHLDataLoader('data/train/')"
   ]
  },
  {
   "cell_type": "code",
   "execution_count": 4,
   "metadata": {},
   "outputs": [
    {
     "output_type": "stream",
     "name": "stdout",
     "text": [
      "Label 读取完成，共 980527 条数据，用时 0.15s\n",
      "Location 读取完成，共 911109 条数据，用时 0.56s\n",
      "Wifi 读取完成，共 1459351 条数据，用时 31.56s\n",
      "\t-- Wifi 详细信息提取完成，共 1000 条数据，提取了 Wifi 中前 1000 行，用时 0.59s\n",
      "GPS 读取完成，共 1322749 条数据，用时 23.71s\n",
      "\t-- GPS 详细信息提取完成，共 1000 条数据，提取了 GPS 中前 1000 行，用时 0.68s\n",
      "Cells 读取完成，共 1324881 条数据，用时 22.38s\n",
      "\t-- Cells 详细信息提取完成，共 1000 条数据，提取了 Cells 中前 1000 行，用时 1.52s\n"
     ]
    }
   ],
   "source": [
    "data.load()"
   ]
  },
  {
   "source": [
    "## Location"
   ],
   "cell_type": "markdown",
   "metadata": {}
  },
  {
   "source": [
    "loc_names = ['time', 'ign1', 'ign2', 'accuracy', 'latitude', 'longitude', 'altitude']\n",
    "loc = pd.read_table('data/train/Location.txt', header = None, names = loc_names, sep = \" \").drop(['ign1', 'ign2'], axis = 1)\n",
    "loc.head()"
   ],
   "cell_type": "code",
   "metadata": {},
   "execution_count": null,
   "outputs": []
  },
  {
   "source": [
    "## Label"
   ],
   "cell_type": "markdown",
   "metadata": {}
  },
  {
   "cell_type": "code",
   "execution_count": 4,
   "metadata": {},
   "outputs": [
    {
     "output_type": "execute_result",
     "data": {
      "text/plain": [
       "            time  label\n",
       "0  1490431583000      4\n",
       "1  1490431584000      4\n",
       "2  1490431585000      4\n",
       "3  1490431586000      4\n",
       "4  1490431587000      4"
      ],
      "text/html": "<div>\n<style scoped>\n    .dataframe tbody tr th:only-of-type {\n        vertical-align: middle;\n    }\n\n    .dataframe tbody tr th {\n        vertical-align: top;\n    }\n\n    .dataframe thead th {\n        text-align: right;\n    }\n</style>\n<table border=\"1\" class=\"dataframe\">\n  <thead>\n    <tr style=\"text-align: right;\">\n      <th></th>\n      <th>time</th>\n      <th>label</th>\n    </tr>\n  </thead>\n  <tbody>\n    <tr>\n      <th>0</th>\n      <td>1490431583000</td>\n      <td>4</td>\n    </tr>\n    <tr>\n      <th>1</th>\n      <td>1490431584000</td>\n      <td>4</td>\n    </tr>\n    <tr>\n      <th>2</th>\n      <td>1490431585000</td>\n      <td>4</td>\n    </tr>\n    <tr>\n      <th>3</th>\n      <td>1490431586000</td>\n      <td>4</td>\n    </tr>\n    <tr>\n      <th>4</th>\n      <td>1490431587000</td>\n      <td>4</td>\n    </tr>\n  </tbody>\n</table>\n</div>"
     },
     "metadata": {},
     "execution_count": 4
    }
   ],
   "source": [
    "label_names = ['time', 'label']\n",
    "label = pd.read_table('data/train/Label.txt', header = None, names = label_names, sep = \"\\t\")\n",
    "# label.groupby('label').count().apply(lambda x: x/label.shape[0], axis = 1)\n",
    "label.head()"
   ]
  },
  {
   "source": [
    "## Wifi"
   ],
   "cell_type": "markdown",
   "metadata": {}
  },
  {
   "cell_type": "code",
   "execution_count": 5,
   "metadata": {},
   "outputs": [],
   "source": [
    "def wifi_detail_transformer(wifi_list, this_time):\n",
    "    res = np.array(wifi_list).reshape(-1, 5)\n",
    "    res = pd.DataFrame(res, columns = ('bssid', 'ssid', 'rssi', 'freq', 'cap'))\n",
    "    res.insert(loc = 0, column = 'time', value = [this_time] * res.shape[0])\n",
    "    return res"
   ]
  },
  {
   "source": [
    "time_recorder = []\n",
    "time_recorder.append(time.time())\n",
    "wifi = pd.read_table('data/train/Wifi.txt', header = None)\n",
    "wifi['time'] = wifi.apply(lambda x: x[0].split(\";\")[0], axis = 1)\n",
    "wifi['number'] = wifi.apply(lambda x: x[0].split(\";\")[3], axis = 1)\n",
    "time_recorder.append(time.time())\n",
    "# detail info\n",
    "wifi_detail = wifi.iloc[:detail_num,:].apply(lambda x: wifi_detail_transformer(x[0].split(\";\")[4:], x[0].split(\";\")[0]), axis = 1)\n",
    "wifi_detail = pd.concat(list(wifi_detail)).reset_index(drop = True)\n",
    "time_recorder.append(time.time())\n",
    "# delete raw data\n",
    "wifi.drop([0], axis = 1, inplace = True)\n",
    "print(pd.Series(time_recorder).diff(1))"
   ],
   "cell_type": "code",
   "metadata": {},
   "execution_count": 56,
   "outputs": [
    {
     "output_type": "stream",
     "name": "stdout",
     "text": [
      "0          NaN\n1    33.852244\n2     0.663604\ndtype: float64\n"
     ]
    }
   ]
  },
  {
   "source": [
    "## GPS"
   ],
   "cell_type": "markdown",
   "metadata": {}
  },
  {
   "cell_type": "code",
   "execution_count": 57,
   "metadata": {},
   "outputs": [],
   "source": [
    "def gps_detail_transformer(gps_list, this_time):\n",
    "    res = np.array(gps_list).reshape(-1, 4)\n",
    "    res = pd.DataFrame(res, columns = ('id', 'snr', 'azimuth', 'elevation'))\n",
    "    res.insert(loc = 0, column = 'time', value = [this_time] * res.shape[0])\n",
    "    # print(res)\n",
    "    return res"
   ]
  },
  {
   "cell_type": "code",
   "execution_count": 58,
   "metadata": {},
   "outputs": [],
   "source": [
    "time_recorder = []\n",
    "time_recorder.append(time.time())\n",
    "gps = pd.read_table('data/train/GPS.txt', header = None)\n",
    "gps['time'] = gps.apply(lambda x: x[0].split(\" \")[0], axis = 1)\n",
    "gps['number'] = gps.apply(lambda x: x[0].split(\" \")[-1], axis = 1)\n",
    "time_recorder.append(time.time())\n",
    "# detail info\n",
    "gps_detail = gps.iloc[:detail_num,:].apply(lambda x: gps_detail_transformer(x[0].split(\" \")[3:-1], x[0].split(\";\")[0]), axis = 1)\n",
    "gps_detail = pd.concat(list(gps_detail)).reset_index(drop = True)\n",
    "time_recorder.append(time.time())\n",
    "time_recorder.append(time.time())\n",
    "# delete raw data\n",
    "gps.drop([0], axis = 1, inplace = True)"
   ]
  },
  {
   "cell_type": "code",
   "execution_count": 59,
   "metadata": {},
   "outputs": [
    {
     "output_type": "stream",
     "name": "stdout",
     "text": [
      "0          NaN\n1    26.050008\n2     0.588471\n3     0.000024\ndtype: float64\n"
     ]
    }
   ],
   "source": [
    "print(pd.Series(time_recorder).diff(1))"
   ]
  },
  {
   "source": [
    "## Cells"
   ],
   "cell_type": "markdown",
   "metadata": {}
  },
  {
   "cell_type": "code",
   "execution_count": 160,
   "metadata": {},
   "outputs": [],
   "source": [
    "def cells_detail_transformer(cells_list, this_time):\n",
    "    # get cell type\n",
    "    cells_type = re.findall(\" LTE | GSM | WCDMA \", cells_list)\n",
    "    # get detail info\n",
    "    cells_info = re.split(\" LTE | GSM | WCDMA \", cells_list)[1:]\n",
    "    cells_detail = []\n",
    "    for i, ctype in enumerate(cells_type):\n",
    "        if re.match('.*LTE.*', ctype):\n",
    "            info = ['LTE'] + np.array(cells_info[i].split(\" \"))[[0, 1, 4, 2, 3, 7, 6, 8]].tolist()\n",
    "        elif re.match('.*GSM.*', ctype):\n",
    "            info = ['GSM'] + np.array(cells_info[i].split(\" \"))[[0, 1, 2, 3, 4, 6, 5, 7]].tolist()\n",
    "        elif re.match(\".*WCDMA.*\", ctype):\n",
    "            info = ['WCDMA'] + np.array(cells_info[i].split(\" \"))[[0, 1, 2, 3, 4, 7, 6, 8]].tolist()\n",
    "        else:\n",
    "            raise ValueError(\"Unrecognized cell type {}\".format(ctype))\n",
    "        cells_detail.append(info)\n",
    "\n",
    "    cells_detail = pd.DataFrame(cells_detail, columns = ('ctype', 'registered', 'id', 'lac', 'mmc', 'mnc', 'dbm', 'level1', 'level2'))\n",
    "    cells_detail.insert(loc = 0, column = 'time', value = [this_time] * len(cells_type))\n",
    "\n",
    "    return cells_detail"
   ]
  },
  {
   "cell_type": "code",
   "execution_count": 164,
   "metadata": {},
   "outputs": [],
   "source": [
    "cells = pd.read_table('data/train/Cells.txt', header = None)\n",
    "cells['time'] = cells.apply(lambda x: x[0].split(\" \")[0], axis = 1)\n",
    "cells['number'] = cells.apply(lambda x: x[0].split(\" \")[3], axis = 1)\n",
    "cells_detail = cells.iloc[:detail_num,:].apply(lambda x: cells_detail_transformer(x[0], x[0].split(\" \")[0]), axis = 1)\n",
    "cells_detail = pd.concat(cells_detail.to_list()).reset_index(drop = True)\n",
    "cells.drop([0], axis = 1, inplace = True)"
   ]
  },
  {
   "cell_type": "code",
   "execution_count": 165,
   "metadata": {},
   "outputs": [
    {
     "output_type": "execute_result",
     "data": {
      "text/plain": [
       "            time number\n",
       "0  1490430923343      3\n",
       "1  1490430923349      3\n",
       "2  1490430947385     13\n",
       "3  1490430953392      3\n",
       "4  1490430958903      3"
      ],
      "text/html": "<div>\n<style scoped>\n    .dataframe tbody tr th:only-of-type {\n        vertical-align: middle;\n    }\n\n    .dataframe tbody tr th {\n        vertical-align: top;\n    }\n\n    .dataframe thead th {\n        text-align: right;\n    }\n</style>\n<table border=\"1\" class=\"dataframe\">\n  <thead>\n    <tr style=\"text-align: right;\">\n      <th></th>\n      <th>time</th>\n      <th>number</th>\n    </tr>\n  </thead>\n  <tbody>\n    <tr>\n      <th>0</th>\n      <td>1490430923343</td>\n      <td>3</td>\n    </tr>\n    <tr>\n      <th>1</th>\n      <td>1490430923349</td>\n      <td>3</td>\n    </tr>\n    <tr>\n      <th>2</th>\n      <td>1490430947385</td>\n      <td>13</td>\n    </tr>\n    <tr>\n      <th>3</th>\n      <td>1490430953392</td>\n      <td>3</td>\n    </tr>\n    <tr>\n      <th>4</th>\n      <td>1490430958903</td>\n      <td>3</td>\n    </tr>\n  </tbody>\n</table>\n</div>"
     },
     "metadata": {},
     "execution_count": 165
    }
   ],
   "source": [
    "cells.head()"
   ]
  },
  {
   "cell_type": "code",
   "execution_count": 166,
   "metadata": {},
   "outputs": [
    {
     "output_type": "execute_result",
     "data": {
      "text/plain": [
       "            time ctype registered          id  lac  mmc mnc   dbm level1  \\\n",
       "0  1490430923343   LTE          1   128000386   20  234  10  -115     25   \n",
       "1  1490430923343   LTE          0  2147483647  398  234  10  -118     22   \n",
       "2  1490430923343   LTE          0  2147483647    4  234  10  -124     16   \n",
       "3  1490430923349   LTE          1   128000386   20  234  10  -115     25   \n",
       "4  1490430923349   LTE          0  2147483647  398  234  10  -118     22   \n",
       "\n",
       "  level2  \n",
       "0      2  \n",
       "1      1  \n",
       "2      1  \n",
       "3      2  \n",
       "4      1  "
      ],
      "text/html": "<div>\n<style scoped>\n    .dataframe tbody tr th:only-of-type {\n        vertical-align: middle;\n    }\n\n    .dataframe tbody tr th {\n        vertical-align: top;\n    }\n\n    .dataframe thead th {\n        text-align: right;\n    }\n</style>\n<table border=\"1\" class=\"dataframe\">\n  <thead>\n    <tr style=\"text-align: right;\">\n      <th></th>\n      <th>time</th>\n      <th>ctype</th>\n      <th>registered</th>\n      <th>id</th>\n      <th>lac</th>\n      <th>mmc</th>\n      <th>mnc</th>\n      <th>dbm</th>\n      <th>level1</th>\n      <th>level2</th>\n    </tr>\n  </thead>\n  <tbody>\n    <tr>\n      <th>0</th>\n      <td>1490430923343</td>\n      <td>LTE</td>\n      <td>1</td>\n      <td>128000386</td>\n      <td>20</td>\n      <td>234</td>\n      <td>10</td>\n      <td>-115</td>\n      <td>25</td>\n      <td>2</td>\n    </tr>\n    <tr>\n      <th>1</th>\n      <td>1490430923343</td>\n      <td>LTE</td>\n      <td>0</td>\n      <td>2147483647</td>\n      <td>398</td>\n      <td>234</td>\n      <td>10</td>\n      <td>-118</td>\n      <td>22</td>\n      <td>1</td>\n    </tr>\n    <tr>\n      <th>2</th>\n      <td>1490430923343</td>\n      <td>LTE</td>\n      <td>0</td>\n      <td>2147483647</td>\n      <td>4</td>\n      <td>234</td>\n      <td>10</td>\n      <td>-124</td>\n      <td>16</td>\n      <td>1</td>\n    </tr>\n    <tr>\n      <th>3</th>\n      <td>1490430923349</td>\n      <td>LTE</td>\n      <td>1</td>\n      <td>128000386</td>\n      <td>20</td>\n      <td>234</td>\n      <td>10</td>\n      <td>-115</td>\n      <td>25</td>\n      <td>2</td>\n    </tr>\n    <tr>\n      <th>4</th>\n      <td>1490430923349</td>\n      <td>LTE</td>\n      <td>0</td>\n      <td>2147483647</td>\n      <td>398</td>\n      <td>234</td>\n      <td>10</td>\n      <td>-118</td>\n      <td>22</td>\n      <td>1</td>\n    </tr>\n  </tbody>\n</table>\n</div>"
     },
     "metadata": {},
     "execution_count": 166
    }
   ],
   "source": [
    "cells_detail.head()"
   ]
  },
  {
   "cell_type": "code",
   "execution_count": 15,
   "metadata": {},
   "outputs": [],
   "source": [
    "ite_names = 'LTE; Signal level; Signal strength; Signal level; 28-bit Cell Identity; 3-digit Mobile Country Code; 2 or 3-digit Mobile Network Code; Physical Cell Id; 16-bit Tracking Area Code'.split(\"; \")\n",
    "gsm_names = 'GSM; Signal level calculated based on 3GPP RSRP; Signal strength; Signal level; 16-bit GSM Cell Identity described in TS 27.007; 16-bit Location Area Code; 3-digit Mobile Country Code; 2 or 3-digit Mobile Network Code'.split(\"; \")\n",
    "wcdma_names = 'WCDMA; isRegistered; cid; lac; MCC; MNC; PSC; asuLevel; dBm; level'.split(\"; \")"
   ]
  },
  {
   "cell_type": "code",
   "execution_count": 17,
   "metadata": {},
   "outputs": [
    {
     "output_type": "execute_result",
     "data": {
      "text/plain": [
       "['LTE',\n",
       " 'Signal level',\n",
       " 'Signal strength',\n",
       " 'Signal level',\n",
       " '28-bit Cell Identity',\n",
       " '3-digit Mobile Country Code',\n",
       " '2 or 3-digit Mobile Network Code',\n",
       " 'Physical Cell Id',\n",
       " '16-bit Tracking Area Code']"
      ]
     },
     "metadata": {},
     "execution_count": 17
    }
   ],
   "source": [
    "ite_names"
   ]
  },
  {
   "cell_type": "code",
   "execution_count": 140,
   "metadata": {},
   "outputs": [],
   "source": [
    "t = cells.iloc[0,0]\n",
    "t2 = cells.iloc[2,0]"
   ]
  },
  {
   "cell_type": "code",
   "execution_count": 141,
   "metadata": {},
   "outputs": [
    {
     "output_type": "execute_result",
     "data": {
      "text/plain": [
       "'1490430923343 53750757282 242658854 3 LTE 1 128000386 234 10 20 144 25 -115 2 LTE 0 2147483647 234 10 398 2147483647 22 -118 1 LTE 0 2147483647 234 10 4 2147483647 16 -124 1'"
      ]
     },
     "metadata": {},
     "execution_count": 141
    }
   ],
   "source": [
    "t"
   ]
  },
  {
   "cell_type": "code",
   "execution_count": 142,
   "metadata": {},
   "outputs": [
    {
     "output_type": "execute_result",
     "data": {
      "text/plain": [
       "'1490430947385 77792426028 242658854 13 LTE 1 128000386 234 10 20 144 20 -120 1 GSM 0 2147483647 2147483647 234 10 10 -93 3 GSM 0 2147483647 2147483647 234 10 6 -101 2 GSM 0 2147483647 2147483647 234 10 5 -103 2 GSM 0 2147483647 2147483647 234 10 2 -109 0 GSM 0 2147483647 2147483647 234 10 2 -109 0 GSM 0 2147483647 2147483647 234 10 2 -109 0 WCDMA 0 2147483647 2147483647 234 10 250 3 -107 1 WCDMA 0 2147483647 2147483647 234 10 14 3 -107 1 WCDMA 0 2147483647 2147483647 234 10 158 0 -113 0 LTE 0 2147483647 234 10 398 2147483647 20 -120 1 LTE 0 2147483647 234 10 4 2147483647 19 -121 1 LTE 0 2147483647 234 10 20 2147483647 19 -121 1'"
      ]
     },
     "metadata": {},
     "execution_count": 142
    }
   ],
   "source": [
    "t2"
   ]
  },
  {
   "cell_type": "code",
   "execution_count": 145,
   "metadata": {},
   "outputs": [],
   "source": [
    "cells_detail = cells_detail_transformer(t2, 1)"
   ]
  },
  {
   "cell_type": "code",
   "execution_count": 146,
   "metadata": {},
   "outputs": [
    {
     "output_type": "execute_result",
     "data": {
      "text/plain": [
       "    time  ctype registered          id         lac  mmc mnc   dbm level1  \\\n",
       "0      1    LTE          1   128000386          20  234  10  -120     20   \n",
       "1      1    GSM          0  2147483647  2147483647  234  10   -93     10   \n",
       "2      1    GSM          0  2147483647  2147483647  234  10  -101      6   \n",
       "3      1    GSM          0  2147483647  2147483647  234  10  -103      5   \n",
       "4      1    GSM          0  2147483647  2147483647  234  10  -109      2   \n",
       "5      1    GSM          0  2147483647  2147483647  234  10  -109      2   \n",
       "6      1    GSM          0  2147483647  2147483647  234  10  -109      2   \n",
       "7      1  WCDMA          0  2147483647  2147483647  234  10  -107      3   \n",
       "8      1  WCDMA          0  2147483647  2147483647  234  10  -107      3   \n",
       "9      1  WCDMA          0  2147483647  2147483647  234  10  -113      0   \n",
       "10     1    LTE          0  2147483647         398  234  10  -120     20   \n",
       "11     1    LTE          0  2147483647           4  234  10  -121     19   \n",
       "12     1    LTE          0  2147483647          20  234  10  -121     19   \n",
       "\n",
       "   level2  \n",
       "0       1  \n",
       "1       3  \n",
       "2       2  \n",
       "3       2  \n",
       "4       0  \n",
       "5       0  \n",
       "6       0  \n",
       "7       1  \n",
       "8       1  \n",
       "9       0  \n",
       "10      1  \n",
       "11      1  \n",
       "12      1  "
      ],
      "text/html": "<div>\n<style scoped>\n    .dataframe tbody tr th:only-of-type {\n        vertical-align: middle;\n    }\n\n    .dataframe tbody tr th {\n        vertical-align: top;\n    }\n\n    .dataframe thead th {\n        text-align: right;\n    }\n</style>\n<table border=\"1\" class=\"dataframe\">\n  <thead>\n    <tr style=\"text-align: right;\">\n      <th></th>\n      <th>time</th>\n      <th>ctype</th>\n      <th>registered</th>\n      <th>id</th>\n      <th>lac</th>\n      <th>mmc</th>\n      <th>mnc</th>\n      <th>dbm</th>\n      <th>level1</th>\n      <th>level2</th>\n    </tr>\n  </thead>\n  <tbody>\n    <tr>\n      <th>0</th>\n      <td>1</td>\n      <td>LTE</td>\n      <td>1</td>\n      <td>128000386</td>\n      <td>20</td>\n      <td>234</td>\n      <td>10</td>\n      <td>-120</td>\n      <td>20</td>\n      <td>1</td>\n    </tr>\n    <tr>\n      <th>1</th>\n      <td>1</td>\n      <td>GSM</td>\n      <td>0</td>\n      <td>2147483647</td>\n      <td>2147483647</td>\n      <td>234</td>\n      <td>10</td>\n      <td>-93</td>\n      <td>10</td>\n      <td>3</td>\n    </tr>\n    <tr>\n      <th>2</th>\n      <td>1</td>\n      <td>GSM</td>\n      <td>0</td>\n      <td>2147483647</td>\n      <td>2147483647</td>\n      <td>234</td>\n      <td>10</td>\n      <td>-101</td>\n      <td>6</td>\n      <td>2</td>\n    </tr>\n    <tr>\n      <th>3</th>\n      <td>1</td>\n      <td>GSM</td>\n      <td>0</td>\n      <td>2147483647</td>\n      <td>2147483647</td>\n      <td>234</td>\n      <td>10</td>\n      <td>-103</td>\n      <td>5</td>\n      <td>2</td>\n    </tr>\n    <tr>\n      <th>4</th>\n      <td>1</td>\n      <td>GSM</td>\n      <td>0</td>\n      <td>2147483647</td>\n      <td>2147483647</td>\n      <td>234</td>\n      <td>10</td>\n      <td>-109</td>\n      <td>2</td>\n      <td>0</td>\n    </tr>\n    <tr>\n      <th>5</th>\n      <td>1</td>\n      <td>GSM</td>\n      <td>0</td>\n      <td>2147483647</td>\n      <td>2147483647</td>\n      <td>234</td>\n      <td>10</td>\n      <td>-109</td>\n      <td>2</td>\n      <td>0</td>\n    </tr>\n    <tr>\n      <th>6</th>\n      <td>1</td>\n      <td>GSM</td>\n      <td>0</td>\n      <td>2147483647</td>\n      <td>2147483647</td>\n      <td>234</td>\n      <td>10</td>\n      <td>-109</td>\n      <td>2</td>\n      <td>0</td>\n    </tr>\n    <tr>\n      <th>7</th>\n      <td>1</td>\n      <td>WCDMA</td>\n      <td>0</td>\n      <td>2147483647</td>\n      <td>2147483647</td>\n      <td>234</td>\n      <td>10</td>\n      <td>-107</td>\n      <td>3</td>\n      <td>1</td>\n    </tr>\n    <tr>\n      <th>8</th>\n      <td>1</td>\n      <td>WCDMA</td>\n      <td>0</td>\n      <td>2147483647</td>\n      <td>2147483647</td>\n      <td>234</td>\n      <td>10</td>\n      <td>-107</td>\n      <td>3</td>\n      <td>1</td>\n    </tr>\n    <tr>\n      <th>9</th>\n      <td>1</td>\n      <td>WCDMA</td>\n      <td>0</td>\n      <td>2147483647</td>\n      <td>2147483647</td>\n      <td>234</td>\n      <td>10</td>\n      <td>-113</td>\n      <td>0</td>\n      <td>0</td>\n    </tr>\n    <tr>\n      <th>10</th>\n      <td>1</td>\n      <td>LTE</td>\n      <td>0</td>\n      <td>2147483647</td>\n      <td>398</td>\n      <td>234</td>\n      <td>10</td>\n      <td>-120</td>\n      <td>20</td>\n      <td>1</td>\n    </tr>\n    <tr>\n      <th>11</th>\n      <td>1</td>\n      <td>LTE</td>\n      <td>0</td>\n      <td>2147483647</td>\n      <td>4</td>\n      <td>234</td>\n      <td>10</td>\n      <td>-121</td>\n      <td>19</td>\n      <td>1</td>\n    </tr>\n    <tr>\n      <th>12</th>\n      <td>1</td>\n      <td>LTE</td>\n      <td>0</td>\n      <td>2147483647</td>\n      <td>20</td>\n      <td>234</td>\n      <td>10</td>\n      <td>-121</td>\n      <td>19</td>\n      <td>1</td>\n    </tr>\n  </tbody>\n</table>\n</div>"
     },
     "metadata": {},
     "execution_count": 146
    }
   ],
   "source": [
    "cells_detail"
   ]
  },
  {
   "cell_type": "code",
   "execution_count": null,
   "metadata": {},
   "outputs": [],
   "source": []
  }
 ]
}