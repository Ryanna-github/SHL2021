{
 "metadata": {
  "language_info": {
   "codemirror_mode": {
    "name": "ipython",
    "version": 3
   },
   "file_extension": ".py",
   "mimetype": "text/x-python",
   "name": "python",
   "nbconvert_exporter": "python",
   "pygments_lexer": "ipython3",
   "version": "3.8.5-final"
  },
  "orig_nbformat": 2,
  "kernelspec": {
   "name": "python3",
   "display_name": "Python 3.8.5 64-bit ('base': conda)",
   "metadata": {
    "interpreter": {
     "hash": "dca0ade3e726a953b501b15e8e990130d2b7799f14cfd9f4271676035ebe5511"
    }
   }
  }
 },
 "nbformat": 4,
 "nbformat_minor": 2,
 "cells": [
  {
   "cell_type": "code",
   "execution_count": 10,
   "metadata": {},
   "outputs": [],
   "source": [
    "import pandas as pd\n",
    "import numpy as np\n",
    "import re"
   ]
  },
  {
   "cell_type": "code",
   "execution_count": null,
   "metadata": {},
   "outputs": [],
   "source": [
    "def read_shl_data(root_path):\n",
    "    # Location\n",
    "    loc_names = ['time', 'ign1', 'ign2', 'accuracy', 'latitude', 'longitude', 'altitude']\n",
    "    loc = pd.read_table('data/train/Location.txt', header = None, names = loc_names, sep = \" \").drop(['ign1', 'ign2'], axis = 1)"
   ]
  },
  {
   "cell_type": "code",
   "execution_count": 41,
   "metadata": {},
   "outputs": [
    {
     "output_type": "execute_result",
     "data": {
      "text/plain": [
       "            time  accuracy   latitude  longitude    altitude\n",
       "0  1490431658118      64.0  50.844494  -0.132922   97.664610\n",
       "1  1490431659760      48.0  50.844491  -0.132924  128.267900\n",
       "2  1490431660766      48.0  50.844481  -0.132931  135.611425\n",
       "3  1490431661765      12.0  50.844469  -0.132930  134.436050\n",
       "4  1490431662768      32.0  50.844267  -0.132787  135.993866"
      ],
      "text/html": "<div>\n<style scoped>\n    .dataframe tbody tr th:only-of-type {\n        vertical-align: middle;\n    }\n\n    .dataframe tbody tr th {\n        vertical-align: top;\n    }\n\n    .dataframe thead th {\n        text-align: right;\n    }\n</style>\n<table border=\"1\" class=\"dataframe\">\n  <thead>\n    <tr style=\"text-align: right;\">\n      <th></th>\n      <th>time</th>\n      <th>accuracy</th>\n      <th>latitude</th>\n      <th>longitude</th>\n      <th>altitude</th>\n    </tr>\n  </thead>\n  <tbody>\n    <tr>\n      <th>0</th>\n      <td>1490431658118</td>\n      <td>64.0</td>\n      <td>50.844494</td>\n      <td>-0.132922</td>\n      <td>97.664610</td>\n    </tr>\n    <tr>\n      <th>1</th>\n      <td>1490431659760</td>\n      <td>48.0</td>\n      <td>50.844491</td>\n      <td>-0.132924</td>\n      <td>128.267900</td>\n    </tr>\n    <tr>\n      <th>2</th>\n      <td>1490431660766</td>\n      <td>48.0</td>\n      <td>50.844481</td>\n      <td>-0.132931</td>\n      <td>135.611425</td>\n    </tr>\n    <tr>\n      <th>3</th>\n      <td>1490431661765</td>\n      <td>12.0</td>\n      <td>50.844469</td>\n      <td>-0.132930</td>\n      <td>134.436050</td>\n    </tr>\n    <tr>\n      <th>4</th>\n      <td>1490431662768</td>\n      <td>32.0</td>\n      <td>50.844267</td>\n      <td>-0.132787</td>\n      <td>135.993866</td>\n    </tr>\n  </tbody>\n</table>\n</div>"
     },
     "metadata": {},
     "execution_count": 41
    }
   ],
   "source": [
    "loc_names = ['time', 'ign1', 'ign2', 'accuracy', 'latitude', 'longitude', 'altitude']\n",
    "loc = pd.read_table('data/train/Location.txt', header = None, names = loc_names, sep = \" \").drop(['ign1', 'ign2'], axis = 1)\n",
    "loc.head()"
   ]
  },
  {
   "cell_type": "code",
   "execution_count": 44,
   "metadata": {},
   "outputs": [
    {
     "output_type": "execute_result",
     "data": {
      "text/plain": [
       "            time  label\n",
       "0  1490431583000      4\n",
       "1  1490431584000      4\n",
       "2  1490431585000      4\n",
       "3  1490431586000      4\n",
       "4  1490431587000      4"
      ],
      "text/html": "<div>\n<style scoped>\n    .dataframe tbody tr th:only-of-type {\n        vertical-align: middle;\n    }\n\n    .dataframe tbody tr th {\n        vertical-align: top;\n    }\n\n    .dataframe thead th {\n        text-align: right;\n    }\n</style>\n<table border=\"1\" class=\"dataframe\">\n  <thead>\n    <tr style=\"text-align: right;\">\n      <th></th>\n      <th>time</th>\n      <th>label</th>\n    </tr>\n  </thead>\n  <tbody>\n    <tr>\n      <th>0</th>\n      <td>1490431583000</td>\n      <td>4</td>\n    </tr>\n    <tr>\n      <th>1</th>\n      <td>1490431584000</td>\n      <td>4</td>\n    </tr>\n    <tr>\n      <th>2</th>\n      <td>1490431585000</td>\n      <td>4</td>\n    </tr>\n    <tr>\n      <th>3</th>\n      <td>1490431586000</td>\n      <td>4</td>\n    </tr>\n    <tr>\n      <th>4</th>\n      <td>1490431587000</td>\n      <td>4</td>\n    </tr>\n  </tbody>\n</table>\n</div>"
     },
     "metadata": {},
     "execution_count": 44
    }
   ],
   "source": [
    "label_names = ['time', 'label']\n",
    "label = pd.read_table('data/train/Label.txt', header = None, names = label_names, sep = \"\\t\")\n",
    "# label.groupby('label').count().apply(lambda x: x/label.shape[0], axis = 1)\n",
    "label.head()"
   ]
  },
  {
   "cell_type": "code",
   "execution_count": 179,
   "metadata": {},
   "outputs": [],
   "source": [
    "def wifi_detail_transformer(wifi_list, this_time):\n",
    "    res = np.array(wifi_list).reshape(-1, 5)\n",
    "    res = pd.DataFrame(res, columns = ('bssid', 'ssid', 'rssi', 'freq', 'cap'))\n",
    "    res.insert(loc = 0, column = 'time', value = [this_time] * res.shape[0])\n",
    "    return res"
   ]
  },
  {
   "source": [
    "wifi = pd.read_table('data/train/Wifi.txt', header = None)\n",
    "wifi['time'] = wifi.apply(lambda x: x[0].split(\";\")[0], axis = 1)\n",
    "wifi['number'] = wifi.apply(lambda x: x[0].split(\";\")[3], axis = 1)\n",
    "# detail wifi info\n",
    "wifi_detail = wifi.apply(lambda x: wifi_detail_transformer(x[0].split(\";\")[4:], x[0].split(\";\")[0]), axis = 1)\n",
    "wifi_detail = pd.concat(list(wifi_detail)).reset_index(drop = True)\n",
    "# delete raw data\n",
    "wifi.drop([0], axis = 1, inplace = True)"
   ],
   "cell_type": "code",
   "metadata": {},
   "execution_count": null,
   "outputs": []
  },
  {
   "cell_type": "code",
   "execution_count": 203,
   "metadata": {},
   "outputs": [],
   "source": [
    "gps = pd.read_table('data/train/GPS.txt', header = None).iloc[:1000,:]"
   ]
  },
  {
   "cell_type": "code",
   "execution_count": 208,
   "metadata": {},
   "outputs": [],
   "source": [
    "def gps_detail_transformer(wifi_list, this_time):\n",
    "    res = np.array(wifi_list).reshape(-1, 4)\n",
    "    res = pd.DataFrame(res, columns = ('id', 'snr', 'azimuth', 'elevation'))\n",
    "    res.insert(loc = 0, column = 'time', value = [this_time] * res.shape[0])\n",
    "    return res"
   ]
  },
  {
   "cell_type": "code",
   "execution_count": 205,
   "metadata": {},
   "outputs": [],
   "source": [
    "gps['time'] = gps.apply(lambda x: x[0].split(\" \")[0], axis = 1)\n",
    "gps['number'] = gps.apply(lambda x: x[0].split(\" \")[-1], axis = 1)"
   ]
  },
  {
   "cell_type": "code",
   "execution_count": 207,
   "metadata": {},
   "outputs": [
    {
     "output_type": "execute_result",
     "data": {
      "text/plain": [
       "                                                   0           time number\n",
       "0  1490430924008 54415677594 242658854 7 18.0 62....  1490430924008      2\n",
       "1  1490430925005 55412323428 242658854 7 18.0 62....  1490430925005      2\n",
       "2  1490430926011 56418411969 242658854 7 18.0 62....  1490430926011      2\n",
       "3  1490430927018 57425188011 242658854 7 18.0 62....  1490430927018      2\n",
       "4  1490430928004 58410924469 242658854 7 17.0 62....  1490430928004      2\n",
       "5  1490430929002 59409794781 242658854 7 17.0 62....  1490430929002      2\n",
       "6  1490430930012 60419713010 242658854 9 21.0 86....  1490430930012      1\n",
       "7  1490430931019 61426092698 242658854 9 21.0 86....  1490430931019      2\n",
       "8  1490430932017 62424246343 242658854 9 21.0 86....  1490430932017      2\n",
       "9  1490430933012 63419291135 242658854 9 20.0 86....  1490430933012      2"
      ],
      "text/html": "<div>\n<style scoped>\n    .dataframe tbody tr th:only-of-type {\n        vertical-align: middle;\n    }\n\n    .dataframe tbody tr th {\n        vertical-align: top;\n    }\n\n    .dataframe thead th {\n        text-align: right;\n    }\n</style>\n<table border=\"1\" class=\"dataframe\">\n  <thead>\n    <tr style=\"text-align: right;\">\n      <th></th>\n      <th>0</th>\n      <th>time</th>\n      <th>number</th>\n    </tr>\n  </thead>\n  <tbody>\n    <tr>\n      <th>0</th>\n      <td>1490430924008 54415677594 242658854 7 18.0 62....</td>\n      <td>1490430924008</td>\n      <td>2</td>\n    </tr>\n    <tr>\n      <th>1</th>\n      <td>1490430925005 55412323428 242658854 7 18.0 62....</td>\n      <td>1490430925005</td>\n      <td>2</td>\n    </tr>\n    <tr>\n      <th>2</th>\n      <td>1490430926011 56418411969 242658854 7 18.0 62....</td>\n      <td>1490430926011</td>\n      <td>2</td>\n    </tr>\n    <tr>\n      <th>3</th>\n      <td>1490430927018 57425188011 242658854 7 18.0 62....</td>\n      <td>1490430927018</td>\n      <td>2</td>\n    </tr>\n    <tr>\n      <th>4</th>\n      <td>1490430928004 58410924469 242658854 7 17.0 62....</td>\n      <td>1490430928004</td>\n      <td>2</td>\n    </tr>\n    <tr>\n      <th>5</th>\n      <td>1490430929002 59409794781 242658854 7 17.0 62....</td>\n      <td>1490430929002</td>\n      <td>2</td>\n    </tr>\n    <tr>\n      <th>6</th>\n      <td>1490430930012 60419713010 242658854 9 21.0 86....</td>\n      <td>1490430930012</td>\n      <td>1</td>\n    </tr>\n    <tr>\n      <th>7</th>\n      <td>1490430931019 61426092698 242658854 9 21.0 86....</td>\n      <td>1490430931019</td>\n      <td>2</td>\n    </tr>\n    <tr>\n      <th>8</th>\n      <td>1490430932017 62424246343 242658854 9 21.0 86....</td>\n      <td>1490430932017</td>\n      <td>2</td>\n    </tr>\n    <tr>\n      <th>9</th>\n      <td>1490430933012 63419291135 242658854 9 20.0 86....</td>\n      <td>1490430933012</td>\n      <td>2</td>\n    </tr>\n  </tbody>\n</table>\n</div>"
     },
     "metadata": {},
     "execution_count": 207
    }
   ],
   "source": [
    "gps_detail = wifi_tmp.apply(lambda x: wifi_detail_transformer(x[0].split(\";\")[4:], x[0].split(\";\")[0]), axis = 1)\n",
    "gps_detail = pd.concat(list(wifi_detail)).reset_index(drop = True)"
   ]
  },
  {
   "cell_type": "code",
   "execution_count": 201,
   "metadata": {},
   "outputs": [
    {
     "output_type": "stream",
     "name": "stdout",
     "text": [
      "1490430924008 54415677594 242658854 7 18.0 62.0 50.0 9 17.0 86.0 24.0 2\n\n1490430925005 55412323428 242658854 7 18.0 62.0 50.0 9 17.0 86.0 24.0 2\n\n1490430926011 56418411969 242658854 7 18.0 62.0 50.0 9 18.0 86.0 24.0 2\n\n1490430927018 57425188011 242658854 7 18.0 62.0 50.0 9 19.0 86.0 24.0 2\n\n1490430928004 58410924469 242658854 7 17.0 62.0 50.0 9 19.0 86.0 24.0 2\n\n1490430929002 59409794781 242658854 7 17.0 62.0 50.0 9 19.0 86.0 24.0 2\n\n1490430930012 60419713010 242658854 9 21.0 86.0 24.0 1\n\n1490430931019 61426092698 242658854 9 21.0 86.0 24.0 28 14.0 144.0 13.0 2\n\n1490430932017 62424246343 242658854 9 21.0 86.0 24.0 28 14.0 144.0 13.0 2\n\n1490430933012 63419291135 242658854 9 20.0 86.0 24.0 28 13.0 144.0 13.0 2\n\n1490430934013 64420416655 242658854 9 20.0 86.0 24.0 1\n\n"
     ]
    }
   ],
   "source": [
    "with open('data/train/GPS.txt') as file:\n",
    "    for i, line in enumerate(file):\n",
    "        print(line)\n",
    "        if i >= 10:\n",
    "            break"
   ]
  },
  {
   "cell_type": "code",
   "execution_count": null,
   "metadata": {},
   "outputs": [],
   "source": []
  },
  {
   "cell_type": "code",
   "execution_count": null,
   "metadata": {},
   "outputs": [],
   "source": []
  },
  {
   "cell_type": "code",
   "execution_count": null,
   "metadata": {},
   "outputs": [],
   "source": []
  },
  {
   "cell_type": "code",
   "execution_count": null,
   "metadata": {},
   "outputs": [],
   "source": []
  },
  {
   "cell_type": "code",
   "execution_count": null,
   "metadata": {},
   "outputs": [],
   "source": []
  }
 ]
}