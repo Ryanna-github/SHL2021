{
 "metadata": {
  "language_info": {
   "codemirror_mode": {
    "name": "ipython",
    "version": 3
   },
   "file_extension": ".py",
   "mimetype": "text/x-python",
   "name": "python",
   "nbconvert_exporter": "python",
   "pygments_lexer": "ipython3",
   "version": "3.8.5"
  },
  "orig_nbformat": 2,
  "kernelspec": {
   "name": "python3",
   "display_name": "Python 3.8.5 64-bit ('base': conda)",
   "metadata": {
    "interpreter": {
     "hash": "dca0ade3e726a953b501b15e8e990130d2b7799f14cfd9f4271676035ebe5511"
    }
   }
  }
 },
 "nbformat": 4,
 "nbformat_minor": 2,
 "cells": [
  {
   "cell_type": "code",
   "execution_count": 2,
   "metadata": {},
   "outputs": [],
   "source": [
    "import pandas as pd\n",
    "import numpy as np\n",
    "import re\n",
    "import time\n",
    "import matplotlib.pyplot as plt\n",
    "from collections import Counter\n",
    "import pickle\n",
    "\n",
    "from utils import DataLoader, TimeKeeper"
   ]
  },
  {
   "cell_type": "code",
   "execution_count": 5,
   "metadata": {},
   "outputs": [],
   "source": [
    "# data = DataLoader.SHLDataLoader('data/train/', ratio = None)"
   ]
  },
  {
   "cell_type": "code",
   "execution_count": 6,
   "metadata": {},
   "outputs": [
    {
     "output_type": "stream",
     "name": "stdout",
     "text": [
      "Location Loading...\n",
      "Location 读取完成，共 911109 条数据，用时 0.58s\n",
      "Wifi Loading...\n",
      "Wifi 读取完成，共 1459351 条数据，用时 33.75s\n",
      "Wifi Detail Loading...\n",
      "\t-- Wifi 详细信息提取完成，共 1459351 条数据，用时 1027.54s\n",
      "GPS Loading...\n",
      "GPS 读取完成，共 1322749 条数据，用时 25.73s\n",
      "GPS Detail Loading...\n",
      "\t-- GPS 详细信息提取完成，共 1322749 条数据，用时 995.55s\n",
      "Cells Loading...\n",
      "Cells 读取完成，共 1324881 条数据，用时 23.34s\n",
      "Cells Detail Loading...\n",
      "\t-- Cells 详细信息提取完成，共 1324881 条数据，用时 2065.17s\n",
      "Label Loading...\n",
      "Label 读取完成，共 980527 条数据，用时 0.21s\n"
     ]
    }
   ],
   "source": [
    "# data.load_all(detail = True)"
   ]
  },
  {
   "cell_type": "code",
   "execution_count": 7,
   "metadata": {},
   "outputs": [],
   "source": [
    "# # save\n",
    "# file = open('data/mid_res/data_detail_full.pickle', 'wb')\n",
    "# pickle.dump(data, file)\n",
    "# file.close()"
   ]
  },
  {
   "cell_type": "code",
   "execution_count": 3,
   "metadata": {},
   "outputs": [],
   "source": [
    "# load\n",
    "with open('data/mid_res/data_detail_full.pickle', 'rb') as file:\n",
    "    data = pickle.load(file)"
   ]
  },
  {
   "cell_type": "code",
   "execution_count": null,
   "metadata": {},
   "outputs": [],
   "source": []
  }
 ]
}