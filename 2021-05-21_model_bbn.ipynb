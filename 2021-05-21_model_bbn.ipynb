{
 "metadata": {
  "language_info": {
   "codemirror_mode": {
    "name": "ipython",
    "version": 3
   },
   "file_extension": ".py",
   "mimetype": "text/x-python",
   "name": "python",
   "nbconvert_exporter": "python",
   "pygments_lexer": "ipython3",
   "version": "3.8.5"
  },
  "orig_nbformat": 2,
  "kernelspec": {
   "name": "python3",
   "display_name": "Python 3.8.5 64-bit ('base': conda)",
   "metadata": {
    "interpreter": {
     "hash": "dca0ade3e726a953b501b15e8e990130d2b7799f14cfd9f4271676035ebe5511"
    }
   }
  }
 },
 "nbformat": 4,
 "nbformat_minor": 2,
 "cells": [
  {
   "source": [
    "# Bayes Model-(Abandon)"
   ],
   "cell_type": "markdown",
   "metadata": {}
  },
  {
   "cell_type": "code",
   "execution_count": 1,
   "metadata": {},
   "outputs": [],
   "source": [
    "import pandas as pd\n",
    "import numpy as np \n",
    "import matplotlib.pyplot as plt \n",
    "import pickle\n",
    "import seaborn as sns\n",
    "from collections import Counter\n",
    "import seaborn as sns\n",
    "\n",
    "from utils import DataLoader, DataProcesser, label_plot\n",
    "\n",
    "%load_ext autoreload\n",
    "%autoreload 2"
   ]
  },
  {
   "cell_type": "code",
   "execution_count": 2,
   "metadata": {},
   "outputs": [],
   "source": [
    "label_dic = {1: 'Still', 2: 'Walking', 3: 'Run', 4: 'Bike', 5: 'Car', 6: 'Bus', 7: 'Train', 8: 'Subway'}"
   ]
  },
  {
   "source": [
    "## Data Preparation"
   ],
   "cell_type": "markdown",
   "metadata": {}
  },
  {
   "cell_type": "code",
   "execution_count": 5,
   "metadata": {},
   "outputs": [
    {
     "output_type": "stream",
     "name": "stdout",
     "text": [
      "Customized DataLoader Passed in.\n"
     ]
    }
   ],
   "source": [
    "data = DataLoader.SHLDataLoader('data/train/', ratio = None)\n",
    "data.df = pd.read_csv(\"data/mid_res/20210525_data_df.csv\")\n",
    "dp = DataProcesser.DataProcesser(data)"
   ]
  },
  {
   "cell_type": "code",
   "execution_count": 6,
   "metadata": {},
   "outputs": [
    {
     "output_type": "stream",
     "name": "stdout",
     "text": [
      "0\n",
      "1\n",
      "2\n",
      "3\n",
      "4\n",
      "5\n"
     ]
    }
   ],
   "source": [
    "print(\"0\")\n",
    "data.df['have_loc'] = data.df.apply(lambda x: 1 if x['accuracy'] > -1 else 0, axis = 1)\n",
    "data.df['have_gps'] = data.df.apply(lambda x: 1 if x['num_gps'] > 0 else 0, axis = 1)\n",
    "data.df['have_wifi'] = data.df.apply(lambda x: 1 if x['num_wifi'] > 0 else 0, axis = 1)\n",
    "data.df['have_cells'] = data.df.apply(lambda x: 1 if x['num_cells'] > 0 else 0, axis = 1)\n",
    "print(\"1\")\n",
    "# location\n",
    "data.df['speed_level'] = pd.cut(data.df['speed'], [float('-inf'), 1, 20, float('inf')], labels = [0, 1, 2]).cat.add_categories(-1).fillna(0).astype('int')\n",
    "data.df['accuracy_level'] = pd.cut(data.df['accuracy'], [float('-inf'), 5, 10, float('inf')], labels = [0, 1, 2]).cat.add_categories(-1).fillna(0).astype('int')\n",
    "data.df['speed_wd_max_log'] = np.log(data.df['speed']+1).rolling(20, center = True).max().fillna(method = 'ffill').fillna(method = 'bfill')\n",
    "data.df['acc_wd_std_log'] = data.df.apply(lambda x: np.log(x['acc_wd_std']*100000 + 1), axis = 1)\n",
    "print(\"2\")\n",
    "# gps\n",
    "data.df['num_gps_level'] = pd.cut(data.df['num_gps'], [0, 5, 10, 15, 50], labels = list(range(4))).cat.add_categories(-1).fillna(0).astype('int')\n",
    "print(\"3\")\n",
    "# wifi\n",
    "data.df['num_wifi_level'] = pd.cut(data.df['num_wifi'], [-1, 1.5, 50], labels = list(range(2))).cat.add_categories(-1).fillna(0).astype('int')\n",
    "data.df['wifi_freq_5ratio_level'] = pd.cut(data.df['wifi_freq_5ratio'], [round(t, 2) for t in list(np.linspace(-0.01, 1.01, 10))], labels = list(range(9))).cat.add_categories(-1).fillna(0).astype('int')\n",
    "print(\"4\")\n",
    "# cells\n",
    "data.df['num_cells_level'] = pd.cut(data.df['num_cells'], [0, 1.5, 2.5, 3.5, 5.5, 10.5, 50], labels = list(range(6))).cat.add_categories(-1).fillna(0).astype('int')\n",
    "data.df['cells_isRegistered_mean_level'] = pd.cut(data.df['cells_isRegistered_mean'], [0, 0.2, 0.5, 1.1], labels = list(range(3))).cat.add_categories(-1).fillna(0).astype('int')\n",
    "data.df['cells_asuLevel_mean_level'] = pd.cut(data.df['cells_asuLevel_mean'], [-1, 15, 100], labels = list(range(2))).cat.add_categories(-1).fillna(0).astype('int')\n",
    "data.df['cells_dbm_mean'] = data.df.apply(lambda x: x['cells_dbm_mean'] if x['cells_dbm_mean'] < 0 else np.nan, axis = 1)\n",
    "print(\"5\")"
   ]
  },
  {
   "cell_type": "code",
   "execution_count": 7,
   "metadata": {},
   "outputs": [
    {
     "output_type": "execute_result",
     "data": {
      "text/plain": [
       "['time',\n",
       " 'label',\n",
       " 'accuracy',\n",
       " 'latitude',\n",
       " 'longitude',\n",
       " 'altitude',\n",
       " 'num_gps',\n",
       " 'num_wifi',\n",
       " 'num_cells',\n",
       " 'time_dlt',\n",
       " 'valid_dlt',\n",
       " 'east',\n",
       " 'north',\n",
       " 'east_dlt',\n",
       " 'north_dlt',\n",
       " 'east_speed',\n",
       " 'north_speed',\n",
       " 'speed',\n",
       " 'speed_dif',\n",
       " 'speed_dlt',\n",
       " 'acc',\n",
       " 'wifi_rssi_mode',\n",
       " 'wifi_rssi_mean',\n",
       " 'wifi_rssi_min',\n",
       " 'wifi_rssi_max',\n",
       " 'wifi_rssi_std',\n",
       " 'wifi_freq_5ratio',\n",
       " 'cells_ctype_mode',\n",
       " 'cells_isRegistered_mean',\n",
       " 'cells_asuLevel_mean',\n",
       " 'cells_dbm_mean',\n",
       " 'cells_level_mean',\n",
       " 'cells_asuLevel_min',\n",
       " 'cells_dbm_min',\n",
       " 'cells_level_min',\n",
       " 'cells_asuLevel_max',\n",
       " 'cells_dbm_max',\n",
       " 'cells_level_max',\n",
       " 'cells_asuLevel_std',\n",
       " 'cells_dbm_std',\n",
       " 'gps_snr_mean',\n",
       " 'gps_snr_min',\n",
       " 'gps_snr_max',\n",
       " 'gps_snr_std',\n",
       " 'speed_log',\n",
       " 'acc_wd_std',\n",
       " 'speed_wd_std',\n",
       " 'have_loc',\n",
       " 'have_gps',\n",
       " 'have_wifi',\n",
       " 'have_cells',\n",
       " 'speed_level',\n",
       " 'accuracy_level',\n",
       " 'speed_wd_max_log',\n",
       " 'acc_wd_std_log',\n",
       " 'num_gps_level',\n",
       " 'num_wifi_level',\n",
       " 'wifi_freq_5ratio_level',\n",
       " 'num_cells_level',\n",
       " 'cells_isRegistered_mean_level',\n",
       " 'cells_asuLevel_mean_level']"
      ]
     },
     "metadata": {},
     "execution_count": 7
    }
   ],
   "source": [
    "list(data.df)"
   ]
  },
  {
   "cell_type": "code",
   "execution_count": 12,
   "metadata": {},
   "outputs": [],
   "source": [
    "col_bn = ['time', 'label',\n",
    "'have_loc', 'have_gps', 'have_wifi', 'have_cells',\n",
    "'speed_level', 'speed_log', 'speed_wd_max_log', 'accuracy_level', 'acc_wd_std_log',\n",
    "'num_gps_level', 'gps_snr_max', 'gps_snr_mean',\n",
    "'num_wifi_level', 'wifi_rssi_mean', 'wifi_rssi_max', 'wifi_freq_5ratio_level',\n",
    "'num_cells_level', 'cells_asuLevel_mean_level', 'cells_asuLevel_mean', 'cells_isRegistered_mean', 'cells_dbm_mean', 'cells_level_mean']"
   ]
  },
  {
   "cell_type": "code",
   "execution_count": 13,
   "metadata": {},
   "outputs": [],
   "source": [
    "# 缺失值未处理的版本\n",
    "data.df[col_bn].to_csv(\"data/mid_res/20210526_data_bn.csv\", header = True, index = False)"
   ]
  },
  {
   "cell_type": "code",
   "execution_count": null,
   "metadata": {},
   "outputs": [],
   "source": []
  }
 ]
}