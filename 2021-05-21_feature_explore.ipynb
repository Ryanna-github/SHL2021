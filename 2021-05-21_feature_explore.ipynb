{
 "metadata": {
  "language_info": {
   "codemirror_mode": {
    "name": "ipython",
    "version": 3
   },
   "file_extension": ".py",
   "mimetype": "text/x-python",
   "name": "python",
   "nbconvert_exporter": "python",
   "pygments_lexer": "ipython3",
   "version": "3.8.5"
  },
  "orig_nbformat": 2,
  "kernelspec": {
   "name": "python3",
   "display_name": "Python 3.8.5 64-bit ('base': conda)",
   "metadata": {
    "interpreter": {
     "hash": "dca0ade3e726a953b501b15e8e990130d2b7799f14cfd9f4271676035ebe5511"
    }
   }
  }
 },
 "nbformat": 4,
 "nbformat_minor": 2,
 "cells": [
  {
   "cell_type": "code",
   "execution_count": 2,
   "metadata": {},
   "outputs": [],
   "source": [
    "import pandas as pd\n",
    "import numpy as np \n",
    "import matplotlib.pyplot as plt \n",
    "import pickle\n",
    "import seaborn as sns\n",
    "from collections import Counter\n",
    "import seaborn as sns\n",
    "\n",
    "from utils import DataLoader, DataProcesser, label_plot\n",
    "\n",
    "%load_ext autoreload\n",
    "%autoreload 2"
   ]
  },
  {
   "cell_type": "code",
   "execution_count": 3,
   "metadata": {},
   "outputs": [],
   "source": [
    "label_dic = {1: 'Still', 2: 'Walking', 3: 'Run', 4: 'Bike', 5: 'Car', 6: 'Bus', 7: 'Train', 8: 'Subway'}"
   ]
  },
  {
   "source": [
    "# Data"
   ],
   "cell_type": "markdown",
   "metadata": {}
  },
  {
   "cell_type": "code",
   "execution_count": 4,
   "metadata": {},
   "outputs": [],
   "source": [
    "with open('data/mid_res/data_detail_full.pickle', 'rb') as file:\n",
    "    data = pickle.load(file)"
   ]
  },
  {
   "cell_type": "code",
   "execution_count": 5,
   "metadata": {},
   "outputs": [],
   "source": [
    "# dp = DataProcesser.DataProcesser(data)\n",
    "# dp.process_pipe()"
   ]
  },
  {
   "cell_type": "code",
   "execution_count": 6,
   "metadata": {},
   "outputs": [],
   "source": [
    "# data.df.to_csv(\"data/mid_res/data_ft_v1.csv\", header = True, index = False)"
   ]
  },
  {
   "cell_type": "code",
   "execution_count": 7,
   "metadata": {},
   "outputs": [],
   "source": [
    "data.df = pd.read_csv('data/mid_res/data_ft_v1.csv')\n",
    "dp = DataProcesser.DataProcesser(data)\n",
    "dp.process_data_window()"
   ]
  },
  {
   "cell_type": "code",
   "execution_count": 5,
   "metadata": {},
   "outputs": [],
   "source": [
    "# data.df.to_csv(\"data/mid_res/20210525_data_df.csv\", header = True, index = False)\n",
    "data.df = pd.read_csv(\"data/mid_res/20210525_data_df.csv\")"
   ]
  },
  {
   "source": [
    "# Feature"
   ],
   "cell_type": "markdown",
   "metadata": {}
  },
  {
   "cell_type": "code",
   "execution_count": 63,
   "metadata": {},
   "outputs": [
    {
     "output_type": "execute_result",
     "data": {
      "text/plain": [
       "['time',\n",
       " 'label',\n",
       " 'accuracy',\n",
       " 'latitude',\n",
       " 'longitude',\n",
       " 'altitude',\n",
       " 'num_gps',\n",
       " 'num_wifi',\n",
       " 'num_cells',\n",
       " 'time_dlt',\n",
       " 'valid_dlt',\n",
       " 'east',\n",
       " 'north',\n",
       " 'east_dlt',\n",
       " 'north_dlt',\n",
       " 'east_speed',\n",
       " 'north_speed',\n",
       " 'speed',\n",
       " 'speed_dif',\n",
       " 'speed_dlt',\n",
       " 'acc',\n",
       " 'wifi_rssi_mode',\n",
       " 'wifi_rssi_mean',\n",
       " 'wifi_rssi_min',\n",
       " 'wifi_rssi_max',\n",
       " 'wifi_rssi_std',\n",
       " 'wifi_freq_5ratio',\n",
       " 'cells_ctype_mode',\n",
       " 'cells_isRegistered_mean',\n",
       " 'cells_asuLevel_mean',\n",
       " 'cells_dbm_mean',\n",
       " 'cells_level_mean',\n",
       " 'cells_asuLevel_min',\n",
       " 'cells_dbm_min',\n",
       " 'cells_level_min',\n",
       " 'cells_asuLevel_max',\n",
       " 'cells_dbm_max',\n",
       " 'cells_level_max',\n",
       " 'cells_asuLevel_std',\n",
       " 'cells_dbm_std',\n",
       " 'gps_snr_mean',\n",
       " 'gps_snr_min',\n",
       " 'gps_snr_max',\n",
       " 'gps_snr_std',\n",
       " 'speed_log',\n",
       " 'acc_wd_std',\n",
       " 'speed_wd_std',\n",
       " 'have_loc',\n",
       " 'have_gps',\n",
       " 'have_wifi',\n",
       " 'have_cells',\n",
       " 'speed_level',\n",
       " 'speed_wd_max_log',\n",
       " 'accuracy_level']"
      ]
     },
     "metadata": {},
     "execution_count": 63
    }
   ],
   "source": [
    "list(data.df)"
   ]
  },
  {
   "cell_type": "code",
   "execution_count": 6,
   "metadata": {},
   "outputs": [],
   "source": [
    "data.df['have_loc'] = data.df.apply(lambda x: 1 if x['accuracy'] > -1 else 0, axis = 1)\n",
    "data.df['have_gps'] = data.df.apply(lambda x: 1 if x['num_gps'] > -1 else 0, axis = 1)\n",
    "data.df['have_wifi'] = data.df.apply(lambda x: 1 if x['num_wifi'] > -1 else 0, axis = 1)\n",
    "data.df['have_cells'] = data.df.apply(lambda x: 1 if x['num_cells'] > -1 else 0, axis = 1)"
   ]
  },
  {
   "cell_type": "code",
   "execution_count": 29,
   "metadata": {},
   "outputs": [],
   "source": [
    "data.df['speed_level'] = pd.cut(data.df['speed'], [float('-inf'), 1, 20, float('inf')], labels = [0, 1, 2]).cat.add_categories(-1).fillna(0).astype('int')"
   ]
  },
  {
   "cell_type": "code",
   "execution_count": 32,
   "metadata": {},
   "outputs": [],
   "source": [
    "data.df['accuracy_level'] = pd.cut(data.df['accuracy'], [float('-inf'), 5, 10, float('inf')], labels = [0, 1, 2]).cat.add_categories(-1).fillna(0).astype('int')"
   ]
  },
  {
   "cell_type": "code",
   "execution_count": 7,
   "metadata": {},
   "outputs": [],
   "source": [
    "# data.df['is_stop'] = data.df.apply(lambda x: 1 if x['speed'] < 1 else 0, axis = 1)\n",
    "# data.df['high_speed'] = data.df.apply(lambda x: 1 if x['speed'] > 20 else 0, axis = 1)\n",
    "data.df['speed_wd_max_log'] = np.log(data.df['speed']+1).rolling(20, center = True).max().fillna(method = 'ffill').fillna(method = 'bfill')"
   ]
  },
  {
   "cell_type": "code",
   "execution_count": 53,
   "metadata": {},
   "outputs": [
    {
     "output_type": "execute_result",
     "data": {
      "text/plain": [
       "       have_loc  have_gps  have_wifi  have_cells  accuracy_level\n",
       "label                                                           \n",
       "1      0.420463  0.918513   0.982404    0.884523        0.319319\n",
       "2      0.858919  0.998086   0.983790    0.898433        0.677272\n",
       "3      0.991414  0.998013   0.984530    0.897270        0.613658\n",
       "4      0.986346  0.998467   0.984634    0.875898        0.799409\n",
       "5      0.772167  0.801185   0.983043    0.983030        0.651741\n",
       "6      0.842294  0.963895   0.984066    0.892808        0.738328\n",
       "7      0.442756  0.761814   0.984276    0.816697        0.419717\n",
       "8      0.295697  0.961035   0.984234    0.817390        0.275241"
      ],
      "text/html": "<div>\n<style scoped>\n    .dataframe tbody tr th:only-of-type {\n        vertical-align: middle;\n    }\n\n    .dataframe tbody tr th {\n        vertical-align: top;\n    }\n\n    .dataframe thead th {\n        text-align: right;\n    }\n</style>\n<table border=\"1\" class=\"dataframe\">\n  <thead>\n    <tr style=\"text-align: right;\">\n      <th></th>\n      <th>have_loc</th>\n      <th>have_gps</th>\n      <th>have_wifi</th>\n      <th>have_cells</th>\n      <th>accuracy_level</th>\n    </tr>\n    <tr>\n      <th>label</th>\n      <th></th>\n      <th></th>\n      <th></th>\n      <th></th>\n      <th></th>\n    </tr>\n  </thead>\n  <tbody>\n    <tr>\n      <th>1</th>\n      <td>0.420463</td>\n      <td>0.918513</td>\n      <td>0.982404</td>\n      <td>0.884523</td>\n      <td>0.319319</td>\n    </tr>\n    <tr>\n      <th>2</th>\n      <td>0.858919</td>\n      <td>0.998086</td>\n      <td>0.983790</td>\n      <td>0.898433</td>\n      <td>0.677272</td>\n    </tr>\n    <tr>\n      <th>3</th>\n      <td>0.991414</td>\n      <td>0.998013</td>\n      <td>0.984530</td>\n      <td>0.897270</td>\n      <td>0.613658</td>\n    </tr>\n    <tr>\n      <th>4</th>\n      <td>0.986346</td>\n      <td>0.998467</td>\n      <td>0.984634</td>\n      <td>0.875898</td>\n      <td>0.799409</td>\n    </tr>\n    <tr>\n      <th>5</th>\n      <td>0.772167</td>\n      <td>0.801185</td>\n      <td>0.983043</td>\n      <td>0.983030</td>\n      <td>0.651741</td>\n    </tr>\n    <tr>\n      <th>6</th>\n      <td>0.842294</td>\n      <td>0.963895</td>\n      <td>0.984066</td>\n      <td>0.892808</td>\n      <td>0.738328</td>\n    </tr>\n    <tr>\n      <th>7</th>\n      <td>0.442756</td>\n      <td>0.761814</td>\n      <td>0.984276</td>\n      <td>0.816697</td>\n      <td>0.419717</td>\n    </tr>\n    <tr>\n      <th>8</th>\n      <td>0.295697</td>\n      <td>0.961035</td>\n      <td>0.984234</td>\n      <td>0.817390</td>\n      <td>0.275241</td>\n    </tr>\n  </tbody>\n</table>\n</div>"
     },
     "metadata": {},
     "execution_count": 53
    }
   ],
   "source": [
    "data.df.groupby(['label']).mean()[['have_loc', 'have_gps', 'have_wifi', 'have_cells', 'accuracy_level']]"
   ]
  },
  {
   "cell_type": "code",
   "execution_count": 35,
   "metadata": {},
   "outputs": [
    {
     "output_type": "execute_result",
     "data": {
      "text/plain": [
       "Counter({0: 432170, 2: 220854, 1: 327503})"
      ]
     },
     "metadata": {},
     "execution_count": 35
    }
   ],
   "source": [
    "Counter(data.df.accuracy_level)"
   ]
  },
  {
   "cell_type": "code",
   "execution_count": 62,
   "metadata": {},
   "outputs": [
    {
     "output_type": "execute_result",
     "data": {
      "text/plain": [
       "      Still   Walking       Run      Bike       Car       Bus     Train  \\\n",
       "0  0.601816  0.228642  0.091591  0.472125  0.398326  0.099260  0.233769   \n",
       "1  0.030196  0.235294  0.394566  0.288560  0.330028  0.378822  0.582748   \n",
       "2  0.367988  0.536064  0.513844  0.239315  0.271647  0.521918  0.183483   \n",
       "\n",
       "     Subway  \n",
       "0  0.276121  \n",
       "1  0.470368  \n",
       "2  0.253511  "
      ],
      "text/html": "<div>\n<style scoped>\n    .dataframe tbody tr th:only-of-type {\n        vertical-align: middle;\n    }\n\n    .dataframe tbody tr th {\n        vertical-align: top;\n    }\n\n    .dataframe thead th {\n        text-align: right;\n    }\n</style>\n<table border=\"1\" class=\"dataframe\">\n  <thead>\n    <tr style=\"text-align: right;\">\n      <th></th>\n      <th>Still</th>\n      <th>Walking</th>\n      <th>Run</th>\n      <th>Bike</th>\n      <th>Car</th>\n      <th>Bus</th>\n      <th>Train</th>\n      <th>Subway</th>\n    </tr>\n  </thead>\n  <tbody>\n    <tr>\n      <th>0</th>\n      <td>0.601816</td>\n      <td>0.228642</td>\n      <td>0.091591</td>\n      <td>0.472125</td>\n      <td>0.398326</td>\n      <td>0.099260</td>\n      <td>0.233769</td>\n      <td>0.276121</td>\n    </tr>\n    <tr>\n      <th>1</th>\n      <td>0.030196</td>\n      <td>0.235294</td>\n      <td>0.394566</td>\n      <td>0.288560</td>\n      <td>0.330028</td>\n      <td>0.378822</td>\n      <td>0.582748</td>\n      <td>0.470368</td>\n    </tr>\n    <tr>\n      <th>2</th>\n      <td>0.367988</td>\n      <td>0.536064</td>\n      <td>0.513844</td>\n      <td>0.239315</td>\n      <td>0.271647</td>\n      <td>0.521918</td>\n      <td>0.183483</td>\n      <td>0.253511</td>\n    </tr>\n  </tbody>\n</table>\n</div>"
     },
     "metadata": {},
     "execution_count": 62
    }
   ],
   "source": [
    "t = np.array(data.df.groupby(['label', 'accuracy_level']).count()['time'].reset_index(drop = True)).reshape(3, -1)\n",
    "pd.DataFrame(t, columns = list(label_dic.values()))/pd.DataFrame(t, columns = list(label_dic.values())).sum(axis = 0)"
   ]
  },
  {
   "cell_type": "code",
   "execution_count": null,
   "metadata": {},
   "outputs": [],
   "source": [
    "# label_plot.plot_label(data.df, col_name)"
   ]
  },
  {
   "cell_type": "code",
   "execution_count": 33,
   "metadata": {},
   "outputs": [],
   "source": [
    "col_have = 'have_loc'\n",
    "col_name = 'accuracy'\n",
    "df_plot = data.df[(data.df[col_have] == 1)]"
   ]
  },
  {
   "cell_type": "code",
   "execution_count": null,
   "metadata": {},
   "outputs": [],
   "source": [
    "data.df['accuracy_level'] = 1\n",
    "data.df['accuracy_level'][data.df['accuracy'] > ]"
   ]
  },
  {
   "cell_type": "code",
   "execution_count": 51,
   "metadata": {},
   "outputs": [
    {
     "output_type": "display_data",
     "data": {
      "text/plain": "<Figure size 432x288 with 1 Axes>",
      "image/svg+xml": "<?xml version=\"1.0\" encoding=\"utf-8\" standalone=\"no\"?>\n<!DOCTYPE svg PUBLIC \"-//W3C//DTD SVG 1.1//EN\"\n  \"http://www.w3.org/Graphics/SVG/1.1/DTD/svg11.dtd\">\n<!-- Created with matplotlib (https://matplotlib.org/) -->\n<svg height=\"248.518125pt\" version=\"1.1\" viewBox=\"0 0 394.375 248.518125\" width=\"394.375pt\" xmlns=\"http://www.w3.org/2000/svg\" xmlns:xlink=\"http://www.w3.org/1999/xlink\">\n <metadata>\n  <rdf:RDF xmlns:cc=\"http://creativecommons.org/ns#\" xmlns:dc=\"http://purl.org/dc/elements/1.1/\" xmlns:rdf=\"http://www.w3.org/1999/02/22-rdf-syntax-ns#\">\n   <cc:Work>\n    <dc:type rdf:resource=\"http://purl.org/dc/dcmitype/StillImage\"/>\n    <dc:date>2021-05-25T18:14:35.106228</dc:date>\n    <dc:format>image/svg+xml</dc:format>\n    <dc:creator>\n     <cc:Agent>\n      <dc:title>Matplotlib v3.3.2, https://matplotlib.org/</dc:title>\n     </cc:Agent>\n    </dc:creator>\n   </cc:Work>\n  </rdf:RDF>\n </metadata>\n <defs>\n  <style type=\"text/css\">*{stroke-linecap:butt;stroke-linejoin:round;}</style>\n </defs>\n <g id=\"figure_1\">\n  <g id=\"patch_1\">\n   <path d=\"M 0 248.518125 \nL 394.375 248.518125 \nL 394.375 0 \nL 0 0 \nz\n\"/>\n  </g>\n  <g id=\"axes_1\">\n   <g id=\"patch_2\">\n    <path d=\"M 52.375 224.64 \nL 387.175 224.64 \nL 387.175 7.2 \nL 52.375 7.2 \nz\n\"/>\n   </g>\n   <g id=\"patch_3\">\n    <path clip-path=\"url(#peb9c507169)\" d=\"M 67.593182 224.64 \nL 82.811364 224.64 \nL 82.811364 17.554286 \nL 67.593182 17.554286 \nz\n\" style=\"fill:#8dd3c7;\"/>\n   </g>\n   <g id=\"patch_4\">\n    <path clip-path=\"url(#peb9c507169)\" d=\"M 82.811364 224.64 \nL 98.029545 224.64 \nL 98.029545 209.283243 \nL 82.811364 209.283243 \nz\n\" style=\"fill:#8dd3c7;\"/>\n   </g>\n   <g id=\"patch_5\">\n    <path clip-path=\"url(#peb9c507169)\" d=\"M 98.029545 224.64 \nL 113.247727 224.64 \nL 113.247727 220.311054 \nL 98.029545 220.311054 \nz\n\" style=\"fill:#8dd3c7;\"/>\n   </g>\n   <g id=\"patch_6\">\n    <path clip-path=\"url(#peb9c507169)\" d=\"M 113.247727 224.64 \nL 128.465909 224.64 \nL 128.465909 224.575466 \nL 113.247727 224.575466 \nz\n\" style=\"fill:#8dd3c7;\"/>\n   </g>\n   <g id=\"patch_7\">\n    <path clip-path=\"url(#peb9c507169)\" d=\"M 128.465909 224.64 \nL 143.684091 224.64 \nL 143.684091 224.630045 \nL 128.465909 224.630045 \nz\n\" style=\"fill:#8dd3c7;\"/>\n   </g>\n   <g id=\"patch_8\">\n    <path clip-path=\"url(#peb9c507169)\" d=\"M 143.684091 224.64 \nL 158.902273 224.64 \nL 158.902273 224.64 \nL 143.684091 224.64 \nz\n\" style=\"fill:#8dd3c7;\"/>\n   </g>\n   <g id=\"patch_9\">\n    <path clip-path=\"url(#peb9c507169)\" d=\"M 158.902273 224.64 \nL 174.120455 224.64 \nL 174.120455 224.639657 \nL 158.902273 224.639657 \nz\n\" style=\"fill:#8dd3c7;\"/>\n   </g>\n   <g id=\"patch_10\">\n    <path clip-path=\"url(#peb9c507169)\" d=\"M 174.120455 224.64 \nL 189.338636 224.64 \nL 189.338636 224.64 \nL 174.120455 224.64 \nz\n\" style=\"fill:#8dd3c7;\"/>\n   </g>\n   <g id=\"patch_11\">\n    <path clip-path=\"url(#peb9c507169)\" d=\"M 189.338636 224.64 \nL 204.556818 224.64 \nL 204.556818 224.64 \nL 189.338636 224.64 \nz\n\" style=\"fill:#8dd3c7;\"/>\n   </g>\n   <g id=\"patch_12\">\n    <path clip-path=\"url(#peb9c507169)\" d=\"M 204.556818 224.64 \nL 219.775 224.64 \nL 219.775 224.638284 \nL 204.556818 224.638284 \nz\n\" style=\"fill:#8dd3c7;\"/>\n   </g>\n   <g id=\"patch_13\">\n    <path clip-path=\"url(#peb9c507169)\" d=\"M 219.775 224.64 \nL 234.993182 224.64 \nL 234.993182 224.64 \nL 219.775 224.64 \nz\n\" style=\"fill:#8dd3c7;\"/>\n   </g>\n   <g id=\"patch_14\">\n    <path clip-path=\"url(#peb9c507169)\" d=\"M 234.993182 224.64 \nL 250.211364 224.64 \nL 250.211364 224.64 \nL 234.993182 224.64 \nz\n\" style=\"fill:#8dd3c7;\"/>\n   </g>\n   <g id=\"patch_15\">\n    <path clip-path=\"url(#peb9c507169)\" d=\"M 250.211364 224.64 \nL 265.429545 224.64 \nL 265.429545 224.639313 \nL 250.211364 224.639313 \nz\n\" style=\"fill:#8dd3c7;\"/>\n   </g>\n   <g id=\"patch_16\">\n    <path clip-path=\"url(#peb9c507169)\" d=\"M 265.429545 224.64 \nL 280.647727 224.64 \nL 280.647727 224.64 \nL 265.429545 224.64 \nz\n\" style=\"fill:#8dd3c7;\"/>\n   </g>\n   <g id=\"patch_17\">\n    <path clip-path=\"url(#peb9c507169)\" d=\"M 280.647727 224.64 \nL 295.865909 224.64 \nL 295.865909 224.64 \nL 280.647727 224.64 \nz\n\" style=\"fill:#8dd3c7;\"/>\n   </g>\n   <g id=\"patch_18\">\n    <path clip-path=\"url(#peb9c507169)\" d=\"M 295.865909 224.64 \nL 311.084091 224.64 \nL 311.084091 224.64 \nL 295.865909 224.64 \nz\n\" style=\"fill:#8dd3c7;\"/>\n   </g>\n   <g id=\"patch_19\">\n    <path clip-path=\"url(#peb9c507169)\" d=\"M 311.084091 224.64 \nL 326.302273 224.64 \nL 326.302273 224.64 \nL 311.084091 224.64 \nz\n\" style=\"fill:#8dd3c7;\"/>\n   </g>\n   <g id=\"patch_20\">\n    <path clip-path=\"url(#peb9c507169)\" d=\"M 326.302273 224.64 \nL 341.520455 224.64 \nL 341.520455 224.639657 \nL 326.302273 224.639657 \nz\n\" style=\"fill:#8dd3c7;\"/>\n   </g>\n   <g id=\"patch_21\">\n    <path clip-path=\"url(#peb9c507169)\" d=\"M 341.520455 224.64 \nL 356.738636 224.64 \nL 356.738636 224.64 \nL 341.520455 224.64 \nz\n\" style=\"fill:#8dd3c7;\"/>\n   </g>\n   <g id=\"patch_22\">\n    <path clip-path=\"url(#peb9c507169)\" d=\"M 356.738636 224.64 \nL 371.956818 224.64 \nL 371.956818 224.639657 \nL 356.738636 224.639657 \nz\n\" style=\"fill:#8dd3c7;\"/>\n   </g>\n   <g id=\"matplotlib.axis_1\">\n    <g id=\"xtick_1\">\n     <g id=\"line2d_1\">\n      <defs>\n       <path d=\"M 0 0 \nL 0 3.5 \n\" id=\"m539e38fe01\" style=\"stroke:#ffffff;stroke-width:0.8;\"/>\n      </defs>\n      <g>\n       <use style=\"fill:#ffffff;stroke:#ffffff;stroke-width:0.8;\" x=\"66.063716\" xlink:href=\"#m539e38fe01\" y=\"224.64\"/>\n      </g>\n     </g>\n     <g id=\"text_1\">\n      <!-- 0 -->\n      <g style=\"fill:#ffffff;\" transform=\"translate(62.882466 239.238437)scale(0.1 -0.1)\">\n       <defs>\n        <path d=\"M 31.78125 66.40625 \nQ 24.171875 66.40625 20.328125 58.90625 \nQ 16.5 51.421875 16.5 36.375 \nQ 16.5 21.390625 20.328125 13.890625 \nQ 24.171875 6.390625 31.78125 6.390625 \nQ 39.453125 6.390625 43.28125 13.890625 \nQ 47.125 21.390625 47.125 36.375 \nQ 47.125 51.421875 43.28125 58.90625 \nQ 39.453125 66.40625 31.78125 66.40625 \nz\nM 31.78125 74.21875 \nQ 44.046875 74.21875 50.515625 64.515625 \nQ 56.984375 54.828125 56.984375 36.375 \nQ 56.984375 17.96875 50.515625 8.265625 \nQ 44.046875 -1.421875 31.78125 -1.421875 \nQ 19.53125 -1.421875 13.0625 8.265625 \nQ 6.59375 17.96875 6.59375 36.375 \nQ 6.59375 54.828125 13.0625 64.515625 \nQ 19.53125 74.21875 31.78125 74.21875 \nz\n\" id=\"DejaVuSans-48\"/>\n       </defs>\n       <use xlink:href=\"#DejaVuSans-48\"/>\n      </g>\n     </g>\n    </g>\n    <g id=\"xtick_2\">\n     <g id=\"line2d_2\">\n      <g>\n       <use style=\"fill:#ffffff;stroke:#ffffff;stroke-width:0.8;\" x=\"104.300354\" xlink:href=\"#m539e38fe01\" y=\"224.64\"/>\n      </g>\n     </g>\n     <g id=\"text_2\">\n      <!-- 50 -->\n      <g style=\"fill:#ffffff;\" transform=\"translate(97.937854 239.238437)scale(0.1 -0.1)\">\n       <defs>\n        <path d=\"M 10.796875 72.90625 \nL 49.515625 72.90625 \nL 49.515625 64.59375 \nL 19.828125 64.59375 \nL 19.828125 46.734375 \nQ 21.96875 47.46875 24.109375 47.828125 \nQ 26.265625 48.1875 28.421875 48.1875 \nQ 40.625 48.1875 47.75 41.5 \nQ 54.890625 34.8125 54.890625 23.390625 \nQ 54.890625 11.625 47.5625 5.09375 \nQ 40.234375 -1.421875 26.90625 -1.421875 \nQ 22.3125 -1.421875 17.546875 -0.640625 \nQ 12.796875 0.140625 7.71875 1.703125 \nL 7.71875 11.625 \nQ 12.109375 9.234375 16.796875 8.0625 \nQ 21.484375 6.890625 26.703125 6.890625 \nQ 35.15625 6.890625 40.078125 11.328125 \nQ 45.015625 15.765625 45.015625 23.390625 \nQ 45.015625 31 40.078125 35.4375 \nQ 35.15625 39.890625 26.703125 39.890625 \nQ 22.75 39.890625 18.8125 39.015625 \nQ 14.890625 38.140625 10.796875 36.28125 \nz\n\" id=\"DejaVuSans-53\"/>\n       </defs>\n       <use xlink:href=\"#DejaVuSans-53\"/>\n       <use x=\"63.623047\" xlink:href=\"#DejaVuSans-48\"/>\n      </g>\n     </g>\n    </g>\n    <g id=\"xtick_3\">\n     <g id=\"line2d_3\">\n      <g>\n       <use style=\"fill:#ffffff;stroke:#ffffff;stroke-width:0.8;\" x=\"142.536992\" xlink:href=\"#m539e38fe01\" y=\"224.64\"/>\n      </g>\n     </g>\n     <g id=\"text_3\">\n      <!-- 100 -->\n      <g style=\"fill:#ffffff;\" transform=\"translate(132.993242 239.238437)scale(0.1 -0.1)\">\n       <defs>\n        <path d=\"M 12.40625 8.296875 \nL 28.515625 8.296875 \nL 28.515625 63.921875 \nL 10.984375 60.40625 \nL 10.984375 69.390625 \nL 28.421875 72.90625 \nL 38.28125 72.90625 \nL 38.28125 8.296875 \nL 54.390625 8.296875 \nL 54.390625 0 \nL 12.40625 0 \nz\n\" id=\"DejaVuSans-49\"/>\n       </defs>\n       <use xlink:href=\"#DejaVuSans-49\"/>\n       <use x=\"63.623047\" xlink:href=\"#DejaVuSans-48\"/>\n       <use x=\"127.246094\" xlink:href=\"#DejaVuSans-48\"/>\n      </g>\n     </g>\n    </g>\n    <g id=\"xtick_4\">\n     <g id=\"line2d_4\">\n      <g>\n       <use style=\"fill:#ffffff;stroke:#ffffff;stroke-width:0.8;\" x=\"180.77363\" xlink:href=\"#m539e38fe01\" y=\"224.64\"/>\n      </g>\n     </g>\n     <g id=\"text_4\">\n      <!-- 150 -->\n      <g style=\"fill:#ffffff;\" transform=\"translate(171.22988 239.238437)scale(0.1 -0.1)\">\n       <use xlink:href=\"#DejaVuSans-49\"/>\n       <use x=\"63.623047\" xlink:href=\"#DejaVuSans-53\"/>\n       <use x=\"127.246094\" xlink:href=\"#DejaVuSans-48\"/>\n      </g>\n     </g>\n    </g>\n    <g id=\"xtick_5\">\n     <g id=\"line2d_5\">\n      <g>\n       <use style=\"fill:#ffffff;stroke:#ffffff;stroke-width:0.8;\" x=\"219.010267\" xlink:href=\"#m539e38fe01\" y=\"224.64\"/>\n      </g>\n     </g>\n     <g id=\"text_5\">\n      <!-- 200 -->\n      <g style=\"fill:#ffffff;\" transform=\"translate(209.466517 239.238437)scale(0.1 -0.1)\">\n       <defs>\n        <path d=\"M 19.1875 8.296875 \nL 53.609375 8.296875 \nL 53.609375 0 \nL 7.328125 0 \nL 7.328125 8.296875 \nQ 12.9375 14.109375 22.625 23.890625 \nQ 32.328125 33.6875 34.8125 36.53125 \nQ 39.546875 41.84375 41.421875 45.53125 \nQ 43.3125 49.21875 43.3125 52.78125 \nQ 43.3125 58.59375 39.234375 62.25 \nQ 35.15625 65.921875 28.609375 65.921875 \nQ 23.96875 65.921875 18.8125 64.3125 \nQ 13.671875 62.703125 7.8125 59.421875 \nL 7.8125 69.390625 \nQ 13.765625 71.78125 18.9375 73 \nQ 24.125 74.21875 28.421875 74.21875 \nQ 39.75 74.21875 46.484375 68.546875 \nQ 53.21875 62.890625 53.21875 53.421875 \nQ 53.21875 48.921875 51.53125 44.890625 \nQ 49.859375 40.875 45.40625 35.40625 \nQ 44.1875 33.984375 37.640625 27.21875 \nQ 31.109375 20.453125 19.1875 8.296875 \nz\n\" id=\"DejaVuSans-50\"/>\n       </defs>\n       <use xlink:href=\"#DejaVuSans-50\"/>\n       <use x=\"63.623047\" xlink:href=\"#DejaVuSans-48\"/>\n       <use x=\"127.246094\" xlink:href=\"#DejaVuSans-48\"/>\n      </g>\n     </g>\n    </g>\n    <g id=\"xtick_6\">\n     <g id=\"line2d_6\">\n      <g>\n       <use style=\"fill:#ffffff;stroke:#ffffff;stroke-width:0.8;\" x=\"257.246905\" xlink:href=\"#m539e38fe01\" y=\"224.64\"/>\n      </g>\n     </g>\n     <g id=\"text_6\">\n      <!-- 250 -->\n      <g style=\"fill:#ffffff;\" transform=\"translate(247.703155 239.238437)scale(0.1 -0.1)\">\n       <use xlink:href=\"#DejaVuSans-50\"/>\n       <use x=\"63.623047\" xlink:href=\"#DejaVuSans-53\"/>\n       <use x=\"127.246094\" xlink:href=\"#DejaVuSans-48\"/>\n      </g>\n     </g>\n    </g>\n    <g id=\"xtick_7\">\n     <g id=\"line2d_7\">\n      <g>\n       <use style=\"fill:#ffffff;stroke:#ffffff;stroke-width:0.8;\" x=\"295.483543\" xlink:href=\"#m539e38fe01\" y=\"224.64\"/>\n      </g>\n     </g>\n     <g id=\"text_7\">\n      <!-- 300 -->\n      <g style=\"fill:#ffffff;\" transform=\"translate(285.939793 239.238437)scale(0.1 -0.1)\">\n       <defs>\n        <path d=\"M 40.578125 39.3125 \nQ 47.65625 37.796875 51.625 33 \nQ 55.609375 28.21875 55.609375 21.1875 \nQ 55.609375 10.40625 48.1875 4.484375 \nQ 40.765625 -1.421875 27.09375 -1.421875 \nQ 22.515625 -1.421875 17.65625 -0.515625 \nQ 12.796875 0.390625 7.625 2.203125 \nL 7.625 11.71875 \nQ 11.71875 9.328125 16.59375 8.109375 \nQ 21.484375 6.890625 26.8125 6.890625 \nQ 36.078125 6.890625 40.9375 10.546875 \nQ 45.796875 14.203125 45.796875 21.1875 \nQ 45.796875 27.640625 41.28125 31.265625 \nQ 36.765625 34.90625 28.71875 34.90625 \nL 20.21875 34.90625 \nL 20.21875 43.015625 \nL 29.109375 43.015625 \nQ 36.375 43.015625 40.234375 45.921875 \nQ 44.09375 48.828125 44.09375 54.296875 \nQ 44.09375 59.90625 40.109375 62.90625 \nQ 36.140625 65.921875 28.71875 65.921875 \nQ 24.65625 65.921875 20.015625 65.03125 \nQ 15.375 64.15625 9.8125 62.3125 \nL 9.8125 71.09375 \nQ 15.4375 72.65625 20.34375 73.4375 \nQ 25.25 74.21875 29.59375 74.21875 \nQ 40.828125 74.21875 47.359375 69.109375 \nQ 53.90625 64.015625 53.90625 55.328125 \nQ 53.90625 49.265625 50.4375 45.09375 \nQ 46.96875 40.921875 40.578125 39.3125 \nz\n\" id=\"DejaVuSans-51\"/>\n       </defs>\n       <use xlink:href=\"#DejaVuSans-51\"/>\n       <use x=\"63.623047\" xlink:href=\"#DejaVuSans-48\"/>\n       <use x=\"127.246094\" xlink:href=\"#DejaVuSans-48\"/>\n      </g>\n     </g>\n    </g>\n    <g id=\"xtick_8\">\n     <g id=\"line2d_8\">\n      <g>\n       <use style=\"fill:#ffffff;stroke:#ffffff;stroke-width:0.8;\" x=\"333.72018\" xlink:href=\"#m539e38fe01\" y=\"224.64\"/>\n      </g>\n     </g>\n     <g id=\"text_8\">\n      <!-- 350 -->\n      <g style=\"fill:#ffffff;\" transform=\"translate(324.17643 239.238437)scale(0.1 -0.1)\">\n       <use xlink:href=\"#DejaVuSans-51\"/>\n       <use x=\"63.623047\" xlink:href=\"#DejaVuSans-53\"/>\n       <use x=\"127.246094\" xlink:href=\"#DejaVuSans-48\"/>\n      </g>\n     </g>\n    </g>\n    <g id=\"xtick_9\">\n     <g id=\"line2d_9\">\n      <g>\n       <use style=\"fill:#ffffff;stroke:#ffffff;stroke-width:0.8;\" x=\"371.956818\" xlink:href=\"#m539e38fe01\" y=\"224.64\"/>\n      </g>\n     </g>\n     <g id=\"text_9\">\n      <!-- 400 -->\n      <g style=\"fill:#ffffff;\" transform=\"translate(362.413068 239.238437)scale(0.1 -0.1)\">\n       <defs>\n        <path d=\"M 37.796875 64.3125 \nL 12.890625 25.390625 \nL 37.796875 25.390625 \nz\nM 35.203125 72.90625 \nL 47.609375 72.90625 \nL 47.609375 25.390625 \nL 58.015625 25.390625 \nL 58.015625 17.1875 \nL 47.609375 17.1875 \nL 47.609375 0 \nL 37.796875 0 \nL 37.796875 17.1875 \nL 4.890625 17.1875 \nL 4.890625 26.703125 \nz\n\" id=\"DejaVuSans-52\"/>\n       </defs>\n       <use xlink:href=\"#DejaVuSans-52\"/>\n       <use x=\"63.623047\" xlink:href=\"#DejaVuSans-48\"/>\n       <use x=\"127.246094\" xlink:href=\"#DejaVuSans-48\"/>\n      </g>\n     </g>\n    </g>\n   </g>\n   <g id=\"matplotlib.axis_2\">\n    <g id=\"ytick_1\">\n     <g id=\"line2d_10\">\n      <defs>\n       <path d=\"M 0 0 \nL -3.5 0 \n\" id=\"m777ca47cb9\" style=\"stroke:#ffffff;stroke-width:0.8;\"/>\n      </defs>\n      <g>\n       <use style=\"fill:#ffffff;stroke:#ffffff;stroke-width:0.8;\" x=\"52.375\" xlink:href=\"#m777ca47cb9\" y=\"224.64\"/>\n      </g>\n     </g>\n     <g id=\"text_10\">\n      <!-- 0 -->\n      <g style=\"fill:#ffffff;\" transform=\"translate(39.0125 228.439219)scale(0.1 -0.1)\">\n       <use xlink:href=\"#DejaVuSans-48\"/>\n      </g>\n     </g>\n    </g>\n    <g id=\"ytick_2\">\n     <g id=\"line2d_11\">\n      <g>\n       <use style=\"fill:#ffffff;stroke:#ffffff;stroke-width:0.8;\" x=\"52.375\" xlink:href=\"#m777ca47cb9\" y=\"190.313253\"/>\n      </g>\n     </g>\n     <g id=\"text_11\">\n      <!-- 100000 -->\n      <g style=\"fill:#ffffff;\" transform=\"translate(7.2 194.112471)scale(0.1 -0.1)\">\n       <use xlink:href=\"#DejaVuSans-49\"/>\n       <use x=\"63.623047\" xlink:href=\"#DejaVuSans-48\"/>\n       <use x=\"127.246094\" xlink:href=\"#DejaVuSans-48\"/>\n       <use x=\"190.869141\" xlink:href=\"#DejaVuSans-48\"/>\n       <use x=\"254.492188\" xlink:href=\"#DejaVuSans-48\"/>\n       <use x=\"318.115234\" xlink:href=\"#DejaVuSans-48\"/>\n      </g>\n     </g>\n    </g>\n    <g id=\"ytick_3\">\n     <g id=\"line2d_12\">\n      <g>\n       <use style=\"fill:#ffffff;stroke:#ffffff;stroke-width:0.8;\" x=\"52.375\" xlink:href=\"#m777ca47cb9\" y=\"155.986505\"/>\n      </g>\n     </g>\n     <g id=\"text_12\">\n      <!-- 200000 -->\n      <g style=\"fill:#ffffff;\" transform=\"translate(7.2 159.785724)scale(0.1 -0.1)\">\n       <use xlink:href=\"#DejaVuSans-50\"/>\n       <use x=\"63.623047\" xlink:href=\"#DejaVuSans-48\"/>\n       <use x=\"127.246094\" xlink:href=\"#DejaVuSans-48\"/>\n       <use x=\"190.869141\" xlink:href=\"#DejaVuSans-48\"/>\n       <use x=\"254.492188\" xlink:href=\"#DejaVuSans-48\"/>\n       <use x=\"318.115234\" xlink:href=\"#DejaVuSans-48\"/>\n      </g>\n     </g>\n    </g>\n    <g id=\"ytick_4\">\n     <g id=\"line2d_13\">\n      <g>\n       <use style=\"fill:#ffffff;stroke:#ffffff;stroke-width:0.8;\" x=\"52.375\" xlink:href=\"#m777ca47cb9\" y=\"121.659758\"/>\n      </g>\n     </g>\n     <g id=\"text_13\">\n      <!-- 300000 -->\n      <g style=\"fill:#ffffff;\" transform=\"translate(7.2 125.458977)scale(0.1 -0.1)\">\n       <use xlink:href=\"#DejaVuSans-51\"/>\n       <use x=\"63.623047\" xlink:href=\"#DejaVuSans-48\"/>\n       <use x=\"127.246094\" xlink:href=\"#DejaVuSans-48\"/>\n       <use x=\"190.869141\" xlink:href=\"#DejaVuSans-48\"/>\n       <use x=\"254.492188\" xlink:href=\"#DejaVuSans-48\"/>\n       <use x=\"318.115234\" xlink:href=\"#DejaVuSans-48\"/>\n      </g>\n     </g>\n    </g>\n    <g id=\"ytick_5\">\n     <g id=\"line2d_14\">\n      <g>\n       <use style=\"fill:#ffffff;stroke:#ffffff;stroke-width:0.8;\" x=\"52.375\" xlink:href=\"#m777ca47cb9\" y=\"87.333011\"/>\n      </g>\n     </g>\n     <g id=\"text_14\">\n      <!-- 400000 -->\n      <g style=\"fill:#ffffff;\" transform=\"translate(7.2 91.13223)scale(0.1 -0.1)\">\n       <use xlink:href=\"#DejaVuSans-52\"/>\n       <use x=\"63.623047\" xlink:href=\"#DejaVuSans-48\"/>\n       <use x=\"127.246094\" xlink:href=\"#DejaVuSans-48\"/>\n       <use x=\"190.869141\" xlink:href=\"#DejaVuSans-48\"/>\n       <use x=\"254.492188\" xlink:href=\"#DejaVuSans-48\"/>\n       <use x=\"318.115234\" xlink:href=\"#DejaVuSans-48\"/>\n      </g>\n     </g>\n    </g>\n    <g id=\"ytick_6\">\n     <g id=\"line2d_15\">\n      <g>\n       <use style=\"fill:#ffffff;stroke:#ffffff;stroke-width:0.8;\" x=\"52.375\" xlink:href=\"#m777ca47cb9\" y=\"53.006264\"/>\n      </g>\n     </g>\n     <g id=\"text_15\">\n      <!-- 500000 -->\n      <g style=\"fill:#ffffff;\" transform=\"translate(7.2 56.805482)scale(0.1 -0.1)\">\n       <use xlink:href=\"#DejaVuSans-53\"/>\n       <use x=\"63.623047\" xlink:href=\"#DejaVuSans-48\"/>\n       <use x=\"127.246094\" xlink:href=\"#DejaVuSans-48\"/>\n       <use x=\"190.869141\" xlink:href=\"#DejaVuSans-48\"/>\n       <use x=\"254.492188\" xlink:href=\"#DejaVuSans-48\"/>\n       <use x=\"318.115234\" xlink:href=\"#DejaVuSans-48\"/>\n      </g>\n     </g>\n    </g>\n    <g id=\"ytick_7\">\n     <g id=\"line2d_16\">\n      <g>\n       <use style=\"fill:#ffffff;stroke:#ffffff;stroke-width:0.8;\" x=\"52.375\" xlink:href=\"#m777ca47cb9\" y=\"18.679516\"/>\n      </g>\n     </g>\n     <g id=\"text_16\">\n      <!-- 600000 -->\n      <g style=\"fill:#ffffff;\" transform=\"translate(7.2 22.478735)scale(0.1 -0.1)\">\n       <defs>\n        <path d=\"M 33.015625 40.375 \nQ 26.375 40.375 22.484375 35.828125 \nQ 18.609375 31.296875 18.609375 23.390625 \nQ 18.609375 15.53125 22.484375 10.953125 \nQ 26.375 6.390625 33.015625 6.390625 \nQ 39.65625 6.390625 43.53125 10.953125 \nQ 47.40625 15.53125 47.40625 23.390625 \nQ 47.40625 31.296875 43.53125 35.828125 \nQ 39.65625 40.375 33.015625 40.375 \nz\nM 52.59375 71.296875 \nL 52.59375 62.3125 \nQ 48.875 64.0625 45.09375 64.984375 \nQ 41.3125 65.921875 37.59375 65.921875 \nQ 27.828125 65.921875 22.671875 59.328125 \nQ 17.53125 52.734375 16.796875 39.40625 \nQ 19.671875 43.65625 24.015625 45.921875 \nQ 28.375 48.1875 33.59375 48.1875 \nQ 44.578125 48.1875 50.953125 41.515625 \nQ 57.328125 34.859375 57.328125 23.390625 \nQ 57.328125 12.15625 50.6875 5.359375 \nQ 44.046875 -1.421875 33.015625 -1.421875 \nQ 20.359375 -1.421875 13.671875 8.265625 \nQ 6.984375 17.96875 6.984375 36.375 \nQ 6.984375 53.65625 15.1875 63.9375 \nQ 23.390625 74.21875 37.203125 74.21875 \nQ 40.921875 74.21875 44.703125 73.484375 \nQ 48.484375 72.75 52.59375 71.296875 \nz\n\" id=\"DejaVuSans-54\"/>\n       </defs>\n       <use xlink:href=\"#DejaVuSans-54\"/>\n       <use x=\"63.623047\" xlink:href=\"#DejaVuSans-48\"/>\n       <use x=\"127.246094\" xlink:href=\"#DejaVuSans-48\"/>\n       <use x=\"190.869141\" xlink:href=\"#DejaVuSans-48\"/>\n       <use x=\"254.492188\" xlink:href=\"#DejaVuSans-48\"/>\n       <use x=\"318.115234\" xlink:href=\"#DejaVuSans-48\"/>\n      </g>\n     </g>\n    </g>\n   </g>\n   <g id=\"patch_23\">\n    <path d=\"M 52.375 224.64 \nL 52.375 7.2 \n\" style=\"fill:none;stroke:#ffffff;stroke-linecap:square;stroke-linejoin:miter;stroke-width:0.8;\"/>\n   </g>\n   <g id=\"patch_24\">\n    <path d=\"M 387.175 224.64 \nL 387.175 7.2 \n\" style=\"fill:none;stroke:#ffffff;stroke-linecap:square;stroke-linejoin:miter;stroke-width:0.8;\"/>\n   </g>\n   <g id=\"patch_25\">\n    <path d=\"M 52.375 224.64 \nL 387.175 224.64 \n\" style=\"fill:none;stroke:#ffffff;stroke-linecap:square;stroke-linejoin:miter;stroke-width:0.8;\"/>\n   </g>\n   <g id=\"patch_26\">\n    <path d=\"M 52.375 7.2 \nL 387.175 7.2 \n\" style=\"fill:none;stroke:#ffffff;stroke-linecap:square;stroke-linejoin:miter;stroke-width:0.8;\"/>\n   </g>\n  </g>\n </g>\n <defs>\n  <clipPath id=\"peb9c507169\">\n   <rect height=\"217.44\" width=\"334.8\" x=\"52.375\" y=\"7.2\"/>\n  </clipPath>\n </defs>\n</svg>\n",
      "image/png": "[encoded data removed]"
     },
     "metadata": {}
    }
   ],
   "source": [
    "t = df_plot[(df_plot.label == 3)][col_name]\n",
    "t = df_plot[col_name]\n",
    "plt.hist(t, bins = 20);"
   ]
  },
  {
   "cell_type": "code",
   "execution_count": 48,
   "metadata": {},
   "outputs": [
    {
     "output_type": "execute_result",
     "data": {
      "text/plain": [
       "Counter({6.0: 14619,\n",
       "         4.0: 14181,\n",
       "         16.0: 2294,\n",
       "         8.0: 7144,\n",
       "         12.0: 1366,\n",
       "         32.0: 262,\n",
       "         5.0: 3,\n",
       "         3.0: 1789,\n",
       "         24.0: 197,\n",
       "         96.0: 1,\n",
       "         48.0: 55,\n",
       "         400.0: 1,\n",
       "         14.0: 1})"
      ]
     },
     "metadata": {},
     "execution_count": 48
    }
   ],
   "source": [
    "Counter(t)"
   ]
  },
  {
   "cell_type": "code",
   "execution_count": 28,
   "metadata": {},
   "outputs": [],
   "source": [
    "# sns.displot(t, kde = False)"
   ]
  },
  {
   "cell_type": "code",
   "execution_count": 64,
   "metadata": {},
   "outputs": [],
   "source": [
    "# label_plot.box_label(df_plot, col_name, use_log = False, violin = True)"
   ]
  },
  {
   "cell_type": "code",
   "execution_count": 66,
   "metadata": {},
   "outputs": [],
   "source": [
    "# label_plot.box_label(df_plot, 'acc_wd_std', use_log = True, violin = False)"
   ]
  },
  {
   "cell_type": "code",
   "execution_count": 65,
   "metadata": {},
   "outputs": [],
   "source": [
    "# plt.figure(figsize = [12, 8])\n",
    "# plt.subplot(1, 2, 1)\n",
    "# plt.scatter(range(8), data.df[['label', col_name]].groupby('label').mean())\n",
    "# plt.xticks(range(8), list(label_dic.values()));\n",
    "# plt.subplot(1, 2, 2)\n",
    "# data.df['tmp'] = data.df[['label', col_name]].rolling(10).std()[col_name]\n",
    "# plt.scatter(range(8), data.df[['label', 'tmp']].groupby('label').std())\n",
    "# plt.xticks(range(8), list(label_dic.values()));"
   ]
  },
  {
   "cell_type": "code",
   "execution_count": 133,
   "metadata": {},
   "outputs": [],
   "source": []
  },
  {
   "cell_type": "code",
   "execution_count": null,
   "metadata": {},
   "outputs": [],
   "source": []
  }
 ]
}