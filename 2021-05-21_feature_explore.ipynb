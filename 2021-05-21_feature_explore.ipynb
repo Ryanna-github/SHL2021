{
 "metadata": {
  "language_info": {
   "codemirror_mode": {
    "name": "ipython",
    "version": 3
   },
   "file_extension": ".py",
   "mimetype": "text/x-python",
   "name": "python",
   "nbconvert_exporter": "python",
   "pygments_lexer": "ipython3",
   "version": "3.8.5"
  },
  "orig_nbformat": 2,
  "kernelspec": {
   "name": "python3",
   "display_name": "Python 3.8.5 64-bit ('base': conda)",
   "metadata": {
    "interpreter": {
     "hash": "dca0ade3e726a953b501b15e8e990130d2b7799f14cfd9f4271676035ebe5511"
    }
   }
  }
 },
 "nbformat": 4,
 "nbformat_minor": 2,
 "cells": [
  {
   "cell_type": "code",
   "execution_count": 4,
   "metadata": {},
   "outputs": [
    {
     "output_type": "stream",
     "name": "stdout",
     "text": [
      "The autoreload extension is already loaded. To reload it, use:\n  %reload_ext autoreload\n"
     ]
    }
   ],
   "source": [
    "import pandas as pd\n",
    "import numpy as np \n",
    "import matplotlib.pyplot as plt \n",
    "import pickle\n",
    "import seaborn as sns\n",
    "from collections import Counter\n",
    "\n",
    "from utils import DataLoader, DataProcesser, label_plot\n",
    "\n",
    "%load_ext autoreload\n",
    "%autoreload 2"
   ]
  },
  {
   "cell_type": "code",
   "execution_count": 5,
   "metadata": {},
   "outputs": [],
   "source": [
    "label_dic = {1: 'Still', 2: 'Walking', 3: 'Run', 4: 'Bike', 5: 'Car', 6: 'Bus', 7: 'Train', 8: 'Subway'}"
   ]
  },
  {
   "source": [
    "# Data"
   ],
   "cell_type": "markdown",
   "metadata": {}
  },
  {
   "cell_type": "code",
   "execution_count": 6,
   "metadata": {},
   "outputs": [],
   "source": [
    "with open('data/mid_res/data_detail_full.pickle', 'rb') as file:\n",
    "    data = pickle.load(file)"
   ]
  },
  {
   "cell_type": "code",
   "execution_count": 7,
   "metadata": {},
   "outputs": [],
   "source": [
    "# dp = DataProcesser.DataProcesser(data)\n",
    "# dp.process_pipe()"
   ]
  },
  {
   "cell_type": "code",
   "execution_count": 8,
   "metadata": {},
   "outputs": [],
   "source": [
    "# data.df.to_csv(\"data/mid_res/data_ft_v1.csv\", header = True, index = False)"
   ]
  },
  {
   "cell_type": "code",
   "execution_count": 9,
   "metadata": {},
   "outputs": [],
   "source": [
    "data.df = pd.read_csv('data/mid_res/data_ft_v1.csv')"
   ]
  },
  {
   "cell_type": "code",
   "execution_count": 10,
   "metadata": {},
   "outputs": [
    {
     "output_type": "execute_result",
     "data": {
      "text/plain": [
       "(980527, 44)"
      ]
     },
     "metadata": {},
     "execution_count": 10
    }
   ],
   "source": [
    "list(data.df)"
   ]
  },
  {
   "source": [
    "# Feature"
   ],
   "cell_type": "markdown",
   "metadata": {}
  },
  {
   "cell_type": "code",
   "execution_count": 129,
   "metadata": {},
   "outputs": [
    {
     "output_type": "execute_result",
     "data": {
      "text/plain": [
       "['time',\n",
       " 'label',\n",
       " 'accuracy',\n",
       " 'latitude',\n",
       " 'longitude',\n",
       " 'altitude',\n",
       " 'num_gps',\n",
       " 'num_wifi',\n",
       " 'num_cells',\n",
       " 'time_dlt',\n",
       " 'valid_dlt',\n",
       " 'east',\n",
       " 'north',\n",
       " 'east_dlt',\n",
       " 'north_dlt',\n",
       " 'east_speed',\n",
       " 'north_speed',\n",
       " 'speed',\n",
       " 'speed_dif',\n",
       " 'speed_dlt',\n",
       " 'acc',\n",
       " 'wifi_rssi_mode',\n",
       " 'wifi_rssi_mean',\n",
       " 'wifi_rssi_min',\n",
       " 'wifi_rssi_max',\n",
       " 'wifi_rssi_std',\n",
       " 'wifi_freq_5ratio',\n",
       " 'cells_ctype_mode',\n",
       " 'cells_isRegistered_mean',\n",
       " 'cells_asuLevel_mean',\n",
       " 'cells_dbm_mean',\n",
       " 'cells_level_mean',\n",
       " 'cells_asuLevel_min',\n",
       " 'cells_dbm_min',\n",
       " 'cells_level_min',\n",
       " 'cells_asuLevel_max',\n",
       " 'cells_dbm_max',\n",
       " 'cells_level_max',\n",
       " 'cells_asuLevel_std',\n",
       " 'cells_dbm_std',\n",
       " 'gps_snr_mean',\n",
       " 'gps_snr_min',\n",
       " 'gps_snr_max',\n",
       " 'gps_snr_std']"
      ]
     },
     "metadata": {},
     "execution_count": 129
    }
   ],
   "source": [
    "list(data.df)"
   ]
  },
  {
   "cell_type": "code",
   "execution_count": 126,
   "metadata": {},
   "outputs": [],
   "source": [
    "col_name = 'speed'"
   ]
  },
  {
   "cell_type": "code",
   "execution_count": 130,
   "metadata": {},
   "outputs": [],
   "source": [
    "label_plot.plot_label(data.df, col_name)"
   ]
  },
  {
   "cell_type": "code",
   "execution_count": 131,
   "metadata": {},
   "outputs": [],
   "source": [
    "label_plot.box_label(data.df, col_name, use_log = False, violin = False)"
   ]
  },
  {
   "cell_type": "code",
   "execution_count": 132,
   "metadata": {},
   "outputs": [],
   "source": [
    "# plt.scatter(range(8), data.df[['label', col_name]].groupby('label').mean())\n",
    "# plt.xticks(range(8), list(label_dic.values()));"
   ]
  },
  {
   "cell_type": "code",
   "execution_count": 133,
   "metadata": {},
   "outputs": [],
   "source": [
    "# plt.scatter(range(8), data.df[['label', 'num_gps_wd_std']].groupby('label').std())\n",
    "# plt.xticks(range(8), list(label_dic.values()));"
   ]
  },
  {
   "cell_type": "code",
   "execution_count": 20,
   "metadata": {},
   "outputs": [],
   "source": [
    "# data re-process\n",
    "# data.df['speed'] = data.df.apply(lambda x: np.log(x['speed'] + 1), axis = 1) # 运行一遍\n",
    "data.df['speed_dlt'] = data.df['speed'].diff(1)\n",
    "data.df['acc'] = data.df.apply(lambda x: x['speed_dlt']/x['time_dlt'] if x['valid_dlt'] == 1 else np.nan, axis = 1)"
   ]
  },
  {
   "cell_type": "code",
   "execution_count": 76,
   "metadata": {},
   "outputs": [],
   "source": [
    "# window feature\n",
    "data.df['acc_wd_std'] = data.df[['label', 'acc']].rolling(10).std()['acc']"
   ]
  },
  {
   "cell_type": "code",
   "execution_count": null,
   "metadata": {},
   "outputs": [],
   "source": []
  }
 ]
}